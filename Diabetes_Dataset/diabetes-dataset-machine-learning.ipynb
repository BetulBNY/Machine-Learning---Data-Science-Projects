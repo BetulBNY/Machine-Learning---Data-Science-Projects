{
 "cells": [
  {
   "cell_type": "markdown",
   "id": "853a9f7e",
   "metadata": {
    "papermill": {
     "duration": 0.02034,
     "end_time": "2025-03-05T19:24:57.018138",
     "exception": false,
     "start_time": "2025-03-05T19:24:56.997798",
     "status": "completed"
    },
    "tags": []
   },
   "source": [
    "##### Problem : \n",
    "Özellikleri belirtildiğinde kişilerin diyabet hastası olup olmadıklarını tahmin edebilecek bir makine öğrenmesi modeli geliştirilmesi istenmektedir. Modeli geliştirmeden önce gerekli olan veri analizi ve özellik mühendisliği adımlarını gerçekleştirmeniz beklenmektedir.\n",
    "\n",
    "#####  Veri seti ABD'deki Ulusal Diyabet-Sindirim-Böbrek Hastalıkları Enstitüleri'nde tutulan büyük veri setinin parçasıdır.\n",
    "ABD'deki Arizona Eyaleti'nin en büyük 5. şehri olan Phoenix şehrinde yaşayan 21 yaş ve üzerinde olan Pima Indian kadınları üzerinde yapılan diyabet araştırması için kullanılan verilerdir. 768 gözlem ve 8 sayısal bağımsız değişkenden oluşmaktadır. Hedef değişken \"outcome\" olarak belirtilmiş olup; 1 diyabet test sonucunun pozitif oluşunu, 0 ise negatif oluşunu belirtmektedir.\n"
   ]
  },
  {
   "cell_type": "markdown",
   "id": "c6ebf5de",
   "metadata": {
    "papermill": {
     "duration": 0.018701,
     "end_time": "2025-03-05T19:24:57.055958",
     "exception": false,
     "start_time": "2025-03-05T19:24:57.037257",
     "status": "completed"
    },
    "tags": []
   },
   "source": [
    "Değişkenler:\n",
    "* Pregnancies: Hamilelik sayısı\n",
    "* Glucose: Glikoz\n",
    "* BloodPressure: Kan basıncı (Diastolic(Küçük Tansiyon))\n",
    "* SkinThickness: Cilt Kalınlığı\n",
    "* Insulin: İnsülin.\n",
    "* BMI: Beden kitle indeksi.\n",
    "* DiabetesPedigreeFunction: Soyumuzdaki kişilere göre diyabet olma ihtimalimizi hesaplayan bir fonksiyon.\n",
    "* Age: Yaş (yıl)\n",
    "* Outcome: Kişinin diyabet olup olmadığı bilgisi. Hastalığa sahip (1) ya da değil (0)"
   ]
  },
  {
   "cell_type": "code",
   "execution_count": 1,
   "id": "55fb91c9",
   "metadata": {
    "execution": {
     "iopub.execute_input": "2025-03-05T19:24:57.095542Z",
     "iopub.status.busy": "2025-03-05T19:24:57.095168Z",
     "iopub.status.idle": "2025-03-05T19:25:00.355978Z",
     "shell.execute_reply": "2025-03-05T19:25:00.354998Z"
    },
    "papermill": {
     "duration": 3.282582,
     "end_time": "2025-03-05T19:25:00.357837",
     "exception": false,
     "start_time": "2025-03-05T19:24:57.075255",
     "status": "completed"
    },
    "tags": []
   },
   "outputs": [],
   "source": [
    "# Gerekli Kütüphane ve Fonksiyonlar\n",
    "import numpy as np\n",
    "import pandas as pd\n",
    "import matplotlib.pyplot as plt\n",
    "import seaborn as sns\n",
    "from sklearn.metrics import accuracy_score, precision_score, recall_score, f1_score,roc_auc_score\n",
    "# from sklearn.model_selection import GridSearchCV, cross_validate\n",
    "from sklearn.model_selection import train_test_split\n",
    "from sklearn.preprocessing import LabelEncoder\n",
    "from sklearn.ensemble import RandomForestClassifier\n",
    "from sklearn.preprocessing import StandardScaler\n",
    "import warnings\n",
    "warnings.simplefilter(action=\"ignore\")\n",
    "\n",
    "pd.set_option('display.max_columns', None)\n",
    "pd.set_option('display.width', None)\n",
    "pd.set_option('display.max_rows', 20)\n",
    "pd.set_option('display.float_format', lambda x: '%.3f' % x)"
   ]
  },
  {
   "cell_type": "code",
   "execution_count": 2,
   "id": "cd81587e",
   "metadata": {
    "execution": {
     "iopub.execute_input": "2025-03-05T19:25:00.397563Z",
     "iopub.status.busy": "2025-03-05T19:25:00.397010Z",
     "iopub.status.idle": "2025-03-05T19:25:00.436645Z",
     "shell.execute_reply": "2025-03-05T19:25:00.435613Z"
    },
    "papermill": {
     "duration": 0.06134,
     "end_time": "2025-03-05T19:25:00.438487",
     "exception": false,
     "start_time": "2025-03-05T19:25:00.377147",
     "status": "completed"
    },
    "tags": []
   },
   "outputs": [
    {
     "data": {
      "text/html": [
       "<div>\n",
       "<style scoped>\n",
       "    .dataframe tbody tr th:only-of-type {\n",
       "        vertical-align: middle;\n",
       "    }\n",
       "\n",
       "    .dataframe tbody tr th {\n",
       "        vertical-align: top;\n",
       "    }\n",
       "\n",
       "    .dataframe thead th {\n",
       "        text-align: right;\n",
       "    }\n",
       "</style>\n",
       "<table border=\"1\" class=\"dataframe\">\n",
       "  <thead>\n",
       "    <tr style=\"text-align: right;\">\n",
       "      <th></th>\n",
       "      <th>Pregnancies</th>\n",
       "      <th>Glucose</th>\n",
       "      <th>BloodPressure</th>\n",
       "      <th>SkinThickness</th>\n",
       "      <th>Insulin</th>\n",
       "      <th>BMI</th>\n",
       "      <th>DiabetesPedigreeFunction</th>\n",
       "      <th>Age</th>\n",
       "      <th>Outcome</th>\n",
       "    </tr>\n",
       "  </thead>\n",
       "  <tbody>\n",
       "    <tr>\n",
       "      <th>0</th>\n",
       "      <td>6</td>\n",
       "      <td>148</td>\n",
       "      <td>72</td>\n",
       "      <td>35</td>\n",
       "      <td>0</td>\n",
       "      <td>33.600</td>\n",
       "      <td>0.627</td>\n",
       "      <td>50</td>\n",
       "      <td>1</td>\n",
       "    </tr>\n",
       "    <tr>\n",
       "      <th>1</th>\n",
       "      <td>1</td>\n",
       "      <td>85</td>\n",
       "      <td>66</td>\n",
       "      <td>29</td>\n",
       "      <td>0</td>\n",
       "      <td>26.600</td>\n",
       "      <td>0.351</td>\n",
       "      <td>31</td>\n",
       "      <td>0</td>\n",
       "    </tr>\n",
       "    <tr>\n",
       "      <th>2</th>\n",
       "      <td>8</td>\n",
       "      <td>183</td>\n",
       "      <td>64</td>\n",
       "      <td>0</td>\n",
       "      <td>0</td>\n",
       "      <td>23.300</td>\n",
       "      <td>0.672</td>\n",
       "      <td>32</td>\n",
       "      <td>1</td>\n",
       "    </tr>\n",
       "    <tr>\n",
       "      <th>3</th>\n",
       "      <td>1</td>\n",
       "      <td>89</td>\n",
       "      <td>66</td>\n",
       "      <td>23</td>\n",
       "      <td>94</td>\n",
       "      <td>28.100</td>\n",
       "      <td>0.167</td>\n",
       "      <td>21</td>\n",
       "      <td>0</td>\n",
       "    </tr>\n",
       "    <tr>\n",
       "      <th>4</th>\n",
       "      <td>0</td>\n",
       "      <td>137</td>\n",
       "      <td>40</td>\n",
       "      <td>35</td>\n",
       "      <td>168</td>\n",
       "      <td>43.100</td>\n",
       "      <td>2.288</td>\n",
       "      <td>33</td>\n",
       "      <td>1</td>\n",
       "    </tr>\n",
       "  </tbody>\n",
       "</table>\n",
       "</div>"
      ],
      "text/plain": [
       "   Pregnancies  Glucose  BloodPressure  SkinThickness  Insulin    BMI  \\\n",
       "0            6      148             72             35        0 33.600   \n",
       "1            1       85             66             29        0 26.600   \n",
       "2            8      183             64              0        0 23.300   \n",
       "3            1       89             66             23       94 28.100   \n",
       "4            0      137             40             35      168 43.100   \n",
       "\n",
       "   DiabetesPedigreeFunction  Age  Outcome  \n",
       "0                     0.627   50        1  \n",
       "1                     0.351   31        0  \n",
       "2                     0.672   32        1  \n",
       "3                     0.167   21        0  \n",
       "4                     2.288   33        1  "
      ]
     },
     "execution_count": 2,
     "metadata": {},
     "output_type": "execute_result"
    }
   ],
   "source": [
    "df = pd.read_csv(\"/kaggle/input/diabetes-dataset/diabetes.csv\")\n",
    "df.head()"
   ]
  },
  {
   "cell_type": "markdown",
   "id": "ac78163c",
   "metadata": {
    "papermill": {
     "duration": 0.019138,
     "end_time": "2025-03-05T19:25:00.477656",
     "exception": false,
     "start_time": "2025-03-05T19:25:00.458518",
     "status": "completed"
    },
    "tags": []
   },
   "source": [
    "## GÖREV 1: KEŞİFCİ VERİ ANALİZİ (EDA)"
   ]
  },
  {
   "cell_type": "code",
   "execution_count": 3,
   "id": "17750dfc",
   "metadata": {
    "execution": {
     "iopub.execute_input": "2025-03-05T19:25:00.518121Z",
     "iopub.status.busy": "2025-03-05T19:25:00.517807Z",
     "iopub.status.idle": "2025-03-05T19:25:00.523556Z",
     "shell.execute_reply": "2025-03-05T19:25:00.522498Z"
    },
    "papermill": {
     "duration": 0.027827,
     "end_time": "2025-03-05T19:25:00.525128",
     "exception": false,
     "start_time": "2025-03-05T19:25:00.497301",
     "status": "completed"
    },
    "tags": []
   },
   "outputs": [],
   "source": [
    "##################################\n",
    "# GENEL RESİM\n",
    "##################################\n",
    "\n",
    "def check_df(dataframe, head=5):\n",
    "    print(\"##################### Shape #####################\")\n",
    "    print(dataframe.shape)\n",
    "    print(\"##################### Types #####################\")\n",
    "    print(dataframe.dtypes)\n",
    "    print(\"##################### Head #####################\")\n",
    "    print(dataframe.head(head))\n",
    "    print(\"##################### Tail #####################\")\n",
    "    print(dataframe.tail(head))\n",
    "    print(\"##################### NA #####################\")\n",
    "    print(dataframe.isnull().sum()) #eksik deger var mı? varsa kac tane?\n",
    "    print(\"##################### Quantiles #####################\")\n",
    "    print(dataframe.quantile([0, 0.05, 0.50, 0.95, 0.99, 1]).T) # sayısal değişkenlerin ceyrekliklerinin incelenmesi"
   ]
  },
  {
   "cell_type": "code",
   "execution_count": 4,
   "id": "97eda701",
   "metadata": {
    "execution": {
     "iopub.execute_input": "2025-03-05T19:25:00.564701Z",
     "iopub.status.busy": "2025-03-05T19:25:00.564362Z",
     "iopub.status.idle": "2025-03-05T19:25:00.587879Z",
     "shell.execute_reply": "2025-03-05T19:25:00.586611Z"
    },
    "papermill": {
     "duration": 0.045398,
     "end_time": "2025-03-05T19:25:00.589735",
     "exception": false,
     "start_time": "2025-03-05T19:25:00.544337",
     "status": "completed"
    },
    "tags": []
   },
   "outputs": [
    {
     "name": "stdout",
     "output_type": "stream",
     "text": [
      "##################### Shape #####################\n",
      "(768, 9)\n",
      "##################### Types #####################\n",
      "Pregnancies                   int64\n",
      "Glucose                       int64\n",
      "BloodPressure                 int64\n",
      "SkinThickness                 int64\n",
      "Insulin                       int64\n",
      "BMI                         float64\n",
      "DiabetesPedigreeFunction    float64\n",
      "Age                           int64\n",
      "Outcome                       int64\n",
      "dtype: object\n",
      "##################### Head #####################\n",
      "   Pregnancies  Glucose  BloodPressure  SkinThickness  Insulin    BMI  \\\n",
      "0            6      148             72             35        0 33.600   \n",
      "1            1       85             66             29        0 26.600   \n",
      "2            8      183             64              0        0 23.300   \n",
      "3            1       89             66             23       94 28.100   \n",
      "4            0      137             40             35      168 43.100   \n",
      "\n",
      "   DiabetesPedigreeFunction  Age  Outcome  \n",
      "0                     0.627   50        1  \n",
      "1                     0.351   31        0  \n",
      "2                     0.672   32        1  \n",
      "3                     0.167   21        0  \n",
      "4                     2.288   33        1  \n",
      "##################### Tail #####################\n",
      "     Pregnancies  Glucose  BloodPressure  SkinThickness  Insulin    BMI  \\\n",
      "763           10      101             76             48      180 32.900   \n",
      "764            2      122             70             27        0 36.800   \n",
      "765            5      121             72             23      112 26.200   \n",
      "766            1      126             60              0        0 30.100   \n",
      "767            1       93             70             31        0 30.400   \n",
      "\n",
      "     DiabetesPedigreeFunction  Age  Outcome  \n",
      "763                     0.171   63        0  \n",
      "764                     0.340   27        0  \n",
      "765                     0.245   30        0  \n",
      "766                     0.349   47        1  \n",
      "767                     0.315   23        0  \n",
      "##################### NA #####################\n",
      "Pregnancies                 0\n",
      "Glucose                     0\n",
      "BloodPressure               0\n",
      "SkinThickness               0\n",
      "Insulin                     0\n",
      "BMI                         0\n",
      "DiabetesPedigreeFunction    0\n",
      "Age                         0\n",
      "Outcome                     0\n",
      "dtype: int64\n",
      "##################### Quantiles #####################\n",
      "                          0.000  0.050   0.500   0.950   0.990   1.000\n",
      "Pregnancies               0.000  0.000   3.000  10.000  13.000  17.000\n",
      "Glucose                   0.000 79.000 117.000 181.000 196.000 199.000\n",
      "BloodPressure             0.000 38.700  72.000  90.000 106.000 122.000\n",
      "SkinThickness             0.000  0.000  23.000  44.000  51.330  99.000\n",
      "Insulin                   0.000  0.000  30.500 293.000 519.900 846.000\n",
      "BMI                       0.000 21.800  32.000  44.395  50.759  67.100\n",
      "DiabetesPedigreeFunction  0.078  0.140   0.372   1.133   1.698   2.420\n",
      "Age                      21.000 21.000  29.000  58.000  67.000  81.000\n",
      "Outcome                   0.000  0.000   0.000   1.000   1.000   1.000\n"
     ]
    }
   ],
   "source": [
    "check_df(df)"
   ]
  },
  {
   "cell_type": "markdown",
   "id": "70745780",
   "metadata": {
    "papermill": {
     "duration": 0.019122,
     "end_time": "2025-03-05T19:25:00.628574",
     "exception": false,
     "start_time": "2025-03-05T19:25:00.609452",
     "status": "completed"
    },
    "tags": []
   },
   "source": [
    "* Glucose degeri sıfır olabilir mi?\n",
    "* Insulin degeri sıfır olabilir mi ?\n",
    "* Kan basıncı sıfır olabilir mi?\n",
    "* Veri setinde eksik degereler vardı da sıfır basıldı?\n",
    "* Insulin degerinde 95 ceyreklikten max degere buyuk bir sıcrayıs var bu da aykırı deger olabileceginin bir sinyali"
   ]
  },
  {
   "cell_type": "markdown",
   "id": "fa351fc6",
   "metadata": {
    "papermill": {
     "duration": 0.019297,
     "end_time": "2025-03-05T19:25:00.667001",
     "exception": false,
     "start_time": "2025-03-05T19:25:00.647704",
     "status": "completed"
    },
    "tags": []
   },
   "source": [
    "## 1.1) NUMERİK VE KATEGORİK DEĞİŞKENLERİN YAKALANMASI"
   ]
  },
  {
   "cell_type": "code",
   "execution_count": 5,
   "id": "6cd12e5f",
   "metadata": {
    "execution": {
     "iopub.execute_input": "2025-03-05T19:25:00.706391Z",
     "iopub.status.busy": "2025-03-05T19:25:00.705994Z",
     "iopub.status.idle": "2025-03-05T19:25:00.714133Z",
     "shell.execute_reply": "2025-03-05T19:25:00.713006Z"
    },
    "papermill": {
     "duration": 0.029782,
     "end_time": "2025-03-05T19:25:00.715793",
     "exception": false,
     "start_time": "2025-03-05T19:25:00.686011",
     "status": "completed"
    },
    "tags": []
   },
   "outputs": [],
   "source": [
    "def grab_col_names(dataframe, cat_th=10, car_th=20):\n",
    "    \"\"\"\n",
    "\n",
    "    Veri setindeki kategorik, numerik ve kategorik fakat kardinal değişkenlerin isimlerini verir.\n",
    "    Not: Kategorik değişkenlerin içerisine numerik görünümlü kategorik değişkenler de dahildir.\n",
    "\n",
    "    Parameters\n",
    "    ------\n",
    "        dataframe: dataframe\n",
    "                Değişken isimleri alınmak istenilen dataframe\n",
    "        cat_th: int, optional\n",
    "                numerik fakat kategorik olan değişkenler için sınıf eşik değeri\n",
    "        car_th: int, optional\n",
    "                kategorik fakat kardinal değişkenler için sınıf eşik değeri\n",
    "\n",
    "    Returns\n",
    "    ------\n",
    "        cat_cols: list\n",
    "                Kategorik değişken listesi\n",
    "        num_cols: list\n",
    "                Numerik değişken listesi\n",
    "        cat_but_car: list\n",
    "                Kategorik görünümlü kardinal değişken listesi\n",
    "\n",
    "    Examples\n",
    "    ------\n",
    "        import seaborn as sns\n",
    "        df = sns.load_dataset(\"iris\")\n",
    "        print(grab_col_names(df))\n",
    "\n",
    "\n",
    "    Notes\n",
    "    ------\n",
    "        cat_cols + num_cols + cat_but_car = toplam değişken sayısı\n",
    "        num_but_cat cat_cols'un içerisinde.\n",
    "\n",
    "    \"\"\"\n",
    "    # cat_cols, cat_but_car\n",
    "    cat_cols = [col for col in dataframe.columns if dataframe[col].dtypes == \"O\"]\n",
    "    num_but_cat = [col for col in dataframe.columns if dataframe[col].nunique() < cat_th and dataframe[col].dtypes != \"O\"] # 0,1,2\n",
    "    cat_but_car = [col for col in dataframe.columns if dataframe[col].nunique() > car_th and dataframe[col].dtypes == \"O\"] # name\n",
    "    cat_cols = cat_cols + num_but_cat\n",
    "    cat_cols = [col for col in cat_cols if col not in cat_but_car] # cat_cols tüm object  veri tipini tuttugu için içerisinde cat_but_car bulunabilir.\n",
    "\n",
    "    # num_cols\n",
    "    num_cols = [col for col in dataframe.columns if dataframe[col].dtypes != \"O\"]\n",
    "    num_cols = [col for col in num_cols if col not in num_but_cat] #numerik_gorunumlu kategorikler hariç\n",
    "\n",
    "    print(f\"Observations: {dataframe.shape[0]}\") # satır\n",
    "    print(f\"Variables: {dataframe.shape[1]}\") # sutun\n",
    "    print(f'cat_cols: {len(cat_cols)}') # categorik degişken sayısı\n",
    "    print(f'num_cols: {len(num_cols)}') # numerik değişkenler\n",
    "    print(f'cat_but_car: {len(cat_but_car)}') # categorik fakat kardinal\n",
    "    print(f'num_but_cat: {len(num_but_cat)}') # numerik görünümlü kategorik\n",
    "\n",
    "    return cat_cols, num_cols, cat_but_car"
   ]
  },
  {
   "cell_type": "code",
   "execution_count": 6,
   "id": "08fc3310",
   "metadata": {
    "execution": {
     "iopub.execute_input": "2025-03-05T19:25:00.755666Z",
     "iopub.status.busy": "2025-03-05T19:25:00.755293Z",
     "iopub.status.idle": "2025-03-05T19:25:00.767888Z",
     "shell.execute_reply": "2025-03-05T19:25:00.766811Z"
    },
    "papermill": {
     "duration": 0.03461,
     "end_time": "2025-03-05T19:25:00.769676",
     "exception": false,
     "start_time": "2025-03-05T19:25:00.735066",
     "status": "completed"
    },
    "tags": []
   },
   "outputs": [
    {
     "name": "stdout",
     "output_type": "stream",
     "text": [
      "Observations: 768\n",
      "Variables: 9\n",
      "cat_cols: 1\n",
      "num_cols: 8\n",
      "cat_but_car: 0\n",
      "num_but_cat: 1\n"
     ]
    }
   ],
   "source": [
    "cat_cols, num_cols, cat_but_car = grab_col_names(df)"
   ]
  },
  {
   "cell_type": "code",
   "execution_count": 7,
   "id": "54ec2b70",
   "metadata": {
    "execution": {
     "iopub.execute_input": "2025-03-05T19:25:00.811172Z",
     "iopub.status.busy": "2025-03-05T19:25:00.810824Z",
     "iopub.status.idle": "2025-03-05T19:25:00.816401Z",
     "shell.execute_reply": "2025-03-05T19:25:00.815211Z"
    },
    "papermill": {
     "duration": 0.028944,
     "end_time": "2025-03-05T19:25:00.818035",
     "exception": false,
     "start_time": "2025-03-05T19:25:00.789091",
     "status": "completed"
    },
    "tags": []
   },
   "outputs": [
    {
     "name": "stdout",
     "output_type": "stream",
     "text": [
      "['Outcome']\n",
      "['Pregnancies', 'Glucose', 'BloodPressure', 'SkinThickness', 'Insulin', 'BMI', 'DiabetesPedigreeFunction', 'Age']\n",
      "[]\n"
     ]
    }
   ],
   "source": [
    "print(cat_cols)\n",
    "print(num_cols)\n",
    "print(cat_but_car)"
   ]
  },
  {
   "cell_type": "markdown",
   "id": "4eb89123",
   "metadata": {
    "papermill": {
     "duration": 0.019127,
     "end_time": "2025-03-05T19:25:00.856663",
     "exception": false,
     "start_time": "2025-03-05T19:25:00.837536",
     "status": "completed"
    },
    "tags": []
   },
   "source": [
    "## 1.1.1) KATEGORİK DEĞİŞKENLERİN ANALİZİ"
   ]
  },
  {
   "cell_type": "code",
   "execution_count": 8,
   "id": "7274ba98",
   "metadata": {
    "execution": {
     "iopub.execute_input": "2025-03-05T19:25:00.897719Z",
     "iopub.status.busy": "2025-03-05T19:25:00.897334Z",
     "iopub.status.idle": "2025-03-05T19:25:00.902829Z",
     "shell.execute_reply": "2025-03-05T19:25:00.901737Z"
    },
    "papermill": {
     "duration": 0.028357,
     "end_time": "2025-03-05T19:25:00.904683",
     "exception": false,
     "start_time": "2025-03-05T19:25:00.876326",
     "status": "completed"
    },
    "tags": []
   },
   "outputs": [],
   "source": [
    "def cat_summary(dataframe, col_name, plot=False): # plot:true olursa if çalışır.\n",
    "    print(pd.DataFrame({col_name: dataframe[col_name].value_counts(),  #değişkende hangi degerden kacar adet var?\n",
    "                        \"Ratio\": 100 * dataframe[col_name].value_counts() / len(dataframe)})) # deger adetlerini toplam deger sayısına bölümü oran verir.\n",
    "    print(\"##########################################\")\n",
    "    if plot:\n",
    "        sns.countplot(x=dataframe[col_name], data=dataframe)\n",
    "        plt.show()"
   ]
  },
  {
   "cell_type": "code",
   "execution_count": 9,
   "id": "8b8fbb40",
   "metadata": {
    "execution": {
     "iopub.execute_input": "2025-03-05T19:25:00.944531Z",
     "iopub.status.busy": "2025-03-05T19:25:00.944113Z",
     "iopub.status.idle": "2025-03-05T19:25:01.163720Z",
     "shell.execute_reply": "2025-03-05T19:25:01.162662Z"
    },
    "papermill": {
     "duration": 0.241304,
     "end_time": "2025-03-05T19:25:01.165334",
     "exception": false,
     "start_time": "2025-03-05T19:25:00.924030",
     "status": "completed"
    },
    "tags": []
   },
   "outputs": [
    {
     "name": "stdout",
     "output_type": "stream",
     "text": [
      "         Outcome  Ratio\n",
      "Outcome                \n",
      "0            500 65.104\n",
      "1            268 34.896\n",
      "##########################################\n"
     ]
    },
    {
     "data": {
      "image/png": "[encoded data removed]",
      "text/plain": [
       "<Figure size 640x480 with 1 Axes>"
      ]
     },
     "metadata": {},
     "output_type": "display_data"
    }
   ],
   "source": [
    "# kategorik değişkenimde deniyorum.\n",
    "cat_summary(df, \"Outcome\", True)"
   ]
  },
  {
   "cell_type": "code",
   "execution_count": 10,
   "id": "b9160492",
   "metadata": {
    "execution": {
     "iopub.execute_input": "2025-03-05T19:25:01.207157Z",
     "iopub.status.busy": "2025-03-05T19:25:01.206823Z",
     "iopub.status.idle": "2025-03-05T19:25:01.215893Z",
     "shell.execute_reply": "2025-03-05T19:25:01.214536Z"
    },
    "papermill": {
     "duration": 0.03208,
     "end_time": "2025-03-05T19:25:01.217720",
     "exception": false,
     "start_time": "2025-03-05T19:25:01.185640",
     "status": "completed"
    },
    "tags": []
   },
   "outputs": [
    {
     "name": "stdout",
     "output_type": "stream",
     "text": [
      "         Outcome  Ratio\n",
      "Outcome                \n",
      "0            500 65.104\n",
      "1            268 34.896\n",
      "##########################################\n"
     ]
    }
   ],
   "source": [
    "for col in cat_cols:\n",
    "    cat_summary(df, col)"
   ]
  },
  {
   "cell_type": "markdown",
   "id": "692a7d65",
   "metadata": {
    "papermill": {
     "duration": 0.019407,
     "end_time": "2025-03-05T19:25:01.257008",
     "exception": false,
     "start_time": "2025-03-05T19:25:01.237601",
     "status": "completed"
    },
    "tags": []
   },
   "source": [
    "Veri setimizin dengesiz olduğu yorumunu yapabiliriz."
   ]
  },
  {
   "cell_type": "markdown",
   "id": "6ebed990",
   "metadata": {
    "papermill": {
     "duration": 0.080158,
     "end_time": "2025-03-05T19:25:01.357617",
     "exception": false,
     "start_time": "2025-03-05T19:25:01.277459",
     "status": "completed"
    },
    "tags": []
   },
   "source": [
    "## 1.1.2) NUMERİK DEĞİŞKENLERİN ANALİZİ"
   ]
  },
  {
   "cell_type": "code",
   "execution_count": 11,
   "id": "7aa42897",
   "metadata": {
    "execution": {
     "iopub.execute_input": "2025-03-05T19:25:01.398867Z",
     "iopub.status.busy": "2025-03-05T19:25:01.398524Z",
     "iopub.status.idle": "2025-03-05T19:25:01.404404Z",
     "shell.execute_reply": "2025-03-05T19:25:01.403323Z"
    },
    "papermill": {
     "duration": 0.02883,
     "end_time": "2025-03-05T19:25:01.406161",
     "exception": false,
     "start_time": "2025-03-05T19:25:01.377331",
     "status": "completed"
    },
    "tags": []
   },
   "outputs": [],
   "source": [
    "def num_summary(dataframe, numerical_col, plot=False):  # plot:true olursa if çalışır.\n",
    "    quantiles = [0.05, 0.10, 0.20, 0.30, 0.40, 0.50, 0.60, 0.70, 0.80, 0.90, 0.95, 0.99] # hangi ceyreklikleri istiyorum?\n",
    "    print(dataframe[numerical_col].describe(quantiles).T) # istedigim ceyreklikler bazında describe göz atıyorum.\n",
    "\n",
    "    if plot:\n",
    "        dataframe[numerical_col].hist(bins=20)\n",
    "        plt.xlabel(numerical_col)\n",
    "        plt.title(numerical_col)\n",
    "        plt.show()"
   ]
  },
  {
   "cell_type": "code",
   "execution_count": 12,
   "id": "6a99559a",
   "metadata": {
    "execution": {
     "iopub.execute_input": "2025-03-05T19:25:01.447087Z",
     "iopub.status.busy": "2025-03-05T19:25:01.446743Z",
     "iopub.status.idle": "2025-03-05T19:25:03.371336Z",
     "shell.execute_reply": "2025-03-05T19:25:03.370250Z"
    },
    "papermill": {
     "duration": 1.946682,
     "end_time": "2025-03-05T19:25:03.372966",
     "exception": false,
     "start_time": "2025-03-05T19:25:01.426284",
     "status": "completed"
    },
    "tags": []
   },
   "outputs": [
    {
     "name": "stdout",
     "output_type": "stream",
     "text": [
      "count   768.000\n",
      "mean      3.845\n",
      "std       3.370\n",
      "min       0.000\n",
      "5%        0.000\n",
      "10%       0.000\n",
      "20%       1.000\n",
      "30%       1.000\n",
      "40%       2.000\n",
      "50%       3.000\n",
      "60%       4.000\n",
      "70%       5.000\n",
      "80%       7.000\n",
      "90%       9.000\n",
      "95%      10.000\n",
      "99%      13.000\n",
      "max      17.000\n",
      "Name: Pregnancies, dtype: float64\n"
     ]
    },
    {
     "data": {
      "image/png": "[encoded data removed]",
      "text/plain": [
       "<Figure size 640x480 with 1 Axes>"
      ]
     },
     "metadata": {},
     "output_type": "display_data"
    },
    {
     "name": "stdout",
     "output_type": "stream",
     "text": [
      "count   768.000\n",
      "mean    120.895\n",
      "std      31.973\n",
      "min       0.000\n",
      "5%       79.000\n",
      "10%      85.000\n",
      "20%      95.000\n",
      "30%     102.000\n",
      "40%     109.000\n",
      "50%     117.000\n",
      "60%     125.000\n",
      "70%     134.000\n",
      "80%     147.000\n",
      "90%     167.000\n",
      "95%     181.000\n",
      "99%     196.000\n",
      "max     199.000\n",
      "Name: Glucose, dtype: float64\n"
     ]
    },
    {
     "data": {
      "image/png": "[encoded data removed]",
      "text/plain": [
       "<Figure size 640x480 with 1 Axes>"
      ]
     },
     "metadata": {},
     "output_type": "display_data"
    },
    {
     "name": "stdout",
     "output_type": "stream",
     "text": [
      "count   768.000\n",
      "mean     69.105\n",
      "std      19.356\n",
      "min       0.000\n",
      "5%       38.700\n",
      "10%      54.000\n",
      "20%      60.000\n",
      "30%      64.000\n",
      "40%      68.000\n",
      "50%      72.000\n",
      "60%      74.000\n",
      "70%      78.000\n",
      "80%      82.000\n",
      "90%      88.000\n",
      "95%      90.000\n",
      "99%     106.000\n",
      "max     122.000\n",
      "Name: BloodPressure, dtype: float64\n"
     ]
    },
    {
     "data": {
      "image/png": "[encoded data removed]",
      "text/plain": [
       "<Figure size 640x480 with 1 Axes>"
      ]
     },
     "metadata": {},
     "output_type": "display_data"
    },
    {
     "name": "stdout",
     "output_type": "stream",
     "text": [
      "count   768.000\n",
      "mean     20.536\n",
      "std      15.952\n",
      "min       0.000\n",
      "5%        0.000\n",
      "10%       0.000\n",
      "20%       0.000\n",
      "30%       8.200\n",
      "40%      18.000\n",
      "50%      23.000\n",
      "60%      27.000\n",
      "70%      31.000\n",
      "80%      35.000\n",
      "90%      40.000\n",
      "95%      44.000\n",
      "99%      51.330\n",
      "max      99.000\n",
      "Name: SkinThickness, dtype: float64\n"
     ]
    },
    {
     "data": {
      "image/png": "[encoded data removed]",
      "text/plain": [
       "<Figure size 640x480 with 1 Axes>"
      ]
     },
     "metadata": {},
     "output_type": "display_data"
    },
    {
     "name": "stdout",
     "output_type": "stream",
     "text": [
      "count   768.000\n",
      "mean     79.799\n",
      "std     115.244\n",
      "min       0.000\n",
      "5%        0.000\n",
      "10%       0.000\n",
      "20%       0.000\n",
      "30%       0.000\n",
      "40%       0.000\n",
      "50%      30.500\n",
      "60%      72.200\n",
      "70%     106.000\n",
      "80%     150.000\n",
      "90%     210.000\n",
      "95%     293.000\n",
      "99%     519.900\n",
      "max     846.000\n",
      "Name: Insulin, dtype: float64\n"
     ]
    },
    {
     "data": {
      "image/png": "[encoded data removed]",
      "text/plain": [
       "<Figure size 640x480 with 1 Axes>"
      ]
     },
     "metadata": {},
     "output_type": "display_data"
    },
    {
     "name": "stdout",
     "output_type": "stream",
     "text": [
      "count   768.000\n",
      "mean     31.993\n",
      "std       7.884\n",
      "min       0.000\n",
      "5%       21.800\n",
      "10%      23.600\n",
      "20%      25.900\n",
      "30%      28.200\n",
      "40%      30.100\n",
      "50%      32.000\n",
      "60%      33.700\n",
      "70%      35.490\n",
      "80%      37.800\n",
      "90%      41.500\n",
      "95%      44.395\n",
      "99%      50.759\n",
      "max      67.100\n",
      "Name: BMI, dtype: float64\n"
     ]
    },
    {
     "data": {
      "image/png": "[encoded data removed]",
      "text/plain": [
       "<Figure size 640x480 with 1 Axes>"
      ]
     },
     "metadata": {},
     "output_type": "display_data"
    },
    {
     "name": "stdout",
     "output_type": "stream",
     "text": [
      "count   768.000\n",
      "mean      0.472\n",
      "std       0.331\n",
      "min       0.078\n",
      "5%        0.140\n",
      "10%       0.165\n",
      "20%       0.219\n",
      "30%       0.259\n",
      "40%       0.303\n",
      "50%       0.372\n",
      "60%       0.454\n",
      "70%       0.564\n",
      "80%       0.687\n",
      "90%       0.879\n",
      "95%       1.133\n",
      "99%       1.698\n",
      "max       2.420\n",
      "Name: DiabetesPedigreeFunction, dtype: float64\n"
     ]
    },
    {
     "data": {
      "image/png": "[encoded data removed]",
      "text/plain": [
       "<Figure size 640x480 with 1 Axes>"
      ]
     },
     "metadata": {},
     "output_type": "display_data"
    },
    {
     "name": "stdout",
     "output_type": "stream",
     "text": [
      "count   768.000\n",
      "mean     33.241\n",
      "std      11.760\n",
      "min      21.000\n",
      "5%       21.000\n",
      "10%      22.000\n",
      "20%      23.000\n",
      "30%      25.000\n",
      "40%      27.000\n",
      "50%      29.000\n",
      "60%      33.000\n",
      "70%      38.000\n",
      "80%      42.600\n",
      "90%      51.000\n",
      "95%      58.000\n",
      "99%      67.000\n",
      "max      81.000\n",
      "Name: Age, dtype: float64\n"
     ]
    },
    {
     "data": {
      "image/png": "[encoded data removed]",
      "text/plain": [
       "<Figure size 640x480 with 1 Axes>"
      ]
     },
     "metadata": {},
     "output_type": "display_data"
    }
   ],
   "source": [
    "for col in num_cols: # num_cols: grab_col_names fonksiyonundan elde ettigim numerik değişkenlerim.\n",
    "    num_summary(df, col, plot=True)"
   ]
  },
  {
   "cell_type": "markdown",
   "id": "ce129a5d",
   "metadata": {
    "papermill": {
     "duration": 0.02336,
     "end_time": "2025-03-05T19:25:03.420919",
     "exception": false,
     "start_time": "2025-03-05T19:25:03.397559",
     "status": "completed"
    },
    "tags": []
   },
   "source": [
    "## 1.1.3)  NUMERİK DEĞİŞKENLERİN TARGET GÖRE ANALİZİ"
   ]
  },
  {
   "cell_type": "code",
   "execution_count": 13,
   "id": "a5d365c1",
   "metadata": {
    "execution": {
     "iopub.execute_input": "2025-03-05T19:25:03.471815Z",
     "iopub.status.busy": "2025-03-05T19:25:03.471455Z",
     "iopub.status.idle": "2025-03-05T19:25:03.475838Z",
     "shell.execute_reply": "2025-03-05T19:25:03.474927Z"
    },
    "papermill": {
     "duration": 0.032563,
     "end_time": "2025-03-05T19:25:03.477456",
     "exception": false,
     "start_time": "2025-03-05T19:25:03.444893",
     "status": "completed"
    },
    "tags": []
   },
   "outputs": [],
   "source": [
    "# numerik degişkenlerin target değişkene göre ortalamalarını inceleyelim:\n",
    "def target_summary_with_num(dataframe, target, numerical_col):\n",
    "    print(dataframe.groupby(target).agg({numerical_col: \"mean\"}), end=\"\\n\\n\\n\")"
   ]
  },
  {
   "cell_type": "code",
   "execution_count": 14,
   "id": "a2b7a874",
   "metadata": {
    "execution": {
     "iopub.execute_input": "2025-03-05T19:25:03.528095Z",
     "iopub.status.busy": "2025-03-05T19:25:03.527725Z",
     "iopub.status.idle": "2025-03-05T19:25:03.557920Z",
     "shell.execute_reply": "2025-03-05T19:25:03.556694Z"
    },
    "papermill": {
     "duration": 0.057737,
     "end_time": "2025-03-05T19:25:03.559885",
     "exception": false,
     "start_time": "2025-03-05T19:25:03.502148",
     "status": "completed"
    },
    "tags": []
   },
   "outputs": [
    {
     "name": "stdout",
     "output_type": "stream",
     "text": [
      "         Pregnancies\n",
      "Outcome             \n",
      "0              3.298\n",
      "1              4.866\n",
      "\n",
      "\n",
      "         Glucose\n",
      "Outcome         \n",
      "0        109.980\n",
      "1        141.257\n",
      "\n",
      "\n",
      "         BloodPressure\n",
      "Outcome               \n",
      "0               68.184\n",
      "1               70.825\n",
      "\n",
      "\n",
      "         SkinThickness\n",
      "Outcome               \n",
      "0               19.664\n",
      "1               22.164\n",
      "\n",
      "\n",
      "         Insulin\n",
      "Outcome         \n",
      "0         68.792\n",
      "1        100.336\n",
      "\n",
      "\n",
      "           BMI\n",
      "Outcome       \n",
      "0       30.304\n",
      "1       35.143\n",
      "\n",
      "\n",
      "         DiabetesPedigreeFunction\n",
      "Outcome                          \n",
      "0                           0.430\n",
      "1                           0.550\n",
      "\n",
      "\n",
      "           Age\n",
      "Outcome       \n",
      "0       31.190\n",
      "1       37.067\n",
      "\n",
      "\n"
     ]
    }
   ],
   "source": [
    "for col in num_cols:\n",
    "    target_summary_with_num(df, \"Outcome\", col)"
   ]
  },
  {
   "cell_type": "markdown",
   "id": "f4808f62",
   "metadata": {
    "papermill": {
     "duration": 0.024072,
     "end_time": "2025-03-05T19:25:03.608504",
     "exception": false,
     "start_time": "2025-03-05T19:25:03.584432",
     "status": "completed"
    },
    "tags": []
   },
   "source": [
    "## 1.3) KORELASYON\n",
    "\n",
    "Korelasyon, olasılık kuramı ve istatistikte iki rassal değişken arasındaki doğrusal ilişkinin yönünü ve gücünü belirtir"
   ]
  },
  {
   "cell_type": "code",
   "execution_count": 15,
   "id": "94f21ad1",
   "metadata": {
    "execution": {
     "iopub.execute_input": "2025-03-05T19:25:03.658443Z",
     "iopub.status.busy": "2025-03-05T19:25:03.658044Z",
     "iopub.status.idle": "2025-03-05T19:25:03.671095Z",
     "shell.execute_reply": "2025-03-05T19:25:03.670193Z"
    },
    "papermill": {
     "duration": 0.039849,
     "end_time": "2025-03-05T19:25:03.672671",
     "exception": false,
     "start_time": "2025-03-05T19:25:03.632822",
     "status": "completed"
    },
    "tags": []
   },
   "outputs": [
    {
     "data": {
      "text/html": [
       "<div>\n",
       "<style scoped>\n",
       "    .dataframe tbody tr th:only-of-type {\n",
       "        vertical-align: middle;\n",
       "    }\n",
       "\n",
       "    .dataframe tbody tr th {\n",
       "        vertical-align: top;\n",
       "    }\n",
       "\n",
       "    .dataframe thead th {\n",
       "        text-align: right;\n",
       "    }\n",
       "</style>\n",
       "<table border=\"1\" class=\"dataframe\">\n",
       "  <thead>\n",
       "    <tr style=\"text-align: right;\">\n",
       "      <th></th>\n",
       "      <th>Pregnancies</th>\n",
       "      <th>Glucose</th>\n",
       "      <th>BloodPressure</th>\n",
       "      <th>SkinThickness</th>\n",
       "      <th>Insulin</th>\n",
       "      <th>BMI</th>\n",
       "      <th>DiabetesPedigreeFunction</th>\n",
       "      <th>Age</th>\n",
       "      <th>Outcome</th>\n",
       "    </tr>\n",
       "  </thead>\n",
       "  <tbody>\n",
       "    <tr>\n",
       "      <th>Pregnancies</th>\n",
       "      <td>1.000</td>\n",
       "      <td>0.129</td>\n",
       "      <td>0.141</td>\n",
       "      <td>-0.082</td>\n",
       "      <td>-0.074</td>\n",
       "      <td>0.018</td>\n",
       "      <td>-0.034</td>\n",
       "      <td>0.544</td>\n",
       "      <td>0.222</td>\n",
       "    </tr>\n",
       "    <tr>\n",
       "      <th>Glucose</th>\n",
       "      <td>0.129</td>\n",
       "      <td>1.000</td>\n",
       "      <td>0.153</td>\n",
       "      <td>0.057</td>\n",
       "      <td>0.331</td>\n",
       "      <td>0.221</td>\n",
       "      <td>0.137</td>\n",
       "      <td>0.264</td>\n",
       "      <td>0.467</td>\n",
       "    </tr>\n",
       "    <tr>\n",
       "      <th>BloodPressure</th>\n",
       "      <td>0.141</td>\n",
       "      <td>0.153</td>\n",
       "      <td>1.000</td>\n",
       "      <td>0.207</td>\n",
       "      <td>0.089</td>\n",
       "      <td>0.282</td>\n",
       "      <td>0.041</td>\n",
       "      <td>0.240</td>\n",
       "      <td>0.065</td>\n",
       "    </tr>\n",
       "    <tr>\n",
       "      <th>SkinThickness</th>\n",
       "      <td>-0.082</td>\n",
       "      <td>0.057</td>\n",
       "      <td>0.207</td>\n",
       "      <td>1.000</td>\n",
       "      <td>0.437</td>\n",
       "      <td>0.393</td>\n",
       "      <td>0.184</td>\n",
       "      <td>-0.114</td>\n",
       "      <td>0.075</td>\n",
       "    </tr>\n",
       "    <tr>\n",
       "      <th>Insulin</th>\n",
       "      <td>-0.074</td>\n",
       "      <td>0.331</td>\n",
       "      <td>0.089</td>\n",
       "      <td>0.437</td>\n",
       "      <td>1.000</td>\n",
       "      <td>0.198</td>\n",
       "      <td>0.185</td>\n",
       "      <td>-0.042</td>\n",
       "      <td>0.131</td>\n",
       "    </tr>\n",
       "    <tr>\n",
       "      <th>BMI</th>\n",
       "      <td>0.018</td>\n",
       "      <td>0.221</td>\n",
       "      <td>0.282</td>\n",
       "      <td>0.393</td>\n",
       "      <td>0.198</td>\n",
       "      <td>1.000</td>\n",
       "      <td>0.141</td>\n",
       "      <td>0.036</td>\n",
       "      <td>0.293</td>\n",
       "    </tr>\n",
       "    <tr>\n",
       "      <th>DiabetesPedigreeFunction</th>\n",
       "      <td>-0.034</td>\n",
       "      <td>0.137</td>\n",
       "      <td>0.041</td>\n",
       "      <td>0.184</td>\n",
       "      <td>0.185</td>\n",
       "      <td>0.141</td>\n",
       "      <td>1.000</td>\n",
       "      <td>0.034</td>\n",
       "      <td>0.174</td>\n",
       "    </tr>\n",
       "    <tr>\n",
       "      <th>Age</th>\n",
       "      <td>0.544</td>\n",
       "      <td>0.264</td>\n",
       "      <td>0.240</td>\n",
       "      <td>-0.114</td>\n",
       "      <td>-0.042</td>\n",
       "      <td>0.036</td>\n",
       "      <td>0.034</td>\n",
       "      <td>1.000</td>\n",
       "      <td>0.238</td>\n",
       "    </tr>\n",
       "    <tr>\n",
       "      <th>Outcome</th>\n",
       "      <td>0.222</td>\n",
       "      <td>0.467</td>\n",
       "      <td>0.065</td>\n",
       "      <td>0.075</td>\n",
       "      <td>0.131</td>\n",
       "      <td>0.293</td>\n",
       "      <td>0.174</td>\n",
       "      <td>0.238</td>\n",
       "      <td>1.000</td>\n",
       "    </tr>\n",
       "  </tbody>\n",
       "</table>\n",
       "</div>"
      ],
      "text/plain": [
       "                          Pregnancies  Glucose  BloodPressure  SkinThickness  \\\n",
       "Pregnancies                     1.000    0.129          0.141         -0.082   \n",
       "Glucose                         0.129    1.000          0.153          0.057   \n",
       "BloodPressure                   0.141    0.153          1.000          0.207   \n",
       "SkinThickness                  -0.082    0.057          0.207          1.000   \n",
       "Insulin                        -0.074    0.331          0.089          0.437   \n",
       "BMI                             0.018    0.221          0.282          0.393   \n",
       "DiabetesPedigreeFunction       -0.034    0.137          0.041          0.184   \n",
       "Age                             0.544    0.264          0.240         -0.114   \n",
       "Outcome                         0.222    0.467          0.065          0.075   \n",
       "\n",
       "                          Insulin   BMI  DiabetesPedigreeFunction    Age  \\\n",
       "Pregnancies                -0.074 0.018                    -0.034  0.544   \n",
       "Glucose                     0.331 0.221                     0.137  0.264   \n",
       "BloodPressure               0.089 0.282                     0.041  0.240   \n",
       "SkinThickness               0.437 0.393                     0.184 -0.114   \n",
       "Insulin                     1.000 0.198                     0.185 -0.042   \n",
       "BMI                         0.198 1.000                     0.141  0.036   \n",
       "DiabetesPedigreeFunction    0.185 0.141                     1.000  0.034   \n",
       "Age                        -0.042 0.036                     0.034  1.000   \n",
       "Outcome                     0.131 0.293                     0.174  0.238   \n",
       "\n",
       "                          Outcome  \n",
       "Pregnancies                 0.222  \n",
       "Glucose                     0.467  \n",
       "BloodPressure               0.065  \n",
       "SkinThickness               0.075  \n",
       "Insulin                     0.131  \n",
       "BMI                         0.293  \n",
       "DiabetesPedigreeFunction    0.174  \n",
       "Age                         0.238  \n",
       "Outcome                     1.000  "
      ]
     },
     "execution_count": 15,
     "metadata": {},
     "output_type": "execute_result"
    }
   ],
   "source": [
    "df.corr()"
   ]
  },
  {
   "cell_type": "code",
   "execution_count": 16,
   "id": "91317614",
   "metadata": {
    "execution": {
     "iopub.execute_input": "2025-03-05T19:25:03.724465Z",
     "iopub.status.busy": "2025-03-05T19:25:03.724093Z",
     "iopub.status.idle": "2025-03-05T19:25:04.263734Z",
     "shell.execute_reply": "2025-03-05T19:25:04.262548Z"
    },
    "papermill": {
     "duration": 0.568003,
     "end_time": "2025-03-05T19:25:04.266561",
     "exception": false,
     "start_time": "2025-03-05T19:25:03.698558",
     "status": "completed"
    },
    "tags": []
   },
   "outputs": [
    {
     "data": {
      "image/png": "[encoded data removed]",
      "text/plain": [
       "<Figure size 1800x1300 with 2 Axes>"
      ]
     },
     "metadata": {},
     "output_type": "display_data"
    }
   ],
   "source": [
    "# Korelasyon Matrisi\n",
    "f, ax = plt.subplots(figsize=[18, 13])\n",
    "sns.heatmap(df.corr(), annot=True, fmt=\".2f\", ax=ax, cmap=\"magma\")\n",
    "ax.set_title(\"Correlation Matrix\", fontsize=20)\n",
    "plt.show()"
   ]
  },
  {
   "cell_type": "markdown",
   "id": "c49d69bd",
   "metadata": {
    "papermill": {
     "duration": 0.029239,
     "end_time": "2025-03-05T19:25:04.324720",
     "exception": false,
     "start_time": "2025-03-05T19:25:04.295481",
     "status": "completed"
    },
    "tags": []
   },
   "source": [
    "## 1.4) BASE MODEL KURULUMU\n",
    "\n",
    "* Amacımız herhangi bir işlem yapmadan başarımız ne durumda?\n",
    "* Sonrasıyla karsılastıralım."
   ]
  },
  {
   "cell_type": "code",
   "execution_count": 17,
   "id": "e334f152",
   "metadata": {
    "execution": {
     "iopub.execute_input": "2025-03-05T19:25:04.383277Z",
     "iopub.status.busy": "2025-03-05T19:25:04.382901Z",
     "iopub.status.idle": "2025-03-05T19:25:04.391082Z",
     "shell.execute_reply": "2025-03-05T19:25:04.390046Z"
    },
    "papermill": {
     "duration": 0.03921,
     "end_time": "2025-03-05T19:25:04.392700",
     "exception": false,
     "start_time": "2025-03-05T19:25:04.353490",
     "status": "completed"
    },
    "tags": []
   },
   "outputs": [],
   "source": [
    "y = df[\"Outcome\"]\n",
    "X = df.drop(\"Outcome\", axis=1)\n",
    "X_train, X_test, y_train, y_test = train_test_split(X, y, test_size=0.30, random_state=17)"
   ]
  },
  {
   "cell_type": "code",
   "execution_count": 18,
   "id": "6788d131",
   "metadata": {
    "execution": {
     "iopub.execute_input": "2025-03-05T19:25:04.451943Z",
     "iopub.status.busy": "2025-03-05T19:25:04.451579Z",
     "iopub.status.idle": "2025-03-05T19:25:04.661866Z",
     "shell.execute_reply": "2025-03-05T19:25:04.660714Z"
    },
    "papermill": {
     "duration": 0.242046,
     "end_time": "2025-03-05T19:25:04.663910",
     "exception": false,
     "start_time": "2025-03-05T19:25:04.421864",
     "status": "completed"
    },
    "tags": []
   },
   "outputs": [],
   "source": [
    "rf_model = RandomForestClassifier(random_state=46).fit(X_train, y_train)\n",
    "y_pred = rf_model.predict(X_test)"
   ]
  },
  {
   "cell_type": "code",
   "execution_count": 19,
   "id": "3c371f14",
   "metadata": {
    "execution": {
     "iopub.execute_input": "2025-03-05T19:25:04.723560Z",
     "iopub.status.busy": "2025-03-05T19:25:04.723132Z",
     "iopub.status.idle": "2025-03-05T19:25:04.741819Z",
     "shell.execute_reply": "2025-03-05T19:25:04.740555Z"
    },
    "papermill": {
     "duration": 0.050187,
     "end_time": "2025-03-05T19:25:04.743578",
     "exception": false,
     "start_time": "2025-03-05T19:25:04.693391",
     "status": "completed"
    },
    "tags": []
   },
   "outputs": [
    {
     "name": "stdout",
     "output_type": "stream",
     "text": [
      "Accuracy: 0.77\n",
      "Recall: 0.706\n",
      "Precision: 0.59\n",
      "F1: 0.64\n",
      "Auc: 0.75\n"
     ]
    }
   ],
   "source": [
    "print(f\"Accuracy: {round(accuracy_score(y_pred, y_test), 2)}\") # basarı oranı\n",
    "print(f\"Recall: {round(recall_score(y_pred,y_test),3)}\") # Gercekte diyabet olanların kacına diyabet dedigi\n",
    "print(f\"Precision: {round(precision_score(y_pred,y_test), 2)}\") # Recall'in tam tersi. Model tarafından tahmin edilen degerlerin kac tanesi diyabet\n",
    "print(f\"F1: {round(f1_score(y_pred,y_test), 2)}\") # Recall ve precision ortalaması\n",
    "print(f\"Auc: {round(roc_auc_score(y_pred,y_test), 2)}\") # farklı sınıflandırma esik degerlerine göre basarı"
   ]
  },
  {
   "cell_type": "markdown",
   "id": "165ad920",
   "metadata": {
    "papermill": {
     "duration": 0.029349,
     "end_time": "2025-03-05T19:25:04.802352",
     "exception": false,
     "start_time": "2025-03-05T19:25:04.773003",
     "status": "completed"
    },
    "tags": []
   },
   "source": [
    "* Recall: 0.706   pozitif sınıfın ne kadar başarılı tahmin edildiği\n",
    "* Precision: 0.59   Pozitif sınıf olarak tahmin edilen değerlerin başarısı"
   ]
  },
  {
   "cell_type": "code",
   "execution_count": 20,
   "id": "c9a1302b",
   "metadata": {
    "execution": {
     "iopub.execute_input": "2025-03-05T19:25:04.865362Z",
     "iopub.status.busy": "2025-03-05T19:25:04.864977Z",
     "iopub.status.idle": "2025-03-05T19:25:05.212136Z",
     "shell.execute_reply": "2025-03-05T19:25:05.211118Z"
    },
    "papermill": {
     "duration": 0.37906,
     "end_time": "2025-03-05T19:25:05.213930",
     "exception": false,
     "start_time": "2025-03-05T19:25:04.834870",
     "status": "completed"
    },
    "tags": []
   },
   "outputs": [
    {
     "data": {
      "image/png": "[encoded data removed]",
      "text/plain": [
       "<Figure size 1000x1000 with 1 Axes>"
      ]
     },
     "metadata": {},
     "output_type": "display_data"
    }
   ],
   "source": [
    "# Model hangi değişkene daha cok önem varmiş?\n",
    "def plot_importance(model, features, num=len(X), save=False):\n",
    "    feature_imp = pd.DataFrame({'Value': model.feature_importances_, 'Feature': features.columns})\n",
    "    plt.figure(figsize=(10, 10))\n",
    "    sns.set(font_scale=1)\n",
    "    sns.barplot(x=\"Value\", y=\"Feature\", data=feature_imp.sort_values(by=\"Value\",\n",
    "                                                                     ascending=False)[0:num])\n",
    "    plt.title('Features')\n",
    "    plt.tight_layout()\n",
    "    plt.show()\n",
    "    if save:\n",
    "        plt.savefig('importances.png')\n",
    "\n",
    "plot_importance(rf_model, X)"
   ]
  },
  {
   "cell_type": "markdown",
   "id": "11ddb832",
   "metadata": {
    "papermill": {
     "duration": 0.030477,
     "end_time": "2025-03-05T19:25:05.274429",
     "exception": false,
     "start_time": "2025-03-05T19:25:05.243952",
     "status": "completed"
    },
    "tags": []
   },
   "source": [
    "## GÖREV 2: FEATURE ENGINEERING"
   ]
  },
  {
   "cell_type": "markdown",
   "id": "aa1644b6",
   "metadata": {
    "papermill": {
     "duration": 0.030328,
     "end_time": "2025-03-05T19:25:05.335265",
     "exception": false,
     "start_time": "2025-03-05T19:25:05.304937",
     "status": "completed"
    },
    "tags": []
   },
   "source": [
    "## 2.1) EKSİK DEĞER ANALİZİ"
   ]
  },
  {
   "cell_type": "code",
   "execution_count": 21,
   "id": "5ed42b82",
   "metadata": {
    "execution": {
     "iopub.execute_input": "2025-03-05T19:25:05.398606Z",
     "iopub.status.busy": "2025-03-05T19:25:05.398184Z",
     "iopub.status.idle": "2025-03-05T19:25:05.406158Z",
     "shell.execute_reply": "2025-03-05T19:25:05.405327Z"
    },
    "papermill": {
     "duration": 0.042188,
     "end_time": "2025-03-05T19:25:05.407844",
     "exception": false,
     "start_time": "2025-03-05T19:25:05.365656",
     "status": "completed"
    },
    "tags": []
   },
   "outputs": [
    {
     "data": {
      "text/plain": [
       "Pregnancies                 0\n",
       "Glucose                     0\n",
       "BloodPressure               0\n",
       "SkinThickness               0\n",
       "Insulin                     0\n",
       "BMI                         0\n",
       "DiabetesPedigreeFunction    0\n",
       "Age                         0\n",
       "Outcome                     0\n",
       "dtype: int64"
      ]
     },
     "execution_count": 21,
     "metadata": {},
     "output_type": "execute_result"
    }
   ],
   "source": [
    "df.isnull().sum() # eksik degerler yoktu. Fakat sıfır olamayacak değişkenlere sıfır atanmıstı."
   ]
  },
  {
   "cell_type": "markdown",
   "id": "1faa2112",
   "metadata": {
    "papermill": {
     "duration": 0.031859,
     "end_time": "2025-03-05T19:25:05.472423",
     "exception": false,
     "start_time": "2025-03-05T19:25:05.440564",
     "status": "completed"
    },
    "tags": []
   },
   "source": [
    "##### **0 Olamayacak veya Mantıksız Değerler**  \n",
    "\n",
    "1. **Glucose (Kan Şekeri)**  \n",
    "   - **0 olması imkansızdır.** Çünkü sıfır kan şekeri yaşamla bağdaşmaz.  \n",
    "   - Normalde **açlık kan şekeri** en az **70-99 mg/dL** aralığında olur.  \n",
    "\n",
    "2. **BloodPressure (Kan Basıncı - Tansiyon)**  \n",
    "   - **0 olması biyolojik olarak mümkün değildir**.  \n",
    "   - Sağlıklı bir insanın **sistolik (büyük tansiyon) değeri 90-120 mmHg**, **diyastolik (küçük tansiyon) değeri 60-80 mmHg** arasında olmalıdır.  \n",
    "   - 0 tansiyon, **ölüm** anlamına gelir.  \n",
    "\n",
    "3. **BMI (Vücut Kitle İndeksi)**  \n",
    "   - **0 olması anlamsızdır.**  \n",
    "   - BMI, **kilo / (boy^2)** formülü ile hesaplanır ve **asla 0 olamaz**.  \n",
    "\n",
    "4. **Insulin (İnsülin Seviyesi)**  \n",
    "   - Teorik olarak insülin 0 olabilir ancak **yaşayan bir insan için bu durum çok nadirdir**.  \n",
    "   - İnsülin üretmeyen Tip 1 diyabetlilerde bile **bazı seviyelerde insülin kalıntısı bulunabilir**.  \n",
    "\n",
    "---\n",
    "\n",
    "### **0 Olabilir ama Şüpheli Olanlar**  \n",
    "\n",
    "5. **Pregnancies (Gebelik Sayısı)**  \n",
    "   - Erkekler için doğal olarak **0’dır**.  \n",
    "   - Kadınlar için de gebelik yaşamadıysa **0 olabilir**.  \n",
    "\n",
    "6. **SkinThickness (Deri Kalınlığı - Triceps Kalınlığı)**  \n",
    "   - Bazı insanlar için düşük olabilir, ancak **0 olması pratik olarak şüphelidir**.  \n",
    "\n",
    "7. **DiabetesPedigreeFunction (Genetik Diyabet Riski Skoru)**  \n",
    "   - Genellikle **0’a çok yakın olabilir** ama tam **0 olması nadirdir**.  \n",
    "\n",
    "8. **Age (Yaş)**  \n",
    "   - 0 olabilir ama sadece yeni doğanlar için.  \n",
    "\n",
    "9. **Outcome (Diyabet Olup Olmama Durumu)**  \n",
    "   - **0, diyabet olmadığı anlamına gelir** ve mantıklıdır.  "
   ]
  },
  {
   "cell_type": "code",
   "execution_count": 22,
   "id": "1d46bdd4",
   "metadata": {
    "execution": {
     "iopub.execute_input": "2025-03-05T19:25:05.533311Z",
     "iopub.status.busy": "2025-03-05T19:25:05.532930Z",
     "iopub.status.idle": "2025-03-05T19:25:05.558982Z",
     "shell.execute_reply": "2025-03-05T19:25:05.557901Z"
    },
    "papermill": {
     "duration": 0.058398,
     "end_time": "2025-03-05T19:25:05.560742",
     "exception": false,
     "start_time": "2025-03-05T19:25:05.502344",
     "status": "completed"
    },
    "tags": []
   },
   "outputs": [
    {
     "data": {
      "text/html": [
       "<div>\n",
       "<style scoped>\n",
       "    .dataframe tbody tr th:only-of-type {\n",
       "        vertical-align: middle;\n",
       "    }\n",
       "\n",
       "    .dataframe tbody tr th {\n",
       "        vertical-align: top;\n",
       "    }\n",
       "\n",
       "    .dataframe thead th {\n",
       "        text-align: right;\n",
       "    }\n",
       "</style>\n",
       "<table border=\"1\" class=\"dataframe\">\n",
       "  <thead>\n",
       "    <tr style=\"text-align: right;\">\n",
       "      <th></th>\n",
       "      <th>Pregnancies</th>\n",
       "      <th>Glucose</th>\n",
       "      <th>BloodPressure</th>\n",
       "      <th>SkinThickness</th>\n",
       "      <th>Insulin</th>\n",
       "      <th>BMI</th>\n",
       "      <th>DiabetesPedigreeFunction</th>\n",
       "      <th>Age</th>\n",
       "      <th>Outcome</th>\n",
       "    </tr>\n",
       "  </thead>\n",
       "  <tbody>\n",
       "    <tr>\n",
       "      <th>count</th>\n",
       "      <td>768.000</td>\n",
       "      <td>768.000</td>\n",
       "      <td>768.000</td>\n",
       "      <td>768.000</td>\n",
       "      <td>768.000</td>\n",
       "      <td>768.000</td>\n",
       "      <td>768.000</td>\n",
       "      <td>768.000</td>\n",
       "      <td>768.000</td>\n",
       "    </tr>\n",
       "    <tr>\n",
       "      <th>mean</th>\n",
       "      <td>3.845</td>\n",
       "      <td>120.895</td>\n",
       "      <td>69.105</td>\n",
       "      <td>20.536</td>\n",
       "      <td>79.799</td>\n",
       "      <td>31.993</td>\n",
       "      <td>0.472</td>\n",
       "      <td>33.241</td>\n",
       "      <td>0.349</td>\n",
       "    </tr>\n",
       "    <tr>\n",
       "      <th>std</th>\n",
       "      <td>3.370</td>\n",
       "      <td>31.973</td>\n",
       "      <td>19.356</td>\n",
       "      <td>15.952</td>\n",
       "      <td>115.244</td>\n",
       "      <td>7.884</td>\n",
       "      <td>0.331</td>\n",
       "      <td>11.760</td>\n",
       "      <td>0.477</td>\n",
       "    </tr>\n",
       "    <tr>\n",
       "      <th>min</th>\n",
       "      <td>0.000</td>\n",
       "      <td>0.000</td>\n",
       "      <td>0.000</td>\n",
       "      <td>0.000</td>\n",
       "      <td>0.000</td>\n",
       "      <td>0.000</td>\n",
       "      <td>0.078</td>\n",
       "      <td>21.000</td>\n",
       "      <td>0.000</td>\n",
       "    </tr>\n",
       "    <tr>\n",
       "      <th>25%</th>\n",
       "      <td>1.000</td>\n",
       "      <td>99.000</td>\n",
       "      <td>62.000</td>\n",
       "      <td>0.000</td>\n",
       "      <td>0.000</td>\n",
       "      <td>27.300</td>\n",
       "      <td>0.244</td>\n",
       "      <td>24.000</td>\n",
       "      <td>0.000</td>\n",
       "    </tr>\n",
       "    <tr>\n",
       "      <th>50%</th>\n",
       "      <td>3.000</td>\n",
       "      <td>117.000</td>\n",
       "      <td>72.000</td>\n",
       "      <td>23.000</td>\n",
       "      <td>30.500</td>\n",
       "      <td>32.000</td>\n",
       "      <td>0.372</td>\n",
       "      <td>29.000</td>\n",
       "      <td>0.000</td>\n",
       "    </tr>\n",
       "    <tr>\n",
       "      <th>75%</th>\n",
       "      <td>6.000</td>\n",
       "      <td>140.250</td>\n",
       "      <td>80.000</td>\n",
       "      <td>32.000</td>\n",
       "      <td>127.250</td>\n",
       "      <td>36.600</td>\n",
       "      <td>0.626</td>\n",
       "      <td>41.000</td>\n",
       "      <td>1.000</td>\n",
       "    </tr>\n",
       "    <tr>\n",
       "      <th>max</th>\n",
       "      <td>17.000</td>\n",
       "      <td>199.000</td>\n",
       "      <td>122.000</td>\n",
       "      <td>99.000</td>\n",
       "      <td>846.000</td>\n",
       "      <td>67.100</td>\n",
       "      <td>2.420</td>\n",
       "      <td>81.000</td>\n",
       "      <td>1.000</td>\n",
       "    </tr>\n",
       "  </tbody>\n",
       "</table>\n",
       "</div>"
      ],
      "text/plain": [
       "       Pregnancies  Glucose  BloodPressure  SkinThickness  Insulin     BMI  \\\n",
       "count      768.000  768.000        768.000        768.000  768.000 768.000   \n",
       "mean         3.845  120.895         69.105         20.536   79.799  31.993   \n",
       "std          3.370   31.973         19.356         15.952  115.244   7.884   \n",
       "min          0.000    0.000          0.000          0.000    0.000   0.000   \n",
       "25%          1.000   99.000         62.000          0.000    0.000  27.300   \n",
       "50%          3.000  117.000         72.000         23.000   30.500  32.000   \n",
       "75%          6.000  140.250         80.000         32.000  127.250  36.600   \n",
       "max         17.000  199.000        122.000         99.000  846.000  67.100   \n",
       "\n",
       "       DiabetesPedigreeFunction     Age  Outcome  \n",
       "count                   768.000 768.000  768.000  \n",
       "mean                      0.472  33.241    0.349  \n",
       "std                       0.331  11.760    0.477  \n",
       "min                       0.078  21.000    0.000  \n",
       "25%                       0.244  24.000    0.000  \n",
       "50%                       0.372  29.000    0.000  \n",
       "75%                       0.626  41.000    1.000  \n",
       "max                       2.420  81.000    1.000  "
      ]
     },
     "execution_count": 22,
     "metadata": {},
     "output_type": "execute_result"
    }
   ],
   "source": [
    "df.describe()"
   ]
  },
  {
   "cell_type": "markdown",
   "id": "3c9439c9",
   "metadata": {
    "papermill": {
     "duration": 0.029778,
     "end_time": "2025-03-05T19:25:05.620928",
     "exception": false,
     "start_time": "2025-03-05T19:25:05.591150",
     "status": "completed"
    },
    "tags": []
   },
   "source": [
    "* Bir insanda Pregnancies ve Outcome dışındaki değişken değerleri 0 olamayacağı bilinmektedir.\n",
    "* Bundan dolayı bu değerlerle ilgili aksiyon kararı alınmalıdır. 0 olan değerlere NaN atanabilir ."
   ]
  },
  {
   "cell_type": "code",
   "execution_count": 23,
   "id": "4433fd4b",
   "metadata": {
    "execution": {
     "iopub.execute_input": "2025-03-05T19:25:05.682187Z",
     "iopub.status.busy": "2025-03-05T19:25:05.681837Z",
     "iopub.status.idle": "2025-03-05T19:25:05.687898Z",
     "shell.execute_reply": "2025-03-05T19:25:05.686704Z"
    },
    "papermill": {
     "duration": 0.038764,
     "end_time": "2025-03-05T19:25:05.689646",
     "exception": false,
     "start_time": "2025-03-05T19:25:05.650882",
     "status": "completed"
    },
    "tags": []
   },
   "outputs": [
    {
     "name": "stdout",
     "output_type": "stream",
     "text": [
      "['Glucose', 'BloodPressure', 'SkinThickness', 'Insulin', 'BMI']\n"
     ]
    }
   ],
   "source": [
    "# minimum degeri sıfır olamayacak değişkenler yakalanıyor.\n",
    "# kategorik değişkenler hariç bırakılıyor.\n",
    "zero_columns = [col for col in df.columns if (df[col].min() == 0 and col not in [\"Pregnancies\", \"Outcome\"])]\n",
    "\n",
    "print(zero_columns)"
   ]
  },
  {
   "cell_type": "code",
   "execution_count": 24,
   "id": "401ac1cb",
   "metadata": {
    "execution": {
     "iopub.execute_input": "2025-03-05T19:25:05.751304Z",
     "iopub.status.busy": "2025-03-05T19:25:05.750929Z",
     "iopub.status.idle": "2025-03-05T19:25:05.757912Z",
     "shell.execute_reply": "2025-03-05T19:25:05.756913Z"
    },
    "papermill": {
     "duration": 0.039859,
     "end_time": "2025-03-05T19:25:05.759674",
     "exception": false,
     "start_time": "2025-03-05T19:25:05.719815",
     "status": "completed"
    },
    "tags": []
   },
   "outputs": [],
   "source": [
    "# where ile eger ki şart saglanıyorsa NAN yazacagım, saglanmıyorsa oldugu gibi yazacagım.\n",
    "for col in zero_columns:\n",
    "    df[col] = np.where(df[col] == 0, np.nan, df[col])\n",
    "\n",
    "# Eğer değer 0 ise, np.nan (eksik veri) ile değiştirilir.\n",
    "# Eğer 0 değilse, aynı değer korunur."
   ]
  },
  {
   "cell_type": "code",
   "execution_count": 25,
   "id": "41cd9a96",
   "metadata": {
    "execution": {
     "iopub.execute_input": "2025-03-05T19:25:05.823330Z",
     "iopub.status.busy": "2025-03-05T19:25:05.822947Z",
     "iopub.status.idle": "2025-03-05T19:25:05.830896Z",
     "shell.execute_reply": "2025-03-05T19:25:05.829899Z"
    },
    "papermill": {
     "duration": 0.042136,
     "end_time": "2025-03-05T19:25:05.832719",
     "exception": false,
     "start_time": "2025-03-05T19:25:05.790583",
     "status": "completed"
    },
    "tags": []
   },
   "outputs": [
    {
     "data": {
      "text/plain": [
       "Pregnancies                   0\n",
       "Glucose                       5\n",
       "BloodPressure                35\n",
       "SkinThickness               227\n",
       "Insulin                     374\n",
       "BMI                          11\n",
       "DiabetesPedigreeFunction      0\n",
       "Age                           0\n",
       "Outcome                       0\n",
       "dtype: int64"
      ]
     },
     "execution_count": 25,
     "metadata": {},
     "output_type": "execute_result"
    }
   ],
   "source": [
    "# Eksik Gözlem Analizi\n",
    "df.isnull().sum()"
   ]
  },
  {
   "cell_type": "code",
   "execution_count": 26,
   "id": "d2490592",
   "metadata": {
    "execution": {
     "iopub.execute_input": "2025-03-05T19:25:05.895728Z",
     "iopub.status.busy": "2025-03-05T19:25:05.895387Z",
     "iopub.status.idle": "2025-03-05T19:25:05.901385Z",
     "shell.execute_reply": "2025-03-05T19:25:05.900352Z"
    },
    "papermill": {
     "duration": 0.039527,
     "end_time": "2025-03-05T19:25:05.903186",
     "exception": false,
     "start_time": "2025-03-05T19:25:05.863659",
     "status": "completed"
    },
    "tags": []
   },
   "outputs": [],
   "source": [
    "# artık eksik degerleri (NAN) incelebilirz.\n",
    "def missing_values_table(dataframe, na_name=False):\n",
    "    na_columns = [col for col in dataframe.columns if dataframe[col].isnull().sum() > 0] # eksik deger varsa na_columns değişkeninde tutulur.\n",
    "    n_miss = dataframe[na_columns].isnull().sum().sort_values(ascending=False) # sıralamanın sebebi ilk olarak fazla eksik degere sahip eğişkenleri görmek istememiz.\n",
    "    ratio = (dataframe[na_columns].isnull().sum() / dataframe.shape[0] * 100).sort_values(ascending=False) # eksik degerlerin tüm değerler içerisindeki oranı\n",
    "    missing_df = pd.concat([n_miss, np.round(ratio, 2)], axis=1, keys=['n_miss', 'ratio']) # kac deger var ve oranını birleştiriyoruz.\n",
    "    print(missing_df, end=\"\\n\")\n",
    "    if na_name: #na_name true ise degeri döndürür.\n",
    "        return na_columns"
   ]
  },
  {
   "cell_type": "code",
   "execution_count": 27,
   "id": "52879572",
   "metadata": {
    "execution": {
     "iopub.execute_input": "2025-03-05T19:25:05.965558Z",
     "iopub.status.busy": "2025-03-05T19:25:05.965140Z",
     "iopub.status.idle": "2025-03-05T19:25:05.978255Z",
     "shell.execute_reply": "2025-03-05T19:25:05.976940Z"
    },
    "papermill": {
     "duration": 0.046204,
     "end_time": "2025-03-05T19:25:05.979983",
     "exception": false,
     "start_time": "2025-03-05T19:25:05.933779",
     "status": "completed"
    },
    "tags": []
   },
   "outputs": [
    {
     "name": "stdout",
     "output_type": "stream",
     "text": [
      "               n_miss  ratio\n",
      "Insulin           374 48.700\n",
      "SkinThickness     227 29.560\n",
      "BloodPressure      35  4.560\n",
      "BMI                11  1.430\n",
      "Glucose             5  0.650\n"
     ]
    }
   ],
   "source": [
    "na_columns = missing_values_table(df, na_name=True)"
   ]
  },
  {
   "cell_type": "markdown",
   "id": "d3c95739",
   "metadata": {
    "papermill": {
     "duration": 0.030601,
     "end_time": "2025-03-05T19:25:06.041471",
     "exception": false,
     "start_time": "2025-03-05T19:25:06.010870",
     "status": "completed"
    },
    "tags": []
   },
   "source": [
    "**Eksik Değerlerin Bağımlı Değişken ile İlişkisinin İncelenmesi**\n",
    "\n",
    "Amacımız eksik degerler ile var olan degerlerin karsılastırmasını yapmak olacak."
   ]
  },
  {
   "cell_type": "markdown",
   "id": "44c0c908",
   "metadata": {
    "papermill": {
     "duration": 0.030147,
     "end_time": "2025-03-05T19:25:06.102258",
     "exception": false,
     "start_time": "2025-03-05T19:25:06.072111",
     "status": "completed"
    },
    "tags": []
   },
   "source": [
    "Kodun Amacı:\n",
    "1.  Eksik (NaN) değerleri içeren sütunları belirleyerek, bunlara özel bayrak (FLAG) değişkenleri ekler.\n",
    "2.  Bu bayrak değişkenleri ile hedef değişkenin ortalama değerini ve sayısını hesaplar.\n",
    "3.  Hedef değişken ile eksik değerler arasındaki ilişkiyi incelememizi sağlar."
   ]
  },
  {
   "cell_type": "code",
   "execution_count": 28,
   "id": "7aebbc8c",
   "metadata": {
    "execution": {
     "iopub.execute_input": "2025-03-05T19:25:06.164808Z",
     "iopub.status.busy": "2025-03-05T19:25:06.164417Z",
     "iopub.status.idle": "2025-03-05T19:25:06.170613Z",
     "shell.execute_reply": "2025-03-05T19:25:06.169552Z"
    },
    "papermill": {
     "duration": 0.039584,
     "end_time": "2025-03-05T19:25:06.172411",
     "exception": false,
     "start_time": "2025-03-05T19:25:06.132827",
     "status": "completed"
    },
    "tags": []
   },
   "outputs": [],
   "source": [
    "def missing_vs_target(dataframe, target, na_columns):\n",
    "    temp_df = dataframe.copy()\n",
    "    for col in na_columns: # eksik degeri olan değişkenlerde geziyoruz.\n",
    "        temp_df[col + '_NA_FLAG'] = np.where(temp_df[col].isnull(), 1, 0) # temp_df[col].isnull() degeri true false olarak döndürür. true ise 1: false ise 0 yazar.\n",
    "        # bu işlemin amacı eksik olan degerlerde var olan degerleri ayrıstırmaktır.\n",
    "    na_flags = temp_df.loc[:, temp_df.columns.str.contains(\"_NA_\")].columns # NA barındıran değişkenlerde gezmek istiyorum. yeni değişkene atadım.\n",
    "    for col in na_flags:\n",
    "        print(pd.DataFrame({\"TARGET_MEAN\": temp_df.groupby(col)[target].mean(),\n",
    "                            \"Count\": temp_df.groupby(col)[target].count()}), end=\"\\n\\n\\n\")"
   ]
  },
  {
   "cell_type": "code",
   "execution_count": 29,
   "id": "154e0069",
   "metadata": {
    "execution": {
     "iopub.execute_input": "2025-03-05T19:25:06.235595Z",
     "iopub.status.busy": "2025-03-05T19:25:06.235209Z",
     "iopub.status.idle": "2025-03-05T19:25:06.258136Z",
     "shell.execute_reply": "2025-03-05T19:25:06.256670Z"
    },
    "papermill": {
     "duration": 0.056346,
     "end_time": "2025-03-05T19:25:06.259991",
     "exception": false,
     "start_time": "2025-03-05T19:25:06.203645",
     "status": "completed"
    },
    "tags": []
   },
   "outputs": [
    {
     "name": "stdout",
     "output_type": "stream",
     "text": [
      "                 TARGET_MEAN  Count\n",
      "Glucose_NA_FLAG                    \n",
      "0                      0.349    763\n",
      "1                      0.400      5\n",
      "\n",
      "\n",
      "                       TARGET_MEAN  Count\n",
      "BloodPressure_NA_FLAG                    \n",
      "0                            0.344    733\n",
      "1                            0.457     35\n",
      "\n",
      "\n",
      "                       TARGET_MEAN  Count\n",
      "SkinThickness_NA_FLAG                    \n",
      "0                            0.333    541\n",
      "1                            0.388    227\n",
      "\n",
      "\n",
      "                 TARGET_MEAN  Count\n",
      "Insulin_NA_FLAG                    \n",
      "0                      0.330    394\n",
      "1                      0.369    374\n",
      "\n",
      "\n",
      "             TARGET_MEAN  Count\n",
      "BMI_NA_FLAG                    \n",
      "0                  0.351    757\n",
      "1                  0.182     11\n",
      "\n",
      "\n"
     ]
    }
   ],
   "source": [
    "missing_vs_target(df, \"Outcome\", na_columns)\n",
    "# Eksikse 1 değilse 0."
   ]
  },
  {
   "cell_type": "code",
   "execution_count": 30,
   "id": "4a854cab",
   "metadata": {
    "execution": {
     "iopub.execute_input": "2025-03-05T19:25:06.324798Z",
     "iopub.status.busy": "2025-03-05T19:25:06.324451Z",
     "iopub.status.idle": "2025-03-05T19:25:06.332363Z",
     "shell.execute_reply": "2025-03-05T19:25:06.331208Z"
    },
    "papermill": {
     "duration": 0.041875,
     "end_time": "2025-03-05T19:25:06.334068",
     "exception": false,
     "start_time": "2025-03-05T19:25:06.292193",
     "status": "completed"
    },
    "tags": []
   },
   "outputs": [],
   "source": [
    "# Eksik Değerlerin Doldurulması\n",
    "for col in zero_columns:\n",
    "    df.loc[df[col].isnull(), col] = df[col].median()"
   ]
  },
  {
   "cell_type": "markdown",
   "id": "846271ee",
   "metadata": {
    "papermill": {
     "duration": 0.031591,
     "end_time": "2025-03-05T19:25:06.397060",
     "exception": false,
     "start_time": "2025-03-05T19:25:06.365469",
     "status": "completed"
    },
    "tags": []
   },
   "source": [
    "**df.loc[satır seçimi, sütun seçimi]**\n",
    "\n",
    "✔ Virgülden önce: Eksik değere sahip olan SATIRLARI seçiyoruz.\n",
    "\n",
    "✔ Virgülden sonra: Hangi sütunda işlem yapacağımızı belirtiyoruz.\n",
    "\n",
    "✔ Sonuç: Sadece belirtilen sütunun eksik değerleri dolduruluyor"
   ]
  },
  {
   "cell_type": "code",
   "execution_count": 31,
   "id": "a0d9bce7",
   "metadata": {
    "execution": {
     "iopub.execute_input": "2025-03-05T19:25:06.460151Z",
     "iopub.status.busy": "2025-03-05T19:25:06.459819Z",
     "iopub.status.idle": "2025-03-05T19:25:06.467528Z",
     "shell.execute_reply": "2025-03-05T19:25:06.466466Z"
    },
    "papermill": {
     "duration": 0.04134,
     "end_time": "2025-03-05T19:25:06.469111",
     "exception": false,
     "start_time": "2025-03-05T19:25:06.427771",
     "status": "completed"
    },
    "tags": []
   },
   "outputs": [
    {
     "data": {
      "text/plain": [
       "Pregnancies                 0\n",
       "Glucose                     0\n",
       "BloodPressure               0\n",
       "SkinThickness               0\n",
       "Insulin                     0\n",
       "BMI                         0\n",
       "DiabetesPedigreeFunction    0\n",
       "Age                         0\n",
       "Outcome                     0\n",
       "dtype: int64"
      ]
     },
     "execution_count": 31,
     "metadata": {},
     "output_type": "execute_result"
    }
   ],
   "source": [
    "df.isnull().sum()"
   ]
  },
  {
   "cell_type": "code",
   "execution_count": 32,
   "id": "53ca66be",
   "metadata": {
    "execution": {
     "iopub.execute_input": "2025-03-05T19:25:06.532437Z",
     "iopub.status.busy": "2025-03-05T19:25:06.532043Z",
     "iopub.status.idle": "2025-03-05T19:25:06.559320Z",
     "shell.execute_reply": "2025-03-05T19:25:06.558201Z"
    },
    "papermill": {
     "duration": 0.061105,
     "end_time": "2025-03-05T19:25:06.560973",
     "exception": false,
     "start_time": "2025-03-05T19:25:06.499868",
     "status": "completed"
    },
    "tags": []
   },
   "outputs": [
    {
     "data": {
      "text/html": [
       "<div>\n",
       "<style scoped>\n",
       "    .dataframe tbody tr th:only-of-type {\n",
       "        vertical-align: middle;\n",
       "    }\n",
       "\n",
       "    .dataframe tbody tr th {\n",
       "        vertical-align: top;\n",
       "    }\n",
       "\n",
       "    .dataframe thead th {\n",
       "        text-align: right;\n",
       "    }\n",
       "</style>\n",
       "<table border=\"1\" class=\"dataframe\">\n",
       "  <thead>\n",
       "    <tr style=\"text-align: right;\">\n",
       "      <th></th>\n",
       "      <th>Pregnancies</th>\n",
       "      <th>Glucose</th>\n",
       "      <th>BloodPressure</th>\n",
       "      <th>SkinThickness</th>\n",
       "      <th>Insulin</th>\n",
       "      <th>BMI</th>\n",
       "      <th>DiabetesPedigreeFunction</th>\n",
       "      <th>Age</th>\n",
       "      <th>Outcome</th>\n",
       "    </tr>\n",
       "  </thead>\n",
       "  <tbody>\n",
       "    <tr>\n",
       "      <th>count</th>\n",
       "      <td>768.000</td>\n",
       "      <td>768.000</td>\n",
       "      <td>768.000</td>\n",
       "      <td>768.000</td>\n",
       "      <td>768.000</td>\n",
       "      <td>768.000</td>\n",
       "      <td>768.000</td>\n",
       "      <td>768.000</td>\n",
       "      <td>768.000</td>\n",
       "    </tr>\n",
       "    <tr>\n",
       "      <th>mean</th>\n",
       "      <td>3.845</td>\n",
       "      <td>121.656</td>\n",
       "      <td>72.387</td>\n",
       "      <td>29.108</td>\n",
       "      <td>140.672</td>\n",
       "      <td>32.455</td>\n",
       "      <td>0.472</td>\n",
       "      <td>33.241</td>\n",
       "      <td>0.349</td>\n",
       "    </tr>\n",
       "    <tr>\n",
       "      <th>std</th>\n",
       "      <td>3.370</td>\n",
       "      <td>30.438</td>\n",
       "      <td>12.097</td>\n",
       "      <td>8.791</td>\n",
       "      <td>86.383</td>\n",
       "      <td>6.875</td>\n",
       "      <td>0.331</td>\n",
       "      <td>11.760</td>\n",
       "      <td>0.477</td>\n",
       "    </tr>\n",
       "    <tr>\n",
       "      <th>min</th>\n",
       "      <td>0.000</td>\n",
       "      <td>44.000</td>\n",
       "      <td>24.000</td>\n",
       "      <td>7.000</td>\n",
       "      <td>14.000</td>\n",
       "      <td>18.200</td>\n",
       "      <td>0.078</td>\n",
       "      <td>21.000</td>\n",
       "      <td>0.000</td>\n",
       "    </tr>\n",
       "    <tr>\n",
       "      <th>25%</th>\n",
       "      <td>1.000</td>\n",
       "      <td>99.750</td>\n",
       "      <td>64.000</td>\n",
       "      <td>25.000</td>\n",
       "      <td>121.500</td>\n",
       "      <td>27.500</td>\n",
       "      <td>0.244</td>\n",
       "      <td>24.000</td>\n",
       "      <td>0.000</td>\n",
       "    </tr>\n",
       "    <tr>\n",
       "      <th>50%</th>\n",
       "      <td>3.000</td>\n",
       "      <td>117.000</td>\n",
       "      <td>72.000</td>\n",
       "      <td>29.000</td>\n",
       "      <td>125.000</td>\n",
       "      <td>32.300</td>\n",
       "      <td>0.372</td>\n",
       "      <td>29.000</td>\n",
       "      <td>0.000</td>\n",
       "    </tr>\n",
       "    <tr>\n",
       "      <th>75%</th>\n",
       "      <td>6.000</td>\n",
       "      <td>140.250</td>\n",
       "      <td>80.000</td>\n",
       "      <td>32.000</td>\n",
       "      <td>127.250</td>\n",
       "      <td>36.600</td>\n",
       "      <td>0.626</td>\n",
       "      <td>41.000</td>\n",
       "      <td>1.000</td>\n",
       "    </tr>\n",
       "    <tr>\n",
       "      <th>max</th>\n",
       "      <td>17.000</td>\n",
       "      <td>199.000</td>\n",
       "      <td>122.000</td>\n",
       "      <td>99.000</td>\n",
       "      <td>846.000</td>\n",
       "      <td>67.100</td>\n",
       "      <td>2.420</td>\n",
       "      <td>81.000</td>\n",
       "      <td>1.000</td>\n",
       "    </tr>\n",
       "  </tbody>\n",
       "</table>\n",
       "</div>"
      ],
      "text/plain": [
       "       Pregnancies  Glucose  BloodPressure  SkinThickness  Insulin     BMI  \\\n",
       "count      768.000  768.000        768.000        768.000  768.000 768.000   \n",
       "mean         3.845  121.656         72.387         29.108  140.672  32.455   \n",
       "std          3.370   30.438         12.097          8.791   86.383   6.875   \n",
       "min          0.000   44.000         24.000          7.000   14.000  18.200   \n",
       "25%          1.000   99.750         64.000         25.000  121.500  27.500   \n",
       "50%          3.000  117.000         72.000         29.000  125.000  32.300   \n",
       "75%          6.000  140.250         80.000         32.000  127.250  36.600   \n",
       "max         17.000  199.000        122.000         99.000  846.000  67.100   \n",
       "\n",
       "       DiabetesPedigreeFunction     Age  Outcome  \n",
       "count                   768.000 768.000  768.000  \n",
       "mean                      0.472  33.241    0.349  \n",
       "std                       0.331  11.760    0.477  \n",
       "min                       0.078  21.000    0.000  \n",
       "25%                       0.244  24.000    0.000  \n",
       "50%                       0.372  29.000    0.000  \n",
       "75%                       0.626  41.000    1.000  \n",
       "max                       2.420  81.000    1.000  "
      ]
     },
     "execution_count": 32,
     "metadata": {},
     "output_type": "execute_result"
    }
   ],
   "source": [
    "df.describe()"
   ]
  },
  {
   "attachments": {
    "d4d21c4a-37bf-4308-b7ef-d7f3c76eee35.png": {
     "image/png": "[encoded data removed]"
    }
   },
   "cell_type": "markdown",
   "id": "9ba7aeef",
   "metadata": {
    "papermill": {
     "duration": 0.029934,
     "end_time": "2025-03-05T19:25:06.622700",
     "exception": false,
     "start_time": "2025-03-05T19:25:06.592766",
     "status": "completed"
    },
    "tags": []
   },
   "source": [
    "![image.png](attachment:d4d21c4a-37bf-4308-b7ef-d7f3c76eee35.png)"
   ]
  },
  {
   "cell_type": "markdown",
   "id": "b59032ca",
   "metadata": {
    "papermill": {
     "duration": 0.030077,
     "end_time": "2025-03-05T19:25:06.683334",
     "exception": false,
     "start_time": "2025-03-05T19:25:06.653257",
     "status": "completed"
    },
    "tags": []
   },
   "source": [
    "## 2.2) AYKIRI DEĞER ANALİZİ"
   ]
  },
  {
   "cell_type": "code",
   "execution_count": 33,
   "id": "61cbda99",
   "metadata": {
    "execution": {
     "iopub.execute_input": "2025-03-05T19:25:06.745507Z",
     "iopub.status.busy": "2025-03-05T19:25:06.745116Z",
     "iopub.status.idle": "2025-03-05T19:25:06.750055Z",
     "shell.execute_reply": "2025-03-05T19:25:06.749193Z"
    },
    "papermill": {
     "duration": 0.037931,
     "end_time": "2025-03-05T19:25:06.751743",
     "exception": false,
     "start_time": "2025-03-05T19:25:06.713812",
     "status": "completed"
    },
    "tags": []
   },
   "outputs": [],
   "source": [
    "# aykırı degerler için limit belirleme\n",
    "def outlier_thresholds(dataframe, col_name, q1=0.05, q3=0.95):\n",
    "    quartile1 = dataframe[col_name].quantile(q1)\n",
    "    quartile3 = dataframe[col_name].quantile(q3)\n",
    "    interquantile_range = quartile3 - quartile1\n",
    "    up_limit = quartile3 + 1.5 * interquantile_range\n",
    "    low_limit = quartile1 - 1.5 * interquantile_range\n",
    "    return low_limit, up_limit"
   ]
  },
  {
   "cell_type": "code",
   "execution_count": 34,
   "id": "3154c7e9",
   "metadata": {
    "execution": {
     "iopub.execute_input": "2025-03-05T19:25:06.816068Z",
     "iopub.status.busy": "2025-03-05T19:25:06.815719Z",
     "iopub.status.idle": "2025-03-05T19:25:06.821085Z",
     "shell.execute_reply": "2025-03-05T19:25:06.819683Z"
    },
    "papermill": {
     "duration": 0.039432,
     "end_time": "2025-03-05T19:25:06.823015",
     "exception": false,
     "start_time": "2025-03-05T19:25:06.783583",
     "status": "completed"
    },
    "tags": []
   },
   "outputs": [],
   "source": [
    "# aykırı deger var mı yok mu?\n",
    "def check_outlier(dataframe, col_name):\n",
    "    low_limit, up_limit = outlier_thresholds(dataframe, col_name)\n",
    "    if dataframe[(dataframe[col_name] > up_limit) | (dataframe[col_name] < low_limit)].any(axis=None):\n",
    "        return True\n",
    "    else:\n",
    "        return False"
   ]
  },
  {
   "cell_type": "code",
   "execution_count": 35,
   "id": "9221c3e9",
   "metadata": {
    "execution": {
     "iopub.execute_input": "2025-03-05T19:25:06.887002Z",
     "iopub.status.busy": "2025-03-05T19:25:06.886668Z",
     "iopub.status.idle": "2025-03-05T19:25:06.891675Z",
     "shell.execute_reply": "2025-03-05T19:25:06.890634Z"
    },
    "papermill": {
     "duration": 0.038406,
     "end_time": "2025-03-05T19:25:06.893507",
     "exception": false,
     "start_time": "2025-03-05T19:25:06.855101",
     "status": "completed"
    },
    "tags": []
   },
   "outputs": [],
   "source": [
    "# aykırı degerleri baskılama\n",
    "def replace_with_thresholds(dataframe, variable, q1=0.05, q3=0.95):\n",
    "    low_limit, up_limit = outlier_thresholds(dataframe, variable, q1=0.05, q3=0.95)\n",
    "    dataframe.loc[(dataframe[variable] < low_limit), variable] = low_limit\n",
    "    dataframe.loc[(dataframe[variable] > up_limit), variable] = up_limit"
   ]
  },
  {
   "cell_type": "code",
   "execution_count": 36,
   "id": "7ef2c580",
   "metadata": {
    "execution": {
     "iopub.execute_input": "2025-03-05T19:25:06.957065Z",
     "iopub.status.busy": "2025-03-05T19:25:06.956691Z",
     "iopub.status.idle": "2025-03-05T19:25:07.154790Z",
     "shell.execute_reply": "2025-03-05T19:25:07.153729Z"
    },
    "papermill": {
     "duration": 0.231625,
     "end_time": "2025-03-05T19:25:07.156575",
     "exception": false,
     "start_time": "2025-03-05T19:25:06.924950",
     "status": "completed"
    },
    "tags": []
   },
   "outputs": [
    {
     "data": {
      "text/plain": [
       "<Axes: xlabel='Insulin'>"
      ]
     },
     "execution_count": 36,
     "metadata": {},
     "output_type": "execute_result"
    },
    {
     "data": {
      "image/png": "[encoded data removed]",
      "text/plain": [
       "<Figure size 640x480 with 1 Axes>"
      ]
     },
     "metadata": {},
     "output_type": "display_data"
    }
   ],
   "source": [
    " sns.boxplot(x=df[\"Insulin\"])"
   ]
  },
  {
   "cell_type": "code",
   "execution_count": 37,
   "id": "3f1a0946",
   "metadata": {
    "execution": {
     "iopub.execute_input": "2025-03-05T19:25:07.220957Z",
     "iopub.status.busy": "2025-03-05T19:25:07.220569Z",
     "iopub.status.idle": "2025-03-05T19:25:07.279329Z",
     "shell.execute_reply": "2025-03-05T19:25:07.278151Z"
    },
    "papermill": {
     "duration": 0.092777,
     "end_time": "2025-03-05T19:25:07.281023",
     "exception": false,
     "start_time": "2025-03-05T19:25:07.188246",
     "status": "completed"
    },
    "tags": []
   },
   "outputs": [
    {
     "name": "stdout",
     "output_type": "stream",
     "text": [
      "Pregnancies False\n",
      "Glucose False\n",
      "BloodPressure False\n",
      "SkinThickness True\n",
      "Insulin True\n",
      "BMI False\n",
      "DiabetesPedigreeFunction False\n",
      "Age False\n",
      "Outcome False\n"
     ]
    }
   ],
   "source": [
    "# Aykırı Değer Analizi ve Baskılama İşlemi\n",
    "for col in df.columns:\n",
    "    print(col, check_outlier(df, col))\n",
    "    if check_outlier(df, col):\n",
    "        replace_with_thresholds(df, col)"
   ]
  },
  {
   "cell_type": "code",
   "execution_count": 38,
   "id": "679d32d7",
   "metadata": {
    "execution": {
     "iopub.execute_input": "2025-03-05T19:25:07.345180Z",
     "iopub.status.busy": "2025-03-05T19:25:07.344855Z",
     "iopub.status.idle": "2025-03-05T19:25:07.374483Z",
     "shell.execute_reply": "2025-03-05T19:25:07.373286Z"
    },
    "papermill": {
     "duration": 0.063203,
     "end_time": "2025-03-05T19:25:07.376067",
     "exception": false,
     "start_time": "2025-03-05T19:25:07.312864",
     "status": "completed"
    },
    "tags": []
   },
   "outputs": [
    {
     "name": "stdout",
     "output_type": "stream",
     "text": [
      "Pregnancies False\n",
      "Glucose False\n",
      "BloodPressure False\n",
      "SkinThickness False\n",
      "Insulin False\n",
      "BMI False\n",
      "DiabetesPedigreeFunction False\n",
      "Age False\n",
      "Outcome False\n"
     ]
    }
   ],
   "source": [
    "for col in df.columns:\n",
    "    print(col, check_outlier(df, col))"
   ]
  },
  {
   "cell_type": "markdown",
   "id": "e825465d",
   "metadata": {
    "papermill": {
     "duration": 0.031271,
     "end_time": "2025-03-05T19:25:07.439258",
     "exception": false,
     "start_time": "2025-03-05T19:25:07.407987",
     "status": "completed"
    },
    "tags": []
   },
   "source": [
    "## 2.3) ÖZELLİK ÇIKARIMI"
   ]
  },
  {
   "cell_type": "code",
   "execution_count": 39,
   "id": "b0b076c6",
   "metadata": {
    "execution": {
     "iopub.execute_input": "2025-03-05T19:25:07.504728Z",
     "iopub.status.busy": "2025-03-05T19:25:07.504386Z",
     "iopub.status.idle": "2025-03-05T19:25:07.511798Z",
     "shell.execute_reply": "2025-03-05T19:25:07.510983Z"
    },
    "papermill": {
     "duration": 0.042321,
     "end_time": "2025-03-05T19:25:07.513291",
     "exception": false,
     "start_time": "2025-03-05T19:25:07.470970",
     "status": "completed"
    },
    "tags": []
   },
   "outputs": [],
   "source": [
    "# Yaş değişkenini kategorilere ayırıp yeni yaş değişkeni oluşturulması\n",
    "df.loc[(df[\"Age\"] >= 21) & (df[\"Age\"] < 50), \"NEW_AGE_CAT\"] = \"mature\" # \"NEW_AGE_CAT\"] = \"mature\" → Bu koşulu sağlayan satırların \"NEW_AGE_CAT\" sütununa \"mature\" (olgun) değerini yaz\n",
    "df.loc[(df[\"Age\"] >= 50), \"NEW_AGE_CAT\"] = \"senior\""
   ]
  },
  {
   "cell_type": "code",
   "execution_count": 40,
   "id": "99a2bb96",
   "metadata": {
    "execution": {
     "iopub.execute_input": "2025-03-05T19:25:07.577556Z",
     "iopub.status.busy": "2025-03-05T19:25:07.577147Z",
     "iopub.status.idle": "2025-03-05T19:25:07.588544Z",
     "shell.execute_reply": "2025-03-05T19:25:07.587626Z"
    },
    "papermill": {
     "duration": 0.045375,
     "end_time": "2025-03-05T19:25:07.590132",
     "exception": false,
     "start_time": "2025-03-05T19:25:07.544757",
     "status": "completed"
    },
    "tags": []
   },
   "outputs": [
    {
     "data": {
      "text/html": [
       "<div>\n",
       "<style scoped>\n",
       "    .dataframe tbody tr th:only-of-type {\n",
       "        vertical-align: middle;\n",
       "    }\n",
       "\n",
       "    .dataframe tbody tr th {\n",
       "        vertical-align: top;\n",
       "    }\n",
       "\n",
       "    .dataframe thead th {\n",
       "        text-align: right;\n",
       "    }\n",
       "</style>\n",
       "<table border=\"1\" class=\"dataframe\">\n",
       "  <thead>\n",
       "    <tr style=\"text-align: right;\">\n",
       "      <th></th>\n",
       "      <th>Pregnancies</th>\n",
       "      <th>Glucose</th>\n",
       "      <th>BloodPressure</th>\n",
       "      <th>SkinThickness</th>\n",
       "      <th>Insulin</th>\n",
       "      <th>BMI</th>\n",
       "      <th>DiabetesPedigreeFunction</th>\n",
       "      <th>Age</th>\n",
       "      <th>Outcome</th>\n",
       "      <th>NEW_AGE_CAT</th>\n",
       "    </tr>\n",
       "  </thead>\n",
       "  <tbody>\n",
       "    <tr>\n",
       "      <th>0</th>\n",
       "      <td>6</td>\n",
       "      <td>148.000</td>\n",
       "      <td>72.000</td>\n",
       "      <td>35.000</td>\n",
       "      <td>125.000</td>\n",
       "      <td>33.600</td>\n",
       "      <td>0.627</td>\n",
       "      <td>50</td>\n",
       "      <td>1</td>\n",
       "      <td>senior</td>\n",
       "    </tr>\n",
       "    <tr>\n",
       "      <th>1</th>\n",
       "      <td>1</td>\n",
       "      <td>85.000</td>\n",
       "      <td>66.000</td>\n",
       "      <td>29.000</td>\n",
       "      <td>125.000</td>\n",
       "      <td>26.600</td>\n",
       "      <td>0.351</td>\n",
       "      <td>31</td>\n",
       "      <td>0</td>\n",
       "      <td>mature</td>\n",
       "    </tr>\n",
       "    <tr>\n",
       "      <th>2</th>\n",
       "      <td>8</td>\n",
       "      <td>183.000</td>\n",
       "      <td>64.000</td>\n",
       "      <td>29.000</td>\n",
       "      <td>125.000</td>\n",
       "      <td>23.300</td>\n",
       "      <td>0.672</td>\n",
       "      <td>32</td>\n",
       "      <td>1</td>\n",
       "      <td>mature</td>\n",
       "    </tr>\n",
       "    <tr>\n",
       "      <th>3</th>\n",
       "      <td>1</td>\n",
       "      <td>89.000</td>\n",
       "      <td>66.000</td>\n",
       "      <td>23.000</td>\n",
       "      <td>94.000</td>\n",
       "      <td>28.100</td>\n",
       "      <td>0.167</td>\n",
       "      <td>21</td>\n",
       "      <td>0</td>\n",
       "      <td>mature</td>\n",
       "    </tr>\n",
       "    <tr>\n",
       "      <th>4</th>\n",
       "      <td>0</td>\n",
       "      <td>137.000</td>\n",
       "      <td>40.000</td>\n",
       "      <td>35.000</td>\n",
       "      <td>168.000</td>\n",
       "      <td>43.100</td>\n",
       "      <td>2.288</td>\n",
       "      <td>33</td>\n",
       "      <td>1</td>\n",
       "      <td>mature</td>\n",
       "    </tr>\n",
       "  </tbody>\n",
       "</table>\n",
       "</div>"
      ],
      "text/plain": [
       "   Pregnancies  Glucose  BloodPressure  SkinThickness  Insulin    BMI  \\\n",
       "0            6  148.000         72.000         35.000  125.000 33.600   \n",
       "1            1   85.000         66.000         29.000  125.000 26.600   \n",
       "2            8  183.000         64.000         29.000  125.000 23.300   \n",
       "3            1   89.000         66.000         23.000   94.000 28.100   \n",
       "4            0  137.000         40.000         35.000  168.000 43.100   \n",
       "\n",
       "   DiabetesPedigreeFunction  Age  Outcome NEW_AGE_CAT  \n",
       "0                     0.627   50        1      senior  \n",
       "1                     0.351   31        0      mature  \n",
       "2                     0.672   32        1      mature  \n",
       "3                     0.167   21        0      mature  \n",
       "4                     2.288   33        1      mature  "
      ]
     },
     "execution_count": 40,
     "metadata": {},
     "output_type": "execute_result"
    }
   ],
   "source": [
    "df.head()"
   ]
  },
  {
   "cell_type": "code",
   "execution_count": 41,
   "id": "420ac3b3",
   "metadata": {
    "execution": {
     "iopub.execute_input": "2025-03-05T19:25:07.654750Z",
     "iopub.status.busy": "2025-03-05T19:25:07.654393Z",
     "iopub.status.idle": "2025-03-05T19:25:07.662615Z",
     "shell.execute_reply": "2025-03-05T19:25:07.661575Z"
    },
    "papermill": {
     "duration": 0.041843,
     "end_time": "2025-03-05T19:25:07.664211",
     "exception": false,
     "start_time": "2025-03-05T19:25:07.622368",
     "status": "completed"
    },
    "tags": []
   },
   "outputs": [],
   "source": [
    "# BMI 18,5 aşağısı underweight, 18.5 ile 24.9 arası normal, 24.9 ile 29.9 arası Overweight ve 30 üstü obez\n",
    "df['NEW_BMI'] = pd.cut(x=df['BMI'], bins=[0, 18.5, 24.9, 29.9, 100],labels=[\"Underweight\", \"Healthy\", \"Overweight\", \"Obese\"])\n",
    "#literatur taramasından elde ettigimiz degerler."
   ]
  },
  {
   "cell_type": "code",
   "execution_count": 42,
   "id": "24d69d5c",
   "metadata": {
    "execution": {
     "iopub.execute_input": "2025-03-05T19:25:07.729586Z",
     "iopub.status.busy": "2025-03-05T19:25:07.729187Z",
     "iopub.status.idle": "2025-03-05T19:25:07.735503Z",
     "shell.execute_reply": "2025-03-05T19:25:07.734545Z"
    },
    "papermill": {
     "duration": 0.040127,
     "end_time": "2025-03-05T19:25:07.737046",
     "exception": false,
     "start_time": "2025-03-05T19:25:07.696919",
     "status": "completed"
    },
    "tags": []
   },
   "outputs": [],
   "source": [
    "# Glukoz degerini kategorik değişkene çevirme\n",
    "df[\"NEW_GLUCOSE\"] = pd.cut(x=df[\"Glucose\"], bins=[0, 140, 200, 300], labels=[\"Normal\", \"Prediabetes\", \"Diabetes\"])"
   ]
  },
  {
   "cell_type": "markdown",
   "id": "cdc84db5",
   "metadata": {
    "papermill": {
     "duration": 0.03144,
     "end_time": "2025-03-05T19:25:07.800468",
     "exception": false,
     "start_time": "2025-03-05T19:25:07.769028",
     "status": "completed"
    },
    "tags": []
   },
   "source": [
    " **Neden Değişkenleri Kombinlemeliyiz?**\n",
    "İki veya daha fazla değişkeni birleştirme kararını verirken aşağıdaki kriterlere bakmalıyız:\n",
    "\n",
    "1. **Değişkenler arasındaki ilişkiyi anlamak**  \n",
    "   - Örneğin, glikoz seviyesi tek başına diyabet riski hakkında bilgi verir. Ama yaş da önemli bir faktördür çünkü yaş ilerledikçe insülin direnci ve diyabet riski artar.\n",
    "   - Bu yüzden, **yaş + glikoz seviyesi** birleşimi diyabet teşhisi için daha anlamlı olabilir.\n",
    "\n",
    "2. **Hedef değişken ile ilişkisi var mı?**  \n",
    "   - Eğer hem yaş hem de glikoz seviyesi, **hedef değişken (örneğin diyabet olup olmama durumu)** ile ilişkiliyse, bunları birleştirerek yeni bir değişken oluşturmak mantıklıdır.\n",
    "\n",
    "3. **Değişkenler arasında etkileşim olup olmadığı**  \n",
    "   - Örneğin, **glikoz seviyesi 130 olan bir kişi 25 yaşında ise mi daha riskli, yoksa 60 yaşında ise mi?**  \n",
    "   - 60 yaşındaki kişi için daha yüksek bir risk olabilir çünkü yaş faktörü de etkili.\n",
    "\n",
    "4. **Modelin daha iyi öğrenmesini sağlamak**  \n",
    "   - Eğer yaş ve glikoz seviyesini ayrı ayrı kullanırsak model bunları tek tek değerlendirir. Ama **bu ikisini birleştirerek modelin farklı grupları daha iyi anlamasını sağlayabiliriz**."
   ]
  },
  {
   "cell_type": "code",
   "execution_count": 43,
   "id": "212ac291",
   "metadata": {
    "execution": {
     "iopub.execute_input": "2025-03-05T19:25:07.867163Z",
     "iopub.status.busy": "2025-03-05T19:25:07.866841Z",
     "iopub.status.idle": "2025-03-05T19:25:07.883903Z",
     "shell.execute_reply": "2025-03-05T19:25:07.882761Z"
    },
    "papermill": {
     "duration": 0.052108,
     "end_time": "2025-03-05T19:25:07.885816",
     "exception": false,
     "start_time": "2025-03-05T19:25:07.833708",
     "status": "completed"
    },
    "tags": []
   },
   "outputs": [],
   "source": [
    "# Yaş ve beden kitle indeksini bir arada düşünerek kategorik değişken oluşturma 3 kırılım yakalandı\n",
    "df.loc[(df[\"BMI\"] < 18.5) & ((df[\"Age\"] >= 21) & (df[\"Age\"] < 50)), \"NEW_AGE_BMI_NOM\"] = \"underweightmature\"\n",
    "df.loc[(df[\"BMI\"] < 18.5) & (df[\"Age\"] >= 50), \"NEW_AGE_BMI_NOM\"] = \"underweightsenior\"\n",
    "df.loc[((df[\"BMI\"] >= 18.5) & (df[\"BMI\"] < 25)) & ((df[\"Age\"] >= 21) & (df[\"Age\"] < 50)), \"NEW_AGE_BMI_NOM\"] = \"healthymature\"\n",
    "df.loc[((df[\"BMI\"] >= 18.5) & (df[\"BMI\"] < 25)) & (df[\"Age\"] >= 50), \"NEW_AGE_BMI_NOM\"] = \"healthysenior\"\n",
    "df.loc[((df[\"BMI\"] >= 25) & (df[\"BMI\"] < 30)) & ((df[\"Age\"] >= 21) & (df[\"Age\"] < 50)), \"NEW_AGE_BMI_NOM\"] = \"overweightmature\"\n",
    "df.loc[((df[\"BMI\"] >= 25) & (df[\"BMI\"] < 30)) & (df[\"Age\"] >= 50), \"NEW_AGE_BMI_NOM\"] = \"overweightsenior\"\n",
    "df.loc[(df[\"BMI\"] > 18.5) & ((df[\"Age\"] >= 21) & (df[\"Age\"] < 50)), \"NEW_AGE_BMI_NOM\"] = \"obesemature\"\n",
    "df.loc[(df[\"BMI\"] > 18.5) & (df[\"Age\"] >= 50), \"NEW_AGE_BMI_NOM\"] = \"obesesenior\""
   ]
  },
  {
   "cell_type": "code",
   "execution_count": 44,
   "id": "e4e88edd",
   "metadata": {
    "execution": {
     "iopub.execute_input": "2025-03-05T19:25:07.950446Z",
     "iopub.status.busy": "2025-03-05T19:25:07.950059Z",
     "iopub.status.idle": "2025-03-05T19:25:07.965917Z",
     "shell.execute_reply": "2025-03-05T19:25:07.965098Z"
    },
    "papermill": {
     "duration": 0.050059,
     "end_time": "2025-03-05T19:25:07.967624",
     "exception": false,
     "start_time": "2025-03-05T19:25:07.917565",
     "status": "completed"
    },
    "tags": []
   },
   "outputs": [],
   "source": [
    "# Yaş ve Glikoz değerlerini bir arada düşünerek kategorik değişken oluşturma\n",
    "df.loc[(df[\"Glucose\"] < 70) & ((df[\"Age\"] >= 21) & (df[\"Age\"] < 50)), \"NEW_AGE_GLUCOSE_NOM\"] = \"lowmature\"\n",
    "df.loc[(df[\"Glucose\"] < 70) & (df[\"Age\"] >= 50), \"NEW_AGE_GLUCOSE_NOM\"] = \"lowsenior\"\n",
    "df.loc[((df[\"Glucose\"] >= 70) & (df[\"Glucose\"] < 100)) & ((df[\"Age\"] >= 21) & (df[\"Age\"] < 50)), \"NEW_AGE_GLUCOSE_NOM\"] = \"normalmature\"\n",
    "df.loc[((df[\"Glucose\"] >= 70) & (df[\"Glucose\"] < 100)) & (df[\"Age\"] >= 50), \"NEW_AGE_GLUCOSE_NOM\"] = \"normalsenior\"\n",
    "df.loc[((df[\"Glucose\"] >= 100) & (df[\"Glucose\"] <= 125)) & ((df[\"Age\"] >= 21) & (df[\"Age\"] < 50)), \"NEW_AGE_GLUCOSE_NOM\"] = \"hiddenmature\"\n",
    "df.loc[((df[\"Glucose\"] >= 100) & (df[\"Glucose\"] <= 125)) & (df[\"Age\"] >= 50), \"NEW_AGE_GLUCOSE_NOM\"] = \"hiddensenior\"\n",
    "df.loc[(df[\"Glucose\"] > 125) & ((df[\"Age\"] >= 21) & (df[\"Age\"] < 50)), \"NEW_AGE_GLUCOSE_NOM\"] = \"highmature\"\n",
    "df.loc[(df[\"Glucose\"] > 125) & (df[\"Age\"] >= 50), \"NEW_AGE_GLUCOSE_NOM\"] = \"highsenior\""
   ]
  },
  {
   "cell_type": "code",
   "execution_count": 45,
   "id": "36add516",
   "metadata": {
    "execution": {
     "iopub.execute_input": "2025-03-05T19:25:08.033242Z",
     "iopub.status.busy": "2025-03-05T19:25:08.032870Z",
     "iopub.status.idle": "2025-03-05T19:25:08.037481Z",
     "shell.execute_reply": "2025-03-05T19:25:08.036331Z"
    },
    "papermill": {
     "duration": 0.03873,
     "end_time": "2025-03-05T19:25:08.039105",
     "exception": false,
     "start_time": "2025-03-05T19:25:08.000375",
     "status": "completed"
    },
    "tags": []
   },
   "outputs": [],
   "source": [
    "# İnsulin Değeri ile Kategorik değişken türetmek\n",
    "def set_insulin(dataframe, col_name=\"Insulin\"):\n",
    "    if 16 <= dataframe[col_name] <= 166:\n",
    "        return \"Normal\"\n",
    "    else:\n",
    "        return \"Abnormal\""
   ]
  },
  {
   "cell_type": "code",
   "execution_count": 46,
   "id": "428757b9",
   "metadata": {
    "execution": {
     "iopub.execute_input": "2025-03-05T19:25:08.104127Z",
     "iopub.status.busy": "2025-03-05T19:25:08.103806Z",
     "iopub.status.idle": "2025-03-05T19:25:08.117388Z",
     "shell.execute_reply": "2025-03-05T19:25:08.116293Z"
    },
    "papermill": {
     "duration": 0.047805,
     "end_time": "2025-03-05T19:25:08.119093",
     "exception": false,
     "start_time": "2025-03-05T19:25:08.071288",
     "status": "completed"
    },
    "tags": []
   },
   "outputs": [],
   "source": [
    "df[\"NEW_INSULIN_SCORE\"] = df.apply(set_insulin, axis=1)"
   ]
  },
  {
   "cell_type": "code",
   "execution_count": 47,
   "id": "2f28e325",
   "metadata": {
    "execution": {
     "iopub.execute_input": "2025-03-05T19:25:08.184778Z",
     "iopub.status.busy": "2025-03-05T19:25:08.184436Z",
     "iopub.status.idle": "2025-03-05T19:25:08.198594Z",
     "shell.execute_reply": "2025-03-05T19:25:08.197513Z"
    },
    "papermill": {
     "duration": 0.049161,
     "end_time": "2025-03-05T19:25:08.200293",
     "exception": false,
     "start_time": "2025-03-05T19:25:08.151132",
     "status": "completed"
    },
    "tags": []
   },
   "outputs": [
    {
     "data": {
      "text/html": [
       "<div>\n",
       "<style scoped>\n",
       "    .dataframe tbody tr th:only-of-type {\n",
       "        vertical-align: middle;\n",
       "    }\n",
       "\n",
       "    .dataframe tbody tr th {\n",
       "        vertical-align: top;\n",
       "    }\n",
       "\n",
       "    .dataframe thead th {\n",
       "        text-align: right;\n",
       "    }\n",
       "</style>\n",
       "<table border=\"1\" class=\"dataframe\">\n",
       "  <thead>\n",
       "    <tr style=\"text-align: right;\">\n",
       "      <th></th>\n",
       "      <th>Pregnancies</th>\n",
       "      <th>Glucose</th>\n",
       "      <th>BloodPressure</th>\n",
       "      <th>SkinThickness</th>\n",
       "      <th>Insulin</th>\n",
       "      <th>BMI</th>\n",
       "      <th>DiabetesPedigreeFunction</th>\n",
       "      <th>Age</th>\n",
       "      <th>Outcome</th>\n",
       "      <th>NEW_AGE_CAT</th>\n",
       "      <th>NEW_BMI</th>\n",
       "      <th>NEW_GLUCOSE</th>\n",
       "      <th>NEW_AGE_BMI_NOM</th>\n",
       "      <th>NEW_AGE_GLUCOSE_NOM</th>\n",
       "      <th>NEW_INSULIN_SCORE</th>\n",
       "    </tr>\n",
       "  </thead>\n",
       "  <tbody>\n",
       "    <tr>\n",
       "      <th>0</th>\n",
       "      <td>6</td>\n",
       "      <td>148.000</td>\n",
       "      <td>72.000</td>\n",
       "      <td>35.000</td>\n",
       "      <td>125.000</td>\n",
       "      <td>33.600</td>\n",
       "      <td>0.627</td>\n",
       "      <td>50</td>\n",
       "      <td>1</td>\n",
       "      <td>senior</td>\n",
       "      <td>Obese</td>\n",
       "      <td>Prediabetes</td>\n",
       "      <td>obesesenior</td>\n",
       "      <td>highsenior</td>\n",
       "      <td>Normal</td>\n",
       "    </tr>\n",
       "    <tr>\n",
       "      <th>1</th>\n",
       "      <td>1</td>\n",
       "      <td>85.000</td>\n",
       "      <td>66.000</td>\n",
       "      <td>29.000</td>\n",
       "      <td>125.000</td>\n",
       "      <td>26.600</td>\n",
       "      <td>0.351</td>\n",
       "      <td>31</td>\n",
       "      <td>0</td>\n",
       "      <td>mature</td>\n",
       "      <td>Overweight</td>\n",
       "      <td>Normal</td>\n",
       "      <td>obesemature</td>\n",
       "      <td>normalmature</td>\n",
       "      <td>Normal</td>\n",
       "    </tr>\n",
       "    <tr>\n",
       "      <th>2</th>\n",
       "      <td>8</td>\n",
       "      <td>183.000</td>\n",
       "      <td>64.000</td>\n",
       "      <td>29.000</td>\n",
       "      <td>125.000</td>\n",
       "      <td>23.300</td>\n",
       "      <td>0.672</td>\n",
       "      <td>32</td>\n",
       "      <td>1</td>\n",
       "      <td>mature</td>\n",
       "      <td>Healthy</td>\n",
       "      <td>Prediabetes</td>\n",
       "      <td>obesemature</td>\n",
       "      <td>highmature</td>\n",
       "      <td>Normal</td>\n",
       "    </tr>\n",
       "    <tr>\n",
       "      <th>3</th>\n",
       "      <td>1</td>\n",
       "      <td>89.000</td>\n",
       "      <td>66.000</td>\n",
       "      <td>23.000</td>\n",
       "      <td>94.000</td>\n",
       "      <td>28.100</td>\n",
       "      <td>0.167</td>\n",
       "      <td>21</td>\n",
       "      <td>0</td>\n",
       "      <td>mature</td>\n",
       "      <td>Overweight</td>\n",
       "      <td>Normal</td>\n",
       "      <td>obesemature</td>\n",
       "      <td>normalmature</td>\n",
       "      <td>Normal</td>\n",
       "    </tr>\n",
       "    <tr>\n",
       "      <th>4</th>\n",
       "      <td>0</td>\n",
       "      <td>137.000</td>\n",
       "      <td>40.000</td>\n",
       "      <td>35.000</td>\n",
       "      <td>168.000</td>\n",
       "      <td>43.100</td>\n",
       "      <td>2.288</td>\n",
       "      <td>33</td>\n",
       "      <td>1</td>\n",
       "      <td>mature</td>\n",
       "      <td>Obese</td>\n",
       "      <td>Normal</td>\n",
       "      <td>obesemature</td>\n",
       "      <td>highmature</td>\n",
       "      <td>Abnormal</td>\n",
       "    </tr>\n",
       "  </tbody>\n",
       "</table>\n",
       "</div>"
      ],
      "text/plain": [
       "   Pregnancies  Glucose  BloodPressure  SkinThickness  Insulin    BMI  \\\n",
       "0            6  148.000         72.000         35.000  125.000 33.600   \n",
       "1            1   85.000         66.000         29.000  125.000 26.600   \n",
       "2            8  183.000         64.000         29.000  125.000 23.300   \n",
       "3            1   89.000         66.000         23.000   94.000 28.100   \n",
       "4            0  137.000         40.000         35.000  168.000 43.100   \n",
       "\n",
       "   DiabetesPedigreeFunction  Age  Outcome NEW_AGE_CAT     NEW_BMI  \\\n",
       "0                     0.627   50        1      senior       Obese   \n",
       "1                     0.351   31        0      mature  Overweight   \n",
       "2                     0.672   32        1      mature     Healthy   \n",
       "3                     0.167   21        0      mature  Overweight   \n",
       "4                     2.288   33        1      mature       Obese   \n",
       "\n",
       "   NEW_GLUCOSE NEW_AGE_BMI_NOM NEW_AGE_GLUCOSE_NOM NEW_INSULIN_SCORE  \n",
       "0  Prediabetes     obesesenior          highsenior            Normal  \n",
       "1       Normal     obesemature        normalmature            Normal  \n",
       "2  Prediabetes     obesemature          highmature            Normal  \n",
       "3       Normal     obesemature        normalmature            Normal  \n",
       "4       Normal     obesemature          highmature          Abnormal  "
      ]
     },
     "execution_count": 47,
     "metadata": {},
     "output_type": "execute_result"
    }
   ],
   "source": [
    "df.head()"
   ]
  },
  {
   "cell_type": "markdown",
   "id": "fd42a4da",
   "metadata": {
    "papermill": {
     "duration": 0.0318,
     "end_time": "2025-03-05T19:25:08.264311",
     "exception": false,
     "start_time": "2025-03-05T19:25:08.232511",
     "status": "completed"
    },
    "tags": []
   },
   "source": [
    "\n",
    "**1. Feature Engineering Mantığı**  \n",
    "Feature engineering sürecinde **var olan değişkenlerden yeni anlamlı değişkenler türetmek**, modelin daha iyi öğrenmesini sağlayabilir.  \n",
    "\n",
    "Glikoz ve insülin seviyeleri diyabetle doğrudan ilişkilidir. Ama bu değişkenlere **ayrı ayrı bakmak yerine, bunları birlikte değerlendirmek** modelin diyabet riskini daha iyi anlamasına yardımcı olabilir.  \n",
    "\n",
    "\n",
    "**2. Bu İşlem Ne Yapıyor?**  \n",
    "df[\"NEW_GLUCOSE*INSULIN\"] = df[\"Glucose\"] * df[\"Insulin\"]\n",
    "\n",
    "Bu kod, **her bir satır için** **Glikoz (Glucose) ve İnsülin (Insulin) değerlerini çarpıyor** ve yeni bir değişken olarak ekliyor.  \n",
    "\n",
    "**3. Neden Çarpım Kullanıldı?**  \n",
    "**Glikoz ve insülin seviyeleri diyabetle bağlantılıdır, ancak tek başlarına yeterli olmayabilir.**  \n",
    "\n",
    "- **Yüksek Glikoz & Düşük İnsülin** → **Riskli durum** (İnsülin direnci olabilir.)  \n",
    "- **Düşük Glikoz & Yüksek İnsülin** → **Başka bir metabolik durum olabilir.**  \n",
    "- **İkisi de yüksek** → **Potansiyel diyabet hastası olabilir.**  \n",
    "\n",
    "İkisinin **çarpımı**, bu iki değişkenin **birlikte nasıl hareket ettiğini** gösterir ve modelin bu etkileşimi öğrenmesini sağlar.\n",
    " **5. Sonuç**\n",
    " **Neden bu işlem yapıldı?**  \n",
    "- Glikoz ve insülin **birlikte analiz edilerek diyabet riskinin daha iyi anlaşılması** hedefleniyor.  \n",
    "- Çarpım, iki değişken arasındaki **etkileşimi yakalamaya** yardımcı oluyor.  \n",
    "- **Daha güçlü bir veri temsili oluşturmak için** feature engineering tekniklerinden biri olarak kullanılıyor.  \n",
    "\n",
    " **Başka yöntemler kullanılabilir mi?**  \n",
    "- Evet, oran almak, log dönüşümü yapmak veya normalize etmek de alternatif yöntemlerdir.  "
   ]
  },
  {
   "cell_type": "code",
   "execution_count": 48,
   "id": "9baec8a7",
   "metadata": {
    "execution": {
     "iopub.execute_input": "2025-03-05T19:25:08.330714Z",
     "iopub.status.busy": "2025-03-05T19:25:08.330374Z",
     "iopub.status.idle": "2025-03-05T19:25:08.335780Z",
     "shell.execute_reply": "2025-03-05T19:25:08.334709Z"
    },
    "papermill": {
     "duration": 0.040772,
     "end_time": "2025-03-05T19:25:08.337439",
     "exception": false,
     "start_time": "2025-03-05T19:25:08.296667",
     "status": "completed"
    },
    "tags": []
   },
   "outputs": [],
   "source": [
    "df[\"NEW_GLUCOSE*INSULIN\"] = df[\"Glucose\"] * df[\"Insulin\"]"
   ]
  },
  {
   "cell_type": "code",
   "execution_count": 49,
   "id": "1dbf2270",
   "metadata": {
    "execution": {
     "iopub.execute_input": "2025-03-05T19:25:08.403444Z",
     "iopub.status.busy": "2025-03-05T19:25:08.403065Z",
     "iopub.status.idle": "2025-03-05T19:25:08.408275Z",
     "shell.execute_reply": "2025-03-05T19:25:08.407346Z"
    },
    "papermill": {
     "duration": 0.040476,
     "end_time": "2025-03-05T19:25:08.410040",
     "exception": false,
     "start_time": "2025-03-05T19:25:08.369564",
     "status": "completed"
    },
    "tags": []
   },
   "outputs": [],
   "source": [
    "df[\"NEW_GLUCOSE*PREGNANCIES\"] = df[\"Glucose\"] * df[\"Pregnancies\"]"
   ]
  },
  {
   "cell_type": "code",
   "execution_count": 50,
   "id": "1c5040cf",
   "metadata": {
    "execution": {
     "iopub.execute_input": "2025-03-05T19:25:08.478532Z",
     "iopub.status.busy": "2025-03-05T19:25:08.478131Z",
     "iopub.status.idle": "2025-03-05T19:25:08.492989Z",
     "shell.execute_reply": "2025-03-05T19:25:08.492125Z"
    },
    "papermill": {
     "duration": 0.049893,
     "end_time": "2025-03-05T19:25:08.494463",
     "exception": false,
     "start_time": "2025-03-05T19:25:08.444570",
     "status": "completed"
    },
    "tags": []
   },
   "outputs": [
    {
     "data": {
      "text/html": [
       "<div>\n",
       "<style scoped>\n",
       "    .dataframe tbody tr th:only-of-type {\n",
       "        vertical-align: middle;\n",
       "    }\n",
       "\n",
       "    .dataframe tbody tr th {\n",
       "        vertical-align: top;\n",
       "    }\n",
       "\n",
       "    .dataframe thead th {\n",
       "        text-align: right;\n",
       "    }\n",
       "</style>\n",
       "<table border=\"1\" class=\"dataframe\">\n",
       "  <thead>\n",
       "    <tr style=\"text-align: right;\">\n",
       "      <th></th>\n",
       "      <th>Pregnancies</th>\n",
       "      <th>Glucose</th>\n",
       "      <th>BloodPressure</th>\n",
       "      <th>SkinThickness</th>\n",
       "      <th>Insulin</th>\n",
       "      <th>BMI</th>\n",
       "      <th>DiabetesPedigreeFunction</th>\n",
       "      <th>Age</th>\n",
       "      <th>Outcome</th>\n",
       "      <th>NEW_AGE_CAT</th>\n",
       "      <th>NEW_BMI</th>\n",
       "      <th>NEW_GLUCOSE</th>\n",
       "      <th>NEW_AGE_BMI_NOM</th>\n",
       "      <th>NEW_AGE_GLUCOSE_NOM</th>\n",
       "      <th>NEW_INSULIN_SCORE</th>\n",
       "      <th>NEW_GLUCOSE*INSULIN</th>\n",
       "      <th>NEW_GLUCOSE*PREGNANCIES</th>\n",
       "    </tr>\n",
       "  </thead>\n",
       "  <tbody>\n",
       "    <tr>\n",
       "      <th>0</th>\n",
       "      <td>6</td>\n",
       "      <td>148.000</td>\n",
       "      <td>72.000</td>\n",
       "      <td>35.000</td>\n",
       "      <td>125.000</td>\n",
       "      <td>33.600</td>\n",
       "      <td>0.627</td>\n",
       "      <td>50</td>\n",
       "      <td>1</td>\n",
       "      <td>senior</td>\n",
       "      <td>Obese</td>\n",
       "      <td>Prediabetes</td>\n",
       "      <td>obesesenior</td>\n",
       "      <td>highsenior</td>\n",
       "      <td>Normal</td>\n",
       "      <td>18500.000</td>\n",
       "      <td>888.000</td>\n",
       "    </tr>\n",
       "    <tr>\n",
       "      <th>1</th>\n",
       "      <td>1</td>\n",
       "      <td>85.000</td>\n",
       "      <td>66.000</td>\n",
       "      <td>29.000</td>\n",
       "      <td>125.000</td>\n",
       "      <td>26.600</td>\n",
       "      <td>0.351</td>\n",
       "      <td>31</td>\n",
       "      <td>0</td>\n",
       "      <td>mature</td>\n",
       "      <td>Overweight</td>\n",
       "      <td>Normal</td>\n",
       "      <td>obesemature</td>\n",
       "      <td>normalmature</td>\n",
       "      <td>Normal</td>\n",
       "      <td>10625.000</td>\n",
       "      <td>85.000</td>\n",
       "    </tr>\n",
       "    <tr>\n",
       "      <th>2</th>\n",
       "      <td>8</td>\n",
       "      <td>183.000</td>\n",
       "      <td>64.000</td>\n",
       "      <td>29.000</td>\n",
       "      <td>125.000</td>\n",
       "      <td>23.300</td>\n",
       "      <td>0.672</td>\n",
       "      <td>32</td>\n",
       "      <td>1</td>\n",
       "      <td>mature</td>\n",
       "      <td>Healthy</td>\n",
       "      <td>Prediabetes</td>\n",
       "      <td>obesemature</td>\n",
       "      <td>highmature</td>\n",
       "      <td>Normal</td>\n",
       "      <td>22875.000</td>\n",
       "      <td>1464.000</td>\n",
       "    </tr>\n",
       "    <tr>\n",
       "      <th>3</th>\n",
       "      <td>1</td>\n",
       "      <td>89.000</td>\n",
       "      <td>66.000</td>\n",
       "      <td>23.000</td>\n",
       "      <td>94.000</td>\n",
       "      <td>28.100</td>\n",
       "      <td>0.167</td>\n",
       "      <td>21</td>\n",
       "      <td>0</td>\n",
       "      <td>mature</td>\n",
       "      <td>Overweight</td>\n",
       "      <td>Normal</td>\n",
       "      <td>obesemature</td>\n",
       "      <td>normalmature</td>\n",
       "      <td>Normal</td>\n",
       "      <td>8366.000</td>\n",
       "      <td>89.000</td>\n",
       "    </tr>\n",
       "    <tr>\n",
       "      <th>4</th>\n",
       "      <td>0</td>\n",
       "      <td>137.000</td>\n",
       "      <td>40.000</td>\n",
       "      <td>35.000</td>\n",
       "      <td>168.000</td>\n",
       "      <td>43.100</td>\n",
       "      <td>2.288</td>\n",
       "      <td>33</td>\n",
       "      <td>1</td>\n",
       "      <td>mature</td>\n",
       "      <td>Obese</td>\n",
       "      <td>Normal</td>\n",
       "      <td>obesemature</td>\n",
       "      <td>highmature</td>\n",
       "      <td>Abnormal</td>\n",
       "      <td>23016.000</td>\n",
       "      <td>0.000</td>\n",
       "    </tr>\n",
       "  </tbody>\n",
       "</table>\n",
       "</div>"
      ],
      "text/plain": [
       "   Pregnancies  Glucose  BloodPressure  SkinThickness  Insulin    BMI  \\\n",
       "0            6  148.000         72.000         35.000  125.000 33.600   \n",
       "1            1   85.000         66.000         29.000  125.000 26.600   \n",
       "2            8  183.000         64.000         29.000  125.000 23.300   \n",
       "3            1   89.000         66.000         23.000   94.000 28.100   \n",
       "4            0  137.000         40.000         35.000  168.000 43.100   \n",
       "\n",
       "   DiabetesPedigreeFunction  Age  Outcome NEW_AGE_CAT     NEW_BMI  \\\n",
       "0                     0.627   50        1      senior       Obese   \n",
       "1                     0.351   31        0      mature  Overweight   \n",
       "2                     0.672   32        1      mature     Healthy   \n",
       "3                     0.167   21        0      mature  Overweight   \n",
       "4                     2.288   33        1      mature       Obese   \n",
       "\n",
       "   NEW_GLUCOSE NEW_AGE_BMI_NOM NEW_AGE_GLUCOSE_NOM NEW_INSULIN_SCORE  \\\n",
       "0  Prediabetes     obesesenior          highsenior            Normal   \n",
       "1       Normal     obesemature        normalmature            Normal   \n",
       "2  Prediabetes     obesemature          highmature            Normal   \n",
       "3       Normal     obesemature        normalmature            Normal   \n",
       "4       Normal     obesemature          highmature          Abnormal   \n",
       "\n",
       "   NEW_GLUCOSE*INSULIN  NEW_GLUCOSE*PREGNANCIES  \n",
       "0            18500.000                  888.000  \n",
       "1            10625.000                   85.000  \n",
       "2            22875.000                 1464.000  \n",
       "3             8366.000                   89.000  \n",
       "4            23016.000                    0.000  "
      ]
     },
     "execution_count": 50,
     "metadata": {},
     "output_type": "execute_result"
    }
   ],
   "source": [
    "df.head()"
   ]
  },
  {
   "cell_type": "code",
   "execution_count": 51,
   "id": "aeed56ac",
   "metadata": {
    "execution": {
     "iopub.execute_input": "2025-03-05T19:25:08.560490Z",
     "iopub.status.busy": "2025-03-05T19:25:08.560119Z",
     "iopub.status.idle": "2025-03-05T19:25:08.564663Z",
     "shell.execute_reply": "2025-03-05T19:25:08.563642Z"
    },
    "papermill": {
     "duration": 0.039324,
     "end_time": "2025-03-05T19:25:08.566327",
     "exception": false,
     "start_time": "2025-03-05T19:25:08.527003",
     "status": "completed"
    },
    "tags": []
   },
   "outputs": [],
   "source": [
    "# Kolonların büyütülmesi\n",
    "df.columns = [col.upper() for col in df.columns]"
   ]
  },
  {
   "cell_type": "code",
   "execution_count": 52,
   "id": "6323edea",
   "metadata": {
    "execution": {
     "iopub.execute_input": "2025-03-05T19:25:08.633378Z",
     "iopub.status.busy": "2025-03-05T19:25:08.632982Z",
     "iopub.status.idle": "2025-03-05T19:25:08.647924Z",
     "shell.execute_reply": "2025-03-05T19:25:08.647014Z"
    },
    "papermill": {
     "duration": 0.05023,
     "end_time": "2025-03-05T19:25:08.649423",
     "exception": false,
     "start_time": "2025-03-05T19:25:08.599193",
     "status": "completed"
    },
    "tags": []
   },
   "outputs": [
    {
     "data": {
      "text/html": [
       "<div>\n",
       "<style scoped>\n",
       "    .dataframe tbody tr th:only-of-type {\n",
       "        vertical-align: middle;\n",
       "    }\n",
       "\n",
       "    .dataframe tbody tr th {\n",
       "        vertical-align: top;\n",
       "    }\n",
       "\n",
       "    .dataframe thead th {\n",
       "        text-align: right;\n",
       "    }\n",
       "</style>\n",
       "<table border=\"1\" class=\"dataframe\">\n",
       "  <thead>\n",
       "    <tr style=\"text-align: right;\">\n",
       "      <th></th>\n",
       "      <th>PREGNANCIES</th>\n",
       "      <th>GLUCOSE</th>\n",
       "      <th>BLOODPRESSURE</th>\n",
       "      <th>SKINTHICKNESS</th>\n",
       "      <th>INSULIN</th>\n",
       "      <th>BMI</th>\n",
       "      <th>DIABETESPEDIGREEFUNCTION</th>\n",
       "      <th>AGE</th>\n",
       "      <th>OUTCOME</th>\n",
       "      <th>NEW_AGE_CAT</th>\n",
       "      <th>NEW_BMI</th>\n",
       "      <th>NEW_GLUCOSE</th>\n",
       "      <th>NEW_AGE_BMI_NOM</th>\n",
       "      <th>NEW_AGE_GLUCOSE_NOM</th>\n",
       "      <th>NEW_INSULIN_SCORE</th>\n",
       "      <th>NEW_GLUCOSE*INSULIN</th>\n",
       "      <th>NEW_GLUCOSE*PREGNANCIES</th>\n",
       "    </tr>\n",
       "  </thead>\n",
       "  <tbody>\n",
       "    <tr>\n",
       "      <th>0</th>\n",
       "      <td>6</td>\n",
       "      <td>148.000</td>\n",
       "      <td>72.000</td>\n",
       "      <td>35.000</td>\n",
       "      <td>125.000</td>\n",
       "      <td>33.600</td>\n",
       "      <td>0.627</td>\n",
       "      <td>50</td>\n",
       "      <td>1</td>\n",
       "      <td>senior</td>\n",
       "      <td>Obese</td>\n",
       "      <td>Prediabetes</td>\n",
       "      <td>obesesenior</td>\n",
       "      <td>highsenior</td>\n",
       "      <td>Normal</td>\n",
       "      <td>18500.000</td>\n",
       "      <td>888.000</td>\n",
       "    </tr>\n",
       "    <tr>\n",
       "      <th>1</th>\n",
       "      <td>1</td>\n",
       "      <td>85.000</td>\n",
       "      <td>66.000</td>\n",
       "      <td>29.000</td>\n",
       "      <td>125.000</td>\n",
       "      <td>26.600</td>\n",
       "      <td>0.351</td>\n",
       "      <td>31</td>\n",
       "      <td>0</td>\n",
       "      <td>mature</td>\n",
       "      <td>Overweight</td>\n",
       "      <td>Normal</td>\n",
       "      <td>obesemature</td>\n",
       "      <td>normalmature</td>\n",
       "      <td>Normal</td>\n",
       "      <td>10625.000</td>\n",
       "      <td>85.000</td>\n",
       "    </tr>\n",
       "    <tr>\n",
       "      <th>2</th>\n",
       "      <td>8</td>\n",
       "      <td>183.000</td>\n",
       "      <td>64.000</td>\n",
       "      <td>29.000</td>\n",
       "      <td>125.000</td>\n",
       "      <td>23.300</td>\n",
       "      <td>0.672</td>\n",
       "      <td>32</td>\n",
       "      <td>1</td>\n",
       "      <td>mature</td>\n",
       "      <td>Healthy</td>\n",
       "      <td>Prediabetes</td>\n",
       "      <td>obesemature</td>\n",
       "      <td>highmature</td>\n",
       "      <td>Normal</td>\n",
       "      <td>22875.000</td>\n",
       "      <td>1464.000</td>\n",
       "    </tr>\n",
       "    <tr>\n",
       "      <th>3</th>\n",
       "      <td>1</td>\n",
       "      <td>89.000</td>\n",
       "      <td>66.000</td>\n",
       "      <td>23.000</td>\n",
       "      <td>94.000</td>\n",
       "      <td>28.100</td>\n",
       "      <td>0.167</td>\n",
       "      <td>21</td>\n",
       "      <td>0</td>\n",
       "      <td>mature</td>\n",
       "      <td>Overweight</td>\n",
       "      <td>Normal</td>\n",
       "      <td>obesemature</td>\n",
       "      <td>normalmature</td>\n",
       "      <td>Normal</td>\n",
       "      <td>8366.000</td>\n",
       "      <td>89.000</td>\n",
       "    </tr>\n",
       "    <tr>\n",
       "      <th>4</th>\n",
       "      <td>0</td>\n",
       "      <td>137.000</td>\n",
       "      <td>40.000</td>\n",
       "      <td>35.000</td>\n",
       "      <td>168.000</td>\n",
       "      <td>43.100</td>\n",
       "      <td>2.288</td>\n",
       "      <td>33</td>\n",
       "      <td>1</td>\n",
       "      <td>mature</td>\n",
       "      <td>Obese</td>\n",
       "      <td>Normal</td>\n",
       "      <td>obesemature</td>\n",
       "      <td>highmature</td>\n",
       "      <td>Abnormal</td>\n",
       "      <td>23016.000</td>\n",
       "      <td>0.000</td>\n",
       "    </tr>\n",
       "  </tbody>\n",
       "</table>\n",
       "</div>"
      ],
      "text/plain": [
       "   PREGNANCIES  GLUCOSE  BLOODPRESSURE  SKINTHICKNESS  INSULIN    BMI  \\\n",
       "0            6  148.000         72.000         35.000  125.000 33.600   \n",
       "1            1   85.000         66.000         29.000  125.000 26.600   \n",
       "2            8  183.000         64.000         29.000  125.000 23.300   \n",
       "3            1   89.000         66.000         23.000   94.000 28.100   \n",
       "4            0  137.000         40.000         35.000  168.000 43.100   \n",
       "\n",
       "   DIABETESPEDIGREEFUNCTION  AGE  OUTCOME NEW_AGE_CAT     NEW_BMI  \\\n",
       "0                     0.627   50        1      senior       Obese   \n",
       "1                     0.351   31        0      mature  Overweight   \n",
       "2                     0.672   32        1      mature     Healthy   \n",
       "3                     0.167   21        0      mature  Overweight   \n",
       "4                     2.288   33        1      mature       Obese   \n",
       "\n",
       "   NEW_GLUCOSE NEW_AGE_BMI_NOM NEW_AGE_GLUCOSE_NOM NEW_INSULIN_SCORE  \\\n",
       "0  Prediabetes     obesesenior          highsenior            Normal   \n",
       "1       Normal     obesemature        normalmature            Normal   \n",
       "2  Prediabetes     obesemature          highmature            Normal   \n",
       "3       Normal     obesemature        normalmature            Normal   \n",
       "4       Normal     obesemature          highmature          Abnormal   \n",
       "\n",
       "   NEW_GLUCOSE*INSULIN  NEW_GLUCOSE*PREGNANCIES  \n",
       "0            18500.000                  888.000  \n",
       "1            10625.000                   85.000  \n",
       "2            22875.000                 1464.000  \n",
       "3             8366.000                   89.000  \n",
       "4            23016.000                    0.000  "
      ]
     },
     "execution_count": 52,
     "metadata": {},
     "output_type": "execute_result"
    }
   ],
   "source": [
    "df.head()"
   ]
  },
  {
   "cell_type": "markdown",
   "id": "fa555677",
   "metadata": {
    "papermill": {
     "duration": 0.032462,
     "end_time": "2025-03-05T19:25:08.715261",
     "exception": false,
     "start_time": "2025-03-05T19:25:08.682799",
     "status": "completed"
    },
    "tags": []
   },
   "source": [
    "## 2.4) ENCODING\n",
    "\n",
    "Encoding, verileri makine öğrenmesi veya istatistiksel analiz için uygun hale getirmek amacıyla sayılarla ifade etme işlemidir.\n",
    "\n",
    "Makine öğrenmesi algoritmaları sayılarla çalışır, bu yüzden kategorik verileri sayısal hale getirmek için encoding işlemi yapılır."
   ]
  },
  {
   "cell_type": "code",
   "execution_count": 53,
   "id": "001ee736",
   "metadata": {
    "execution": {
     "iopub.execute_input": "2025-03-05T19:25:08.781910Z",
     "iopub.status.busy": "2025-03-05T19:25:08.781569Z",
     "iopub.status.idle": "2025-03-05T19:25:08.787051Z",
     "shell.execute_reply": "2025-03-05T19:25:08.786168Z"
    },
    "papermill": {
     "duration": 0.040399,
     "end_time": "2025-03-05T19:25:08.788555",
     "exception": false,
     "start_time": "2025-03-05T19:25:08.748156",
     "status": "completed"
    },
    "tags": []
   },
   "outputs": [
    {
     "data": {
      "text/plain": [
       "['Pregnancies',\n",
       " 'Glucose',\n",
       " 'BloodPressure',\n",
       " 'SkinThickness',\n",
       " 'Insulin',\n",
       " 'BMI',\n",
       " 'DiabetesPedigreeFunction',\n",
       " 'Age']"
      ]
     },
     "execution_count": 53,
     "metadata": {},
     "output_type": "execute_result"
    }
   ],
   "source": [
    "num_cols"
   ]
  },
  {
   "cell_type": "code",
   "execution_count": 54,
   "id": "f3b6dd72",
   "metadata": {
    "execution": {
     "iopub.execute_input": "2025-03-05T19:25:08.857354Z",
     "iopub.status.busy": "2025-03-05T19:25:08.856954Z",
     "iopub.status.idle": "2025-03-05T19:25:08.868658Z",
     "shell.execute_reply": "2025-03-05T19:25:08.867355Z"
    },
    "papermill": {
     "duration": 0.0492,
     "end_time": "2025-03-05T19:25:08.870495",
     "exception": false,
     "start_time": "2025-03-05T19:25:08.821295",
     "status": "completed"
    },
    "tags": []
   },
   "outputs": [
    {
     "name": "stdout",
     "output_type": "stream",
     "text": [
      "Observations: 768\n",
      "Variables: 17\n",
      "cat_cols: 7\n",
      "num_cols: 10\n",
      "cat_but_car: 0\n",
      "num_but_cat: 3\n"
     ]
    }
   ],
   "source": [
    "# Değişkenlerin tiplerine göre ayrılması işlemi\n",
    "cat_cols, num_cols, cat_but_car = grab_col_names(df)"
   ]
  },
  {
   "cell_type": "markdown",
   "id": "7a32f8e0",
   "metadata": {
    "papermill": {
     "duration": 0.032581,
     "end_time": "2025-03-05T19:25:08.936032",
     "exception": false,
     "start_time": "2025-03-05T19:25:08.903451",
     "status": "completed"
    },
    "tags": []
   },
   "source": [
    "**Label Encoding (Etiket Kodlama)**\n",
    "\n",
    "Her kategoriye benzersiz bir sayı atar.\n",
    "\n",
    "📌 Sıralı olmayan verilerde risklidir! Model yanlışlıkla bu sayıları bir büyüklük ilişkisi varmış gibi yorumlayabilir.\\\n",
    "🚨 Risk: Eğer \"Kadın\" = 1 ve \"Erkek\" = 0 olarak kodlanırsa, model Kadın > Erkek gibi bir anlam çıkartabilir (halbuki cinsiyet sıralı bir veri değildir!). Örneğin, lojistik regresyon veya doğrusal regresyon gibi algoritmalar bu sayıları sıralı gibi algılayabilir ve yanılabilir.\\\n",
    "Label Encoding, sayılar arasında bir büyüklük ilişkisi varmış gibi davranabilir. Cinsiyet gibi sıralı olmayan kategorik değişkenlerde, Label Encoding yerine One-Hot Encoding kullanmak daha güvenlidir.\n",
    "\n",
    "🎯 Ne Zaman Label Encoding Kullanabilirim?\n",
    "Eğer ağaç tabanlı algoritmalar (Random Forest, XGBoost, LightGBM) kullanıyorsan, Label Encoding sorun yaratmaz çünkü bu algoritmalar sayısal büyüklük ilişkisini kullanmaz. Ancak lojistik regresyon, SVM veya doğrusal regresyon gibi algoritmalar kullanıyorsan One-Hot Encoding daha iyi olur.\n",
    "\n",
    "🌳 Ağaç Tabanlı Algoritmalar ve Kategorik Değişkenler: \n",
    "Ağaç tabanlı modeller (Random Forest, XGBoost, LightGBM), karar ağaçları kullanarak çalışır.\n",
    "Bu algoritmalar, veriyi bölerek dallanma (split) işlemi yapar.\n",
    "\n",
    "🚀 Neden Ağaç Modelleri Sayısal İlişkiyi Umursamaz?\n",
    "Ağaç modelleri büyüklük ilişkisi (Kadın > Erkek gibi) oluşturmaz çünkü:\n",
    "\n",
    "Karar noktalarında (split) kategori bazlı bölme yapar (Kadın ve Erkek gibi).\n",
    "Sayıları karşılaştırmak yerine ayrık gruplar oluşturur.\n",
    "Bu nedenle Label Encoding kullanıldığında bile yanlış sıralama etkisi yaratmaz.\n",
    "🟢 Örnek: LightGBM veya XGBoost\n",
    "Bu algoritmalar, kategorik değişkenleri bölerek işler ve sayısal büyüklüğe göre sıralama yapmazlar.\n",
    "Bu yüzden Label Encoding kullanılsa bile model için Kadın (1) ve Erkek (0) sadece farklı gruplar olur.\n",
    "\n",
    "📌 Özet:\n",
    "Sıralı olmayan değişkenler için → One-Hot Encoding kullan \\\n",
    "Ağaç tabanlı modellerde → Label Encoding kullanılabilir"
   ]
  },
  {
   "cell_type": "markdown",
   "id": "54893708",
   "metadata": {
    "papermill": {
     "duration": 0.032148,
     "end_time": "2025-03-05T19:25:09.001022",
     "exception": false,
     "start_time": "2025-03-05T19:25:08.968874",
     "status": "completed"
    },
    "tags": []
   },
   "source": [
    "**Biz model oalrak Random Forest yani ağaç tabanlı bir model kullanacağımız için kategorik değişkenimize Label Encoding uygulayabiliyoruz.**"
   ]
  },
  {
   "cell_type": "markdown",
   "id": "64adc396",
   "metadata": {
    "papermill": {
     "duration": 0.03253,
     "end_time": "2025-03-05T19:25:09.066733",
     "exception": false,
     "start_time": "2025-03-05T19:25:09.034203",
     "status": "completed"
    },
    "tags": []
   },
   "source": [
    "### 2.4.1) LABEL ENCODING"
   ]
  },
  {
   "cell_type": "code",
   "execution_count": 55,
   "id": "d69fe4c2",
   "metadata": {
    "execution": {
     "iopub.execute_input": "2025-03-05T19:25:09.133497Z",
     "iopub.status.busy": "2025-03-05T19:25:09.133126Z",
     "iopub.status.idle": "2025-03-05T19:25:09.137791Z",
     "shell.execute_reply": "2025-03-05T19:25:09.136722Z"
    },
    "papermill": {
     "duration": 0.039969,
     "end_time": "2025-03-05T19:25:09.139361",
     "exception": false,
     "start_time": "2025-03-05T19:25:09.099392",
     "status": "completed"
    },
    "tags": []
   },
   "outputs": [],
   "source": [
    "# LABEL ENCODING\n",
    "def label_encoder(dataframe, binary_col):\n",
    "    labelencoder = LabelEncoder()\n",
    "    dataframe[binary_col] = labelencoder.fit_transform(dataframe[binary_col])\n",
    "    return dataframe"
   ]
  },
  {
   "cell_type": "code",
   "execution_count": 56,
   "id": "35a43fbe",
   "metadata": {
    "execution": {
     "iopub.execute_input": "2025-03-05T19:25:09.208061Z",
     "iopub.status.busy": "2025-03-05T19:25:09.207728Z",
     "iopub.status.idle": "2025-03-05T19:25:09.214972Z",
     "shell.execute_reply": "2025-03-05T19:25:09.213974Z"
    },
    "papermill": {
     "duration": 0.043407,
     "end_time": "2025-03-05T19:25:09.216474",
     "exception": false,
     "start_time": "2025-03-05T19:25:09.173067",
     "status": "completed"
    },
    "tags": []
   },
   "outputs": [
    {
     "data": {
      "text/plain": [
       "['NEW_AGE_CAT', 'NEW_INSULIN_SCORE']"
      ]
     },
     "execution_count": 56,
     "metadata": {},
     "output_type": "execute_result"
    }
   ],
   "source": [
    "binary_cols = [col for col in df.columns if df[col].dtypes == \"O\" and df[col].nunique() == 2]\n",
    "binary_cols"
   ]
  },
  {
   "cell_type": "code",
   "execution_count": 57,
   "id": "12e9d882",
   "metadata": {
    "execution": {
     "iopub.execute_input": "2025-03-05T19:25:09.286043Z",
     "iopub.status.busy": "2025-03-05T19:25:09.285648Z",
     "iopub.status.idle": "2025-03-05T19:25:09.291284Z",
     "shell.execute_reply": "2025-03-05T19:25:09.290198Z"
    },
    "papermill": {
     "duration": 0.041927,
     "end_time": "2025-03-05T19:25:09.292784",
     "exception": false,
     "start_time": "2025-03-05T19:25:09.250857",
     "status": "completed"
    },
    "tags": []
   },
   "outputs": [],
   "source": [
    "for col in binary_cols:\n",
    "    df = label_encoder(df, col)"
   ]
  },
  {
   "cell_type": "code",
   "execution_count": 58,
   "id": "265cae6c",
   "metadata": {
    "execution": {
     "iopub.execute_input": "2025-03-05T19:25:09.360279Z",
     "iopub.status.busy": "2025-03-05T19:25:09.359886Z",
     "iopub.status.idle": "2025-03-05T19:25:09.374269Z",
     "shell.execute_reply": "2025-03-05T19:25:09.373192Z"
    },
    "papermill": {
     "duration": 0.049884,
     "end_time": "2025-03-05T19:25:09.375850",
     "exception": false,
     "start_time": "2025-03-05T19:25:09.325966",
     "status": "completed"
    },
    "tags": []
   },
   "outputs": [
    {
     "data": {
      "text/html": [
       "<div>\n",
       "<style scoped>\n",
       "    .dataframe tbody tr th:only-of-type {\n",
       "        vertical-align: middle;\n",
       "    }\n",
       "\n",
       "    .dataframe tbody tr th {\n",
       "        vertical-align: top;\n",
       "    }\n",
       "\n",
       "    .dataframe thead th {\n",
       "        text-align: right;\n",
       "    }\n",
       "</style>\n",
       "<table border=\"1\" class=\"dataframe\">\n",
       "  <thead>\n",
       "    <tr style=\"text-align: right;\">\n",
       "      <th></th>\n",
       "      <th>PREGNANCIES</th>\n",
       "      <th>GLUCOSE</th>\n",
       "      <th>BLOODPRESSURE</th>\n",
       "      <th>SKINTHICKNESS</th>\n",
       "      <th>INSULIN</th>\n",
       "      <th>BMI</th>\n",
       "      <th>DIABETESPEDIGREEFUNCTION</th>\n",
       "      <th>AGE</th>\n",
       "      <th>OUTCOME</th>\n",
       "      <th>NEW_AGE_CAT</th>\n",
       "      <th>NEW_BMI</th>\n",
       "      <th>NEW_GLUCOSE</th>\n",
       "      <th>NEW_AGE_BMI_NOM</th>\n",
       "      <th>NEW_AGE_GLUCOSE_NOM</th>\n",
       "      <th>NEW_INSULIN_SCORE</th>\n",
       "      <th>NEW_GLUCOSE*INSULIN</th>\n",
       "      <th>NEW_GLUCOSE*PREGNANCIES</th>\n",
       "    </tr>\n",
       "  </thead>\n",
       "  <tbody>\n",
       "    <tr>\n",
       "      <th>0</th>\n",
       "      <td>6</td>\n",
       "      <td>148.000</td>\n",
       "      <td>72.000</td>\n",
       "      <td>35.000</td>\n",
       "      <td>125.000</td>\n",
       "      <td>33.600</td>\n",
       "      <td>0.627</td>\n",
       "      <td>50</td>\n",
       "      <td>1</td>\n",
       "      <td>1</td>\n",
       "      <td>Obese</td>\n",
       "      <td>Prediabetes</td>\n",
       "      <td>obesesenior</td>\n",
       "      <td>highsenior</td>\n",
       "      <td>1</td>\n",
       "      <td>18500.000</td>\n",
       "      <td>888.000</td>\n",
       "    </tr>\n",
       "    <tr>\n",
       "      <th>1</th>\n",
       "      <td>1</td>\n",
       "      <td>85.000</td>\n",
       "      <td>66.000</td>\n",
       "      <td>29.000</td>\n",
       "      <td>125.000</td>\n",
       "      <td>26.600</td>\n",
       "      <td>0.351</td>\n",
       "      <td>31</td>\n",
       "      <td>0</td>\n",
       "      <td>0</td>\n",
       "      <td>Overweight</td>\n",
       "      <td>Normal</td>\n",
       "      <td>obesemature</td>\n",
       "      <td>normalmature</td>\n",
       "      <td>1</td>\n",
       "      <td>10625.000</td>\n",
       "      <td>85.000</td>\n",
       "    </tr>\n",
       "    <tr>\n",
       "      <th>2</th>\n",
       "      <td>8</td>\n",
       "      <td>183.000</td>\n",
       "      <td>64.000</td>\n",
       "      <td>29.000</td>\n",
       "      <td>125.000</td>\n",
       "      <td>23.300</td>\n",
       "      <td>0.672</td>\n",
       "      <td>32</td>\n",
       "      <td>1</td>\n",
       "      <td>0</td>\n",
       "      <td>Healthy</td>\n",
       "      <td>Prediabetes</td>\n",
       "      <td>obesemature</td>\n",
       "      <td>highmature</td>\n",
       "      <td>1</td>\n",
       "      <td>22875.000</td>\n",
       "      <td>1464.000</td>\n",
       "    </tr>\n",
       "    <tr>\n",
       "      <th>3</th>\n",
       "      <td>1</td>\n",
       "      <td>89.000</td>\n",
       "      <td>66.000</td>\n",
       "      <td>23.000</td>\n",
       "      <td>94.000</td>\n",
       "      <td>28.100</td>\n",
       "      <td>0.167</td>\n",
       "      <td>21</td>\n",
       "      <td>0</td>\n",
       "      <td>0</td>\n",
       "      <td>Overweight</td>\n",
       "      <td>Normal</td>\n",
       "      <td>obesemature</td>\n",
       "      <td>normalmature</td>\n",
       "      <td>1</td>\n",
       "      <td>8366.000</td>\n",
       "      <td>89.000</td>\n",
       "    </tr>\n",
       "    <tr>\n",
       "      <th>4</th>\n",
       "      <td>0</td>\n",
       "      <td>137.000</td>\n",
       "      <td>40.000</td>\n",
       "      <td>35.000</td>\n",
       "      <td>168.000</td>\n",
       "      <td>43.100</td>\n",
       "      <td>2.288</td>\n",
       "      <td>33</td>\n",
       "      <td>1</td>\n",
       "      <td>0</td>\n",
       "      <td>Obese</td>\n",
       "      <td>Normal</td>\n",
       "      <td>obesemature</td>\n",
       "      <td>highmature</td>\n",
       "      <td>0</td>\n",
       "      <td>23016.000</td>\n",
       "      <td>0.000</td>\n",
       "    </tr>\n",
       "  </tbody>\n",
       "</table>\n",
       "</div>"
      ],
      "text/plain": [
       "   PREGNANCIES  GLUCOSE  BLOODPRESSURE  SKINTHICKNESS  INSULIN    BMI  \\\n",
       "0            6  148.000         72.000         35.000  125.000 33.600   \n",
       "1            1   85.000         66.000         29.000  125.000 26.600   \n",
       "2            8  183.000         64.000         29.000  125.000 23.300   \n",
       "3            1   89.000         66.000         23.000   94.000 28.100   \n",
       "4            0  137.000         40.000         35.000  168.000 43.100   \n",
       "\n",
       "   DIABETESPEDIGREEFUNCTION  AGE  OUTCOME  NEW_AGE_CAT     NEW_BMI  \\\n",
       "0                     0.627   50        1            1       Obese   \n",
       "1                     0.351   31        0            0  Overweight   \n",
       "2                     0.672   32        1            0     Healthy   \n",
       "3                     0.167   21        0            0  Overweight   \n",
       "4                     2.288   33        1            0       Obese   \n",
       "\n",
       "   NEW_GLUCOSE NEW_AGE_BMI_NOM NEW_AGE_GLUCOSE_NOM  NEW_INSULIN_SCORE  \\\n",
       "0  Prediabetes     obesesenior          highsenior                  1   \n",
       "1       Normal     obesemature        normalmature                  1   \n",
       "2  Prediabetes     obesemature          highmature                  1   \n",
       "3       Normal     obesemature        normalmature                  1   \n",
       "4       Normal     obesemature          highmature                  0   \n",
       "\n",
       "   NEW_GLUCOSE*INSULIN  NEW_GLUCOSE*PREGNANCIES  \n",
       "0            18500.000                  888.000  \n",
       "1            10625.000                   85.000  \n",
       "2            22875.000                 1464.000  \n",
       "3             8366.000                   89.000  \n",
       "4            23016.000                    0.000  "
      ]
     },
     "execution_count": 58,
     "metadata": {},
     "output_type": "execute_result"
    }
   ],
   "source": [
    "df.head()"
   ]
  },
  {
   "cell_type": "markdown",
   "id": "e5fe97b0",
   "metadata": {
    "papermill": {
     "duration": 0.032779,
     "end_time": "2025-03-05T19:25:09.442333",
     "exception": false,
     "start_time": "2025-03-05T19:25:09.409554",
     "status": "completed"
    },
    "tags": []
   },
   "source": [
    "### 2.4.2) One-Hot Encoding "
   ]
  },
  {
   "cell_type": "code",
   "execution_count": 59,
   "id": "2c483f11",
   "metadata": {
    "execution": {
     "iopub.execute_input": "2025-03-05T19:25:09.511991Z",
     "iopub.status.busy": "2025-03-05T19:25:09.511593Z",
     "iopub.status.idle": "2025-03-05T19:25:09.517626Z",
     "shell.execute_reply": "2025-03-05T19:25:09.516721Z"
    },
    "papermill": {
     "duration": 0.042812,
     "end_time": "2025-03-05T19:25:09.519073",
     "exception": false,
     "start_time": "2025-03-05T19:25:09.476261",
     "status": "completed"
    },
    "tags": []
   },
   "outputs": [
    {
     "data": {
      "text/plain": [
       "['NEW_AGE_BMI_NOM', 'NEW_AGE_GLUCOSE_NOM', 'NEW_BMI', 'NEW_GLUCOSE']"
      ]
     },
     "execution_count": 59,
     "metadata": {},
     "output_type": "execute_result"
    }
   ],
   "source": [
    "# One-Hot Encoding İşlemi\n",
    "# cat_cols listesinin güncelleme işlemi\n",
    "# target değişkenimi cıkarıyorum.\n",
    "# bir de binary_cols, zaten daha öncesinde label encoder uygulamıstım.\n",
    "cat_cols = [col for col in cat_cols if col not in binary_cols and col not in [\"OUTCOME\"]]\n",
    "cat_cols"
   ]
  },
  {
   "cell_type": "code",
   "execution_count": 60,
   "id": "d24e9865",
   "metadata": {
    "execution": {
     "iopub.execute_input": "2025-03-05T19:25:09.588249Z",
     "iopub.status.busy": "2025-03-05T19:25:09.587904Z",
     "iopub.status.idle": "2025-03-05T19:25:09.592358Z",
     "shell.execute_reply": "2025-03-05T19:25:09.591379Z"
    },
    "papermill": {
     "duration": 0.040529,
     "end_time": "2025-03-05T19:25:09.593878",
     "exception": false,
     "start_time": "2025-03-05T19:25:09.553349",
     "status": "completed"
    },
    "tags": []
   },
   "outputs": [],
   "source": [
    "def one_hot_encoder(dataframe, categorical_cols, drop_first=False):\n",
    "    dataframe = pd.get_dummies(dataframe, columns=categorical_cols, drop_first=drop_first)\n",
    "    return dataframe"
   ]
  },
  {
   "cell_type": "code",
   "execution_count": 61,
   "id": "5c0267ac",
   "metadata": {
    "execution": {
     "iopub.execute_input": "2025-03-05T19:25:09.662462Z",
     "iopub.status.busy": "2025-03-05T19:25:09.662080Z",
     "iopub.status.idle": "2025-03-05T19:25:09.672167Z",
     "shell.execute_reply": "2025-03-05T19:25:09.671128Z"
    },
    "papermill": {
     "duration": 0.0466,
     "end_time": "2025-03-05T19:25:09.674100",
     "exception": false,
     "start_time": "2025-03-05T19:25:09.627500",
     "status": "completed"
    },
    "tags": []
   },
   "outputs": [],
   "source": [
    "df = one_hot_encoder(df, cat_cols, drop_first=True)"
   ]
  },
  {
   "cell_type": "code",
   "execution_count": 62,
   "id": "043a34ce",
   "metadata": {
    "execution": {
     "iopub.execute_input": "2025-03-05T19:25:09.743261Z",
     "iopub.status.busy": "2025-03-05T19:25:09.742860Z",
     "iopub.status.idle": "2025-03-05T19:25:09.763357Z",
     "shell.execute_reply": "2025-03-05T19:25:09.762277Z"
    },
    "papermill": {
     "duration": 0.056873,
     "end_time": "2025-03-05T19:25:09.765056",
     "exception": false,
     "start_time": "2025-03-05T19:25:09.708183",
     "status": "completed"
    },
    "tags": []
   },
   "outputs": [
    {
     "data": {
      "text/html": [
       "<div>\n",
       "<style scoped>\n",
       "    .dataframe tbody tr th:only-of-type {\n",
       "        vertical-align: middle;\n",
       "    }\n",
       "\n",
       "    .dataframe tbody tr th {\n",
       "        vertical-align: top;\n",
       "    }\n",
       "\n",
       "    .dataframe thead th {\n",
       "        text-align: right;\n",
       "    }\n",
       "</style>\n",
       "<table border=\"1\" class=\"dataframe\">\n",
       "  <thead>\n",
       "    <tr style=\"text-align: right;\">\n",
       "      <th></th>\n",
       "      <th>PREGNANCIES</th>\n",
       "      <th>GLUCOSE</th>\n",
       "      <th>BLOODPRESSURE</th>\n",
       "      <th>SKINTHICKNESS</th>\n",
       "      <th>INSULIN</th>\n",
       "      <th>BMI</th>\n",
       "      <th>DIABETESPEDIGREEFUNCTION</th>\n",
       "      <th>AGE</th>\n",
       "      <th>OUTCOME</th>\n",
       "      <th>NEW_AGE_CAT</th>\n",
       "      <th>NEW_INSULIN_SCORE</th>\n",
       "      <th>NEW_GLUCOSE*INSULIN</th>\n",
       "      <th>NEW_GLUCOSE*PREGNANCIES</th>\n",
       "      <th>NEW_AGE_BMI_NOM_obesesenior</th>\n",
       "      <th>NEW_AGE_BMI_NOM_underweightmature</th>\n",
       "      <th>NEW_AGE_GLUCOSE_NOM_hiddensenior</th>\n",
       "      <th>NEW_AGE_GLUCOSE_NOM_highmature</th>\n",
       "      <th>NEW_AGE_GLUCOSE_NOM_highsenior</th>\n",
       "      <th>NEW_AGE_GLUCOSE_NOM_lowmature</th>\n",
       "      <th>NEW_AGE_GLUCOSE_NOM_lowsenior</th>\n",
       "      <th>NEW_AGE_GLUCOSE_NOM_normalmature</th>\n",
       "      <th>NEW_AGE_GLUCOSE_NOM_normalsenior</th>\n",
       "      <th>NEW_BMI_Healthy</th>\n",
       "      <th>NEW_BMI_Overweight</th>\n",
       "      <th>NEW_BMI_Obese</th>\n",
       "      <th>NEW_GLUCOSE_Prediabetes</th>\n",
       "      <th>NEW_GLUCOSE_Diabetes</th>\n",
       "    </tr>\n",
       "  </thead>\n",
       "  <tbody>\n",
       "    <tr>\n",
       "      <th>0</th>\n",
       "      <td>6</td>\n",
       "      <td>148.000</td>\n",
       "      <td>72.000</td>\n",
       "      <td>35.000</td>\n",
       "      <td>125.000</td>\n",
       "      <td>33.600</td>\n",
       "      <td>0.627</td>\n",
       "      <td>50</td>\n",
       "      <td>1</td>\n",
       "      <td>1</td>\n",
       "      <td>1</td>\n",
       "      <td>18500.000</td>\n",
       "      <td>888.000</td>\n",
       "      <td>True</td>\n",
       "      <td>False</td>\n",
       "      <td>False</td>\n",
       "      <td>False</td>\n",
       "      <td>True</td>\n",
       "      <td>False</td>\n",
       "      <td>False</td>\n",
       "      <td>False</td>\n",
       "      <td>False</td>\n",
       "      <td>False</td>\n",
       "      <td>False</td>\n",
       "      <td>True</td>\n",
       "      <td>True</td>\n",
       "      <td>False</td>\n",
       "    </tr>\n",
       "    <tr>\n",
       "      <th>1</th>\n",
       "      <td>1</td>\n",
       "      <td>85.000</td>\n",
       "      <td>66.000</td>\n",
       "      <td>29.000</td>\n",
       "      <td>125.000</td>\n",
       "      <td>26.600</td>\n",
       "      <td>0.351</td>\n",
       "      <td>31</td>\n",
       "      <td>0</td>\n",
       "      <td>0</td>\n",
       "      <td>1</td>\n",
       "      <td>10625.000</td>\n",
       "      <td>85.000</td>\n",
       "      <td>False</td>\n",
       "      <td>False</td>\n",
       "      <td>False</td>\n",
       "      <td>False</td>\n",
       "      <td>False</td>\n",
       "      <td>False</td>\n",
       "      <td>False</td>\n",
       "      <td>True</td>\n",
       "      <td>False</td>\n",
       "      <td>False</td>\n",
       "      <td>True</td>\n",
       "      <td>False</td>\n",
       "      <td>False</td>\n",
       "      <td>False</td>\n",
       "    </tr>\n",
       "    <tr>\n",
       "      <th>2</th>\n",
       "      <td>8</td>\n",
       "      <td>183.000</td>\n",
       "      <td>64.000</td>\n",
       "      <td>29.000</td>\n",
       "      <td>125.000</td>\n",
       "      <td>23.300</td>\n",
       "      <td>0.672</td>\n",
       "      <td>32</td>\n",
       "      <td>1</td>\n",
       "      <td>0</td>\n",
       "      <td>1</td>\n",
       "      <td>22875.000</td>\n",
       "      <td>1464.000</td>\n",
       "      <td>False</td>\n",
       "      <td>False</td>\n",
       "      <td>False</td>\n",
       "      <td>True</td>\n",
       "      <td>False</td>\n",
       "      <td>False</td>\n",
       "      <td>False</td>\n",
       "      <td>False</td>\n",
       "      <td>False</td>\n",
       "      <td>True</td>\n",
       "      <td>False</td>\n",
       "      <td>False</td>\n",
       "      <td>True</td>\n",
       "      <td>False</td>\n",
       "    </tr>\n",
       "    <tr>\n",
       "      <th>3</th>\n",
       "      <td>1</td>\n",
       "      <td>89.000</td>\n",
       "      <td>66.000</td>\n",
       "      <td>23.000</td>\n",
       "      <td>94.000</td>\n",
       "      <td>28.100</td>\n",
       "      <td>0.167</td>\n",
       "      <td>21</td>\n",
       "      <td>0</td>\n",
       "      <td>0</td>\n",
       "      <td>1</td>\n",
       "      <td>8366.000</td>\n",
       "      <td>89.000</td>\n",
       "      <td>False</td>\n",
       "      <td>False</td>\n",
       "      <td>False</td>\n",
       "      <td>False</td>\n",
       "      <td>False</td>\n",
       "      <td>False</td>\n",
       "      <td>False</td>\n",
       "      <td>True</td>\n",
       "      <td>False</td>\n",
       "      <td>False</td>\n",
       "      <td>True</td>\n",
       "      <td>False</td>\n",
       "      <td>False</td>\n",
       "      <td>False</td>\n",
       "    </tr>\n",
       "    <tr>\n",
       "      <th>4</th>\n",
       "      <td>0</td>\n",
       "      <td>137.000</td>\n",
       "      <td>40.000</td>\n",
       "      <td>35.000</td>\n",
       "      <td>168.000</td>\n",
       "      <td>43.100</td>\n",
       "      <td>2.288</td>\n",
       "      <td>33</td>\n",
       "      <td>1</td>\n",
       "      <td>0</td>\n",
       "      <td>0</td>\n",
       "      <td>23016.000</td>\n",
       "      <td>0.000</td>\n",
       "      <td>False</td>\n",
       "      <td>False</td>\n",
       "      <td>False</td>\n",
       "      <td>True</td>\n",
       "      <td>False</td>\n",
       "      <td>False</td>\n",
       "      <td>False</td>\n",
       "      <td>False</td>\n",
       "      <td>False</td>\n",
       "      <td>False</td>\n",
       "      <td>False</td>\n",
       "      <td>True</td>\n",
       "      <td>False</td>\n",
       "      <td>False</td>\n",
       "    </tr>\n",
       "  </tbody>\n",
       "</table>\n",
       "</div>"
      ],
      "text/plain": [
       "   PREGNANCIES  GLUCOSE  BLOODPRESSURE  SKINTHICKNESS  INSULIN    BMI  \\\n",
       "0            6  148.000         72.000         35.000  125.000 33.600   \n",
       "1            1   85.000         66.000         29.000  125.000 26.600   \n",
       "2            8  183.000         64.000         29.000  125.000 23.300   \n",
       "3            1   89.000         66.000         23.000   94.000 28.100   \n",
       "4            0  137.000         40.000         35.000  168.000 43.100   \n",
       "\n",
       "   DIABETESPEDIGREEFUNCTION  AGE  OUTCOME  NEW_AGE_CAT  NEW_INSULIN_SCORE  \\\n",
       "0                     0.627   50        1            1                  1   \n",
       "1                     0.351   31        0            0                  1   \n",
       "2                     0.672   32        1            0                  1   \n",
       "3                     0.167   21        0            0                  1   \n",
       "4                     2.288   33        1            0                  0   \n",
       "\n",
       "   NEW_GLUCOSE*INSULIN  NEW_GLUCOSE*PREGNANCIES  NEW_AGE_BMI_NOM_obesesenior  \\\n",
       "0            18500.000                  888.000                         True   \n",
       "1            10625.000                   85.000                        False   \n",
       "2            22875.000                 1464.000                        False   \n",
       "3             8366.000                   89.000                        False   \n",
       "4            23016.000                    0.000                        False   \n",
       "\n",
       "   NEW_AGE_BMI_NOM_underweightmature  NEW_AGE_GLUCOSE_NOM_hiddensenior  \\\n",
       "0                              False                             False   \n",
       "1                              False                             False   \n",
       "2                              False                             False   \n",
       "3                              False                             False   \n",
       "4                              False                             False   \n",
       "\n",
       "   NEW_AGE_GLUCOSE_NOM_highmature  NEW_AGE_GLUCOSE_NOM_highsenior  \\\n",
       "0                           False                            True   \n",
       "1                           False                           False   \n",
       "2                            True                           False   \n",
       "3                           False                           False   \n",
       "4                            True                           False   \n",
       "\n",
       "   NEW_AGE_GLUCOSE_NOM_lowmature  NEW_AGE_GLUCOSE_NOM_lowsenior  \\\n",
       "0                          False                          False   \n",
       "1                          False                          False   \n",
       "2                          False                          False   \n",
       "3                          False                          False   \n",
       "4                          False                          False   \n",
       "\n",
       "   NEW_AGE_GLUCOSE_NOM_normalmature  NEW_AGE_GLUCOSE_NOM_normalsenior  \\\n",
       "0                             False                             False   \n",
       "1                              True                             False   \n",
       "2                             False                             False   \n",
       "3                              True                             False   \n",
       "4                             False                             False   \n",
       "\n",
       "   NEW_BMI_Healthy  NEW_BMI_Overweight  NEW_BMI_Obese  \\\n",
       "0            False               False           True   \n",
       "1            False                True          False   \n",
       "2             True               False          False   \n",
       "3            False                True          False   \n",
       "4            False               False           True   \n",
       "\n",
       "   NEW_GLUCOSE_Prediabetes  NEW_GLUCOSE_Diabetes  \n",
       "0                     True                 False  \n",
       "1                    False                 False  \n",
       "2                     True                 False  \n",
       "3                    False                 False  \n",
       "4                    False                 False  "
      ]
     },
     "execution_count": 62,
     "metadata": {},
     "output_type": "execute_result"
    }
   ],
   "source": [
    "df.head()"
   ]
  },
  {
   "cell_type": "markdown",
   "id": "fe5387d4",
   "metadata": {
    "papermill": {
     "duration": 0.03413,
     "end_time": "2025-03-05T19:25:09.833717",
     "exception": false,
     "start_time": "2025-03-05T19:25:09.799587",
     "status": "completed"
    },
    "tags": []
   },
   "source": [
    "## 2.5) STANDARTLAŞTIRMA\n",
    "Standartlaştırma, değişkenlerin ortalamasını 0 ve standart sapmasını 1 yaparak, verileri aynı ölçeğe getirme işlemidir.\n",
    "\n",
    "🧐 Neden Gerekli?\\\n",
    "Veri setinde farklı ölçeklerde değişkenler olabilir:\n",
    "\n",
    "Yaş: 21, 35, 50 gibi küçük değerler\\\n",
    "Gelir: 3.000 TL, 15.000 TL, 50.000 TL gibi büyük değerler\\\n",
    "Ev Metrekare: 60m², 120m², 250m² gibi farklı büyüklükte değerler\\\n",
    "Bu farklı ölçekler bazı algoritmalarda sorun yaratır.\\\n",
    "Örneğin, Lojistik Regresyon, KNN, K-Means, PCA, SVM gibi algoritmalar uzaklık veya ağırlıklı katsayılar kullanır.\\\n",
    "Eğer değişkenlerin ölçekleri çok farklıysa, büyük sayılar modele baskın gelir ve diğer değişkenlerin etkisi azalır.\n",
    "\n",
    "Bu yüzden standartlaştırma yaparak tüm değişkenleri benzer bir ölçeğe getirmek gerekir."
   ]
  },
  {
   "cell_type": "markdown",
   "id": "36938960",
   "metadata": {
    "papermill": {
     "duration": 0.033447,
     "end_time": "2025-03-05T19:25:09.901724",
     "exception": false,
     "start_time": "2025-03-05T19:25:09.868277",
     "status": "completed"
    },
    "tags": []
   },
   "source": [
    "🚀 Standartlaştırmayı Kullanman Gereken Algoritmalar\\\n",
    "✅ Standartlaştırma önemliyse:\n",
    "\n",
    "Lojistik Regresyon, Doğrusal Regresyon (Katsayıların büyüklüğüne duyarlıdır.)\\\n",
    "KNN (K-Nearest Neighbors) (Öklid uzaklığı ölçeğe duyarlıdır.)\\\n",
    "SVM (Support Vector Machine) (Kernel yöntemleri uzaklığa duyarlıdır.)\\\n",
    "PCA (Principal Component Analysis) (Özniteliklerin varyansını kullanır.)\\\n",
    "K-Means (Kümeler uzaklığa göre belirlenir.)\n",
    "\n",
    "❌ Standartlaştırmaya gerek yoksa:\\\n",
    "Ağaç tabanlı algoritmalar (Random Forest, XGBoost, LightGBM) (Bu algoritmalar ölçek bağımsızdır çünkü sadece bölme (split) işlemi yapar.)"
   ]
  },
  {
   "cell_type": "markdown",
   "id": "b5668a60",
   "metadata": {
    "papermill": {
     "duration": 0.033651,
     "end_time": "2025-03-05T19:25:09.969001",
     "exception": false,
     "start_time": "2025-03-05T19:25:09.935350",
     "status": "completed"
    },
    "tags": []
   },
   "source": [
    "**Biz ağaç tabanı bir model kullanacağımız için gerek yok ama yine de standartlaştırma uyguluyorum.**"
   ]
  },
  {
   "cell_type": "code",
   "execution_count": 63,
   "id": "c2e05e28",
   "metadata": {
    "execution": {
     "iopub.execute_input": "2025-03-05T19:25:10.037968Z",
     "iopub.status.busy": "2025-03-05T19:25:10.037589Z",
     "iopub.status.idle": "2025-03-05T19:25:10.043416Z",
     "shell.execute_reply": "2025-03-05T19:25:10.042390Z"
    },
    "papermill": {
     "duration": 0.042127,
     "end_time": "2025-03-05T19:25:10.045099",
     "exception": false,
     "start_time": "2025-03-05T19:25:10.002972",
     "status": "completed"
    },
    "tags": []
   },
   "outputs": [
    {
     "data": {
      "text/plain": [
       "['PREGNANCIES',\n",
       " 'GLUCOSE',\n",
       " 'BLOODPRESSURE',\n",
       " 'SKINTHICKNESS',\n",
       " 'INSULIN',\n",
       " 'BMI',\n",
       " 'DIABETESPEDIGREEFUNCTION',\n",
       " 'AGE',\n",
       " 'NEW_GLUCOSE*INSULIN',\n",
       " 'NEW_GLUCOSE*PREGNANCIES']"
      ]
     },
     "execution_count": 63,
     "metadata": {},
     "output_type": "execute_result"
    }
   ],
   "source": [
    "num_cols"
   ]
  },
  {
   "cell_type": "code",
   "execution_count": 64,
   "id": "1d25979c",
   "metadata": {
    "execution": {
     "iopub.execute_input": "2025-03-05T19:25:10.115393Z",
     "iopub.status.busy": "2025-03-05T19:25:10.115027Z",
     "iopub.status.idle": "2025-03-05T19:25:10.124871Z",
     "shell.execute_reply": "2025-03-05T19:25:10.123958Z"
    },
    "papermill": {
     "duration": 0.046707,
     "end_time": "2025-03-05T19:25:10.126697",
     "exception": false,
     "start_time": "2025-03-05T19:25:10.079990",
     "status": "completed"
    },
    "tags": []
   },
   "outputs": [],
   "source": [
    "scaler = StandardScaler() # ortalaması sıfır, standart sapması bir olacak sekilde standardize ediyor.\n",
    "df[num_cols] = scaler.fit_transform(df[num_cols])"
   ]
  },
  {
   "cell_type": "code",
   "execution_count": 65,
   "id": "c786c995",
   "metadata": {
    "execution": {
     "iopub.execute_input": "2025-03-05T19:25:10.196574Z",
     "iopub.status.busy": "2025-03-05T19:25:10.196190Z",
     "iopub.status.idle": "2025-03-05T19:25:10.215630Z",
     "shell.execute_reply": "2025-03-05T19:25:10.214526Z"
    },
    "papermill": {
     "duration": 0.056501,
     "end_time": "2025-03-05T19:25:10.217479",
     "exception": false,
     "start_time": "2025-03-05T19:25:10.160978",
     "status": "completed"
    },
    "tags": []
   },
   "outputs": [
    {
     "data": {
      "text/html": [
       "<div>\n",
       "<style scoped>\n",
       "    .dataframe tbody tr th:only-of-type {\n",
       "        vertical-align: middle;\n",
       "    }\n",
       "\n",
       "    .dataframe tbody tr th {\n",
       "        vertical-align: top;\n",
       "    }\n",
       "\n",
       "    .dataframe thead th {\n",
       "        text-align: right;\n",
       "    }\n",
       "</style>\n",
       "<table border=\"1\" class=\"dataframe\">\n",
       "  <thead>\n",
       "    <tr style=\"text-align: right;\">\n",
       "      <th></th>\n",
       "      <th>PREGNANCIES</th>\n",
       "      <th>GLUCOSE</th>\n",
       "      <th>BLOODPRESSURE</th>\n",
       "      <th>SKINTHICKNESS</th>\n",
       "      <th>INSULIN</th>\n",
       "      <th>BMI</th>\n",
       "      <th>DIABETESPEDIGREEFUNCTION</th>\n",
       "      <th>AGE</th>\n",
       "      <th>OUTCOME</th>\n",
       "      <th>NEW_AGE_CAT</th>\n",
       "      <th>NEW_INSULIN_SCORE</th>\n",
       "      <th>NEW_GLUCOSE*INSULIN</th>\n",
       "      <th>NEW_GLUCOSE*PREGNANCIES</th>\n",
       "      <th>NEW_AGE_BMI_NOM_obesesenior</th>\n",
       "      <th>NEW_AGE_BMI_NOM_underweightmature</th>\n",
       "      <th>NEW_AGE_GLUCOSE_NOM_hiddensenior</th>\n",
       "      <th>NEW_AGE_GLUCOSE_NOM_highmature</th>\n",
       "      <th>NEW_AGE_GLUCOSE_NOM_highsenior</th>\n",
       "      <th>NEW_AGE_GLUCOSE_NOM_lowmature</th>\n",
       "      <th>NEW_AGE_GLUCOSE_NOM_lowsenior</th>\n",
       "      <th>NEW_AGE_GLUCOSE_NOM_normalmature</th>\n",
       "      <th>NEW_AGE_GLUCOSE_NOM_normalsenior</th>\n",
       "      <th>NEW_BMI_Healthy</th>\n",
       "      <th>NEW_BMI_Overweight</th>\n",
       "      <th>NEW_BMI_Obese</th>\n",
       "      <th>NEW_GLUCOSE_Prediabetes</th>\n",
       "      <th>NEW_GLUCOSE_Diabetes</th>\n",
       "    </tr>\n",
       "  </thead>\n",
       "  <tbody>\n",
       "    <tr>\n",
       "      <th>0</th>\n",
       "      <td>0.640</td>\n",
       "      <td>0.866</td>\n",
       "      <td>-0.032</td>\n",
       "      <td>0.680</td>\n",
       "      <td>-0.183</td>\n",
       "      <td>0.167</td>\n",
       "      <td>0.468</td>\n",
       "      <td>1.426</td>\n",
       "      <td>1</td>\n",
       "      <td>1</td>\n",
       "      <td>1</td>\n",
       "      <td>0.024</td>\n",
       "      <td>0.882</td>\n",
       "      <td>True</td>\n",
       "      <td>False</td>\n",
       "      <td>False</td>\n",
       "      <td>False</td>\n",
       "      <td>True</td>\n",
       "      <td>False</td>\n",
       "      <td>False</td>\n",
       "      <td>False</td>\n",
       "      <td>False</td>\n",
       "      <td>False</td>\n",
       "      <td>False</td>\n",
       "      <td>True</td>\n",
       "      <td>True</td>\n",
       "      <td>False</td>\n",
       "    </tr>\n",
       "    <tr>\n",
       "      <th>1</th>\n",
       "      <td>-0.845</td>\n",
       "      <td>-1.205</td>\n",
       "      <td>-0.528</td>\n",
       "      <td>-0.011</td>\n",
       "      <td>-0.183</td>\n",
       "      <td>-0.852</td>\n",
       "      <td>-0.365</td>\n",
       "      <td>-0.191</td>\n",
       "      <td>0</td>\n",
       "      <td>0</td>\n",
       "      <td>1</td>\n",
       "      <td>-0.503</td>\n",
       "      <td>-0.858</td>\n",
       "      <td>False</td>\n",
       "      <td>False</td>\n",
       "      <td>False</td>\n",
       "      <td>False</td>\n",
       "      <td>False</td>\n",
       "      <td>False</td>\n",
       "      <td>False</td>\n",
       "      <td>True</td>\n",
       "      <td>False</td>\n",
       "      <td>False</td>\n",
       "      <td>True</td>\n",
       "      <td>False</td>\n",
       "      <td>False</td>\n",
       "      <td>False</td>\n",
       "    </tr>\n",
       "    <tr>\n",
       "      <th>2</th>\n",
       "      <td>1.234</td>\n",
       "      <td>2.017</td>\n",
       "      <td>-0.694</td>\n",
       "      <td>-0.011</td>\n",
       "      <td>-0.183</td>\n",
       "      <td>-1.333</td>\n",
       "      <td>0.604</td>\n",
       "      <td>-0.106</td>\n",
       "      <td>1</td>\n",
       "      <td>0</td>\n",
       "      <td>1</td>\n",
       "      <td>0.317</td>\n",
       "      <td>2.129</td>\n",
       "      <td>False</td>\n",
       "      <td>False</td>\n",
       "      <td>False</td>\n",
       "      <td>True</td>\n",
       "      <td>False</td>\n",
       "      <td>False</td>\n",
       "      <td>False</td>\n",
       "      <td>False</td>\n",
       "      <td>False</td>\n",
       "      <td>True</td>\n",
       "      <td>False</td>\n",
       "      <td>False</td>\n",
       "      <td>True</td>\n",
       "      <td>False</td>\n",
       "    </tr>\n",
       "    <tr>\n",
       "      <th>3</th>\n",
       "      <td>-0.845</td>\n",
       "      <td>-1.074</td>\n",
       "      <td>-0.528</td>\n",
       "      <td>-0.702</td>\n",
       "      <td>-0.553</td>\n",
       "      <td>-0.634</td>\n",
       "      <td>-0.921</td>\n",
       "      <td>-1.042</td>\n",
       "      <td>0</td>\n",
       "      <td>0</td>\n",
       "      <td>1</td>\n",
       "      <td>-0.654</td>\n",
       "      <td>-0.849</td>\n",
       "      <td>False</td>\n",
       "      <td>False</td>\n",
       "      <td>False</td>\n",
       "      <td>False</td>\n",
       "      <td>False</td>\n",
       "      <td>False</td>\n",
       "      <td>False</td>\n",
       "      <td>True</td>\n",
       "      <td>False</td>\n",
       "      <td>False</td>\n",
       "      <td>True</td>\n",
       "      <td>False</td>\n",
       "      <td>False</td>\n",
       "      <td>False</td>\n",
       "    </tr>\n",
       "    <tr>\n",
       "      <th>4</th>\n",
       "      <td>-1.142</td>\n",
       "      <td>0.504</td>\n",
       "      <td>-2.679</td>\n",
       "      <td>0.680</td>\n",
       "      <td>0.331</td>\n",
       "      <td>1.549</td>\n",
       "      <td>5.485</td>\n",
       "      <td>-0.020</td>\n",
       "      <td>1</td>\n",
       "      <td>0</td>\n",
       "      <td>0</td>\n",
       "      <td>0.326</td>\n",
       "      <td>-1.042</td>\n",
       "      <td>False</td>\n",
       "      <td>False</td>\n",
       "      <td>False</td>\n",
       "      <td>True</td>\n",
       "      <td>False</td>\n",
       "      <td>False</td>\n",
       "      <td>False</td>\n",
       "      <td>False</td>\n",
       "      <td>False</td>\n",
       "      <td>False</td>\n",
       "      <td>False</td>\n",
       "      <td>True</td>\n",
       "      <td>False</td>\n",
       "      <td>False</td>\n",
       "    </tr>\n",
       "  </tbody>\n",
       "</table>\n",
       "</div>"
      ],
      "text/plain": [
       "   PREGNANCIES  GLUCOSE  BLOODPRESSURE  SKINTHICKNESS  INSULIN    BMI  \\\n",
       "0        0.640    0.866         -0.032          0.680   -0.183  0.167   \n",
       "1       -0.845   -1.205         -0.528         -0.011   -0.183 -0.852   \n",
       "2        1.234    2.017         -0.694         -0.011   -0.183 -1.333   \n",
       "3       -0.845   -1.074         -0.528         -0.702   -0.553 -0.634   \n",
       "4       -1.142    0.504         -2.679          0.680    0.331  1.549   \n",
       "\n",
       "   DIABETESPEDIGREEFUNCTION    AGE  OUTCOME  NEW_AGE_CAT  NEW_INSULIN_SCORE  \\\n",
       "0                     0.468  1.426        1            1                  1   \n",
       "1                    -0.365 -0.191        0            0                  1   \n",
       "2                     0.604 -0.106        1            0                  1   \n",
       "3                    -0.921 -1.042        0            0                  1   \n",
       "4                     5.485 -0.020        1            0                  0   \n",
       "\n",
       "   NEW_GLUCOSE*INSULIN  NEW_GLUCOSE*PREGNANCIES  NEW_AGE_BMI_NOM_obesesenior  \\\n",
       "0                0.024                    0.882                         True   \n",
       "1               -0.503                   -0.858                        False   \n",
       "2                0.317                    2.129                        False   \n",
       "3               -0.654                   -0.849                        False   \n",
       "4                0.326                   -1.042                        False   \n",
       "\n",
       "   NEW_AGE_BMI_NOM_underweightmature  NEW_AGE_GLUCOSE_NOM_hiddensenior  \\\n",
       "0                              False                             False   \n",
       "1                              False                             False   \n",
       "2                              False                             False   \n",
       "3                              False                             False   \n",
       "4                              False                             False   \n",
       "\n",
       "   NEW_AGE_GLUCOSE_NOM_highmature  NEW_AGE_GLUCOSE_NOM_highsenior  \\\n",
       "0                           False                            True   \n",
       "1                           False                           False   \n",
       "2                            True                           False   \n",
       "3                           False                           False   \n",
       "4                            True                           False   \n",
       "\n",
       "   NEW_AGE_GLUCOSE_NOM_lowmature  NEW_AGE_GLUCOSE_NOM_lowsenior  \\\n",
       "0                          False                          False   \n",
       "1                          False                          False   \n",
       "2                          False                          False   \n",
       "3                          False                          False   \n",
       "4                          False                          False   \n",
       "\n",
       "   NEW_AGE_GLUCOSE_NOM_normalmature  NEW_AGE_GLUCOSE_NOM_normalsenior  \\\n",
       "0                             False                             False   \n",
       "1                              True                             False   \n",
       "2                             False                             False   \n",
       "3                              True                             False   \n",
       "4                             False                             False   \n",
       "\n",
       "   NEW_BMI_Healthy  NEW_BMI_Overweight  NEW_BMI_Obese  \\\n",
       "0            False               False           True   \n",
       "1            False                True          False   \n",
       "2             True               False          False   \n",
       "3            False                True          False   \n",
       "4            False               False           True   \n",
       "\n",
       "   NEW_GLUCOSE_Prediabetes  NEW_GLUCOSE_Diabetes  \n",
       "0                     True                 False  \n",
       "1                    False                 False  \n",
       "2                     True                 False  \n",
       "3                    False                 False  \n",
       "4                    False                 False  "
      ]
     },
     "execution_count": 65,
     "metadata": {},
     "output_type": "execute_result"
    }
   ],
   "source": [
    "df.head()"
   ]
  },
  {
   "cell_type": "code",
   "execution_count": 66,
   "id": "b68e27b8",
   "metadata": {
    "execution": {
     "iopub.execute_input": "2025-03-05T19:25:10.287619Z",
     "iopub.status.busy": "2025-03-05T19:25:10.287283Z",
     "iopub.status.idle": "2025-03-05T19:25:10.292976Z",
     "shell.execute_reply": "2025-03-05T19:25:10.291839Z"
    },
    "papermill": {
     "duration": 0.042782,
     "end_time": "2025-03-05T19:25:10.294658",
     "exception": false,
     "start_time": "2025-03-05T19:25:10.251876",
     "status": "completed"
    },
    "tags": []
   },
   "outputs": [
    {
     "data": {
      "text/plain": [
       "(768, 27)"
      ]
     },
     "execution_count": 66,
     "metadata": {},
     "output_type": "execute_result"
    }
   ],
   "source": [
    "df.shape"
   ]
  },
  {
   "cell_type": "code",
   "execution_count": 67,
   "id": "4ba6cdb6",
   "metadata": {
    "execution": {
     "iopub.execute_input": "2025-03-05T19:25:10.365870Z",
     "iopub.status.busy": "2025-03-05T19:25:10.365496Z",
     "iopub.status.idle": "2025-03-05T19:25:10.399419Z",
     "shell.execute_reply": "2025-03-05T19:25:10.398315Z"
    },
    "papermill": {
     "duration": 0.071605,
     "end_time": "2025-03-05T19:25:10.401182",
     "exception": false,
     "start_time": "2025-03-05T19:25:10.329577",
     "status": "completed"
    },
    "tags": []
   },
   "outputs": [
    {
     "data": {
      "text/html": [
       "<div>\n",
       "<style scoped>\n",
       "    .dataframe tbody tr th:only-of-type {\n",
       "        vertical-align: middle;\n",
       "    }\n",
       "\n",
       "    .dataframe tbody tr th {\n",
       "        vertical-align: top;\n",
       "    }\n",
       "\n",
       "    .dataframe thead th {\n",
       "        text-align: right;\n",
       "    }\n",
       "</style>\n",
       "<table border=\"1\" class=\"dataframe\">\n",
       "  <thead>\n",
       "    <tr style=\"text-align: right;\">\n",
       "      <th></th>\n",
       "      <th>PREGNANCIES</th>\n",
       "      <th>GLUCOSE</th>\n",
       "      <th>BLOODPRESSURE</th>\n",
       "      <th>SKINTHICKNESS</th>\n",
       "      <th>INSULIN</th>\n",
       "      <th>BMI</th>\n",
       "      <th>DIABETESPEDIGREEFUNCTION</th>\n",
       "      <th>AGE</th>\n",
       "      <th>OUTCOME</th>\n",
       "      <th>NEW_AGE_CAT</th>\n",
       "      <th>NEW_INSULIN_SCORE</th>\n",
       "      <th>NEW_GLUCOSE*INSULIN</th>\n",
       "      <th>NEW_GLUCOSE*PREGNANCIES</th>\n",
       "    </tr>\n",
       "  </thead>\n",
       "  <tbody>\n",
       "    <tr>\n",
       "      <th>count</th>\n",
       "      <td>768.000</td>\n",
       "      <td>768.000</td>\n",
       "      <td>768.000</td>\n",
       "      <td>768.000</td>\n",
       "      <td>768.000</td>\n",
       "      <td>768.000</td>\n",
       "      <td>768.000</td>\n",
       "      <td>768.000</td>\n",
       "      <td>768.000</td>\n",
       "      <td>768.000</td>\n",
       "      <td>768.000</td>\n",
       "      <td>768.000</td>\n",
       "      <td>768.000</td>\n",
       "    </tr>\n",
       "    <tr>\n",
       "      <th>mean</th>\n",
       "      <td>-0.000</td>\n",
       "      <td>0.000</td>\n",
       "      <td>0.000</td>\n",
       "      <td>0.000</td>\n",
       "      <td>-0.000</td>\n",
       "      <td>0.000</td>\n",
       "      <td>-0.000</td>\n",
       "      <td>0.000</td>\n",
       "      <td>0.349</td>\n",
       "      <td>0.116</td>\n",
       "      <td>0.826</td>\n",
       "      <td>-0.000</td>\n",
       "      <td>0.000</td>\n",
       "    </tr>\n",
       "    <tr>\n",
       "      <th>std</th>\n",
       "      <td>1.001</td>\n",
       "      <td>1.001</td>\n",
       "      <td>1.001</td>\n",
       "      <td>1.001</td>\n",
       "      <td>1.001</td>\n",
       "      <td>1.001</td>\n",
       "      <td>1.001</td>\n",
       "      <td>1.001</td>\n",
       "      <td>0.477</td>\n",
       "      <td>0.320</td>\n",
       "      <td>0.380</td>\n",
       "      <td>1.001</td>\n",
       "      <td>1.001</td>\n",
       "    </tr>\n",
       "    <tr>\n",
       "      <th>min</th>\n",
       "      <td>-1.142</td>\n",
       "      <td>-2.553</td>\n",
       "      <td>-4.003</td>\n",
       "      <td>-2.544</td>\n",
       "      <td>-1.510</td>\n",
       "      <td>-2.075</td>\n",
       "      <td>-1.190</td>\n",
       "      <td>-1.042</td>\n",
       "      <td>0.000</td>\n",
       "      <td>0.000</td>\n",
       "      <td>0.000</td>\n",
       "      <td>-1.145</td>\n",
       "      <td>-1.042</td>\n",
       "    </tr>\n",
       "    <tr>\n",
       "      <th>25%</th>\n",
       "      <td>-0.845</td>\n",
       "      <td>-0.720</td>\n",
       "      <td>-0.694</td>\n",
       "      <td>-0.471</td>\n",
       "      <td>-0.225</td>\n",
       "      <td>-0.721</td>\n",
       "      <td>-0.689</td>\n",
       "      <td>-0.786</td>\n",
       "      <td>0.000</td>\n",
       "      <td>0.000</td>\n",
       "      <td>1.000</td>\n",
       "      <td>-0.478</td>\n",
       "      <td>-0.788</td>\n",
       "    </tr>\n",
       "    <tr>\n",
       "      <th>50%</th>\n",
       "      <td>-0.251</td>\n",
       "      <td>-0.153</td>\n",
       "      <td>-0.032</td>\n",
       "      <td>-0.011</td>\n",
       "      <td>-0.183</td>\n",
       "      <td>-0.023</td>\n",
       "      <td>-0.300</td>\n",
       "      <td>-0.361</td>\n",
       "      <td>0.000</td>\n",
       "      <td>0.000</td>\n",
       "      <td>1.000</td>\n",
       "      <td>-0.235</td>\n",
       "      <td>-0.306</td>\n",
       "    </tr>\n",
       "    <tr>\n",
       "      <th>75%</th>\n",
       "      <td>0.640</td>\n",
       "      <td>0.611</td>\n",
       "      <td>0.630</td>\n",
       "      <td>0.335</td>\n",
       "      <td>-0.156</td>\n",
       "      <td>0.603</td>\n",
       "      <td>0.466</td>\n",
       "      <td>0.660</td>\n",
       "      <td>1.000</td>\n",
       "      <td>0.000</td>\n",
       "      <td>1.000</td>\n",
       "      <td>0.116</td>\n",
       "      <td>0.518</td>\n",
       "    </tr>\n",
       "    <tr>\n",
       "      <th>max</th>\n",
       "      <td>3.907</td>\n",
       "      <td>2.543</td>\n",
       "      <td>4.104</td>\n",
       "      <td>6.838</td>\n",
       "      <td>6.184</td>\n",
       "      <td>5.042</td>\n",
       "      <td>5.884</td>\n",
       "      <td>4.064</td>\n",
       "      <td>1.000</td>\n",
       "      <td>1.000</td>\n",
       "      <td>1.000</td>\n",
       "      <td>7.450</td>\n",
       "      <td>4.961</td>\n",
       "    </tr>\n",
       "  </tbody>\n",
       "</table>\n",
       "</div>"
      ],
      "text/plain": [
       "       PREGNANCIES  GLUCOSE  BLOODPRESSURE  SKINTHICKNESS  INSULIN     BMI  \\\n",
       "count      768.000  768.000        768.000        768.000  768.000 768.000   \n",
       "mean        -0.000    0.000          0.000          0.000   -0.000   0.000   \n",
       "std          1.001    1.001          1.001          1.001    1.001   1.001   \n",
       "min         -1.142   -2.553         -4.003         -2.544   -1.510  -2.075   \n",
       "25%         -0.845   -0.720         -0.694         -0.471   -0.225  -0.721   \n",
       "50%         -0.251   -0.153         -0.032         -0.011   -0.183  -0.023   \n",
       "75%          0.640    0.611          0.630          0.335   -0.156   0.603   \n",
       "max          3.907    2.543          4.104          6.838    6.184   5.042   \n",
       "\n",
       "       DIABETESPEDIGREEFUNCTION     AGE  OUTCOME  NEW_AGE_CAT  \\\n",
       "count                   768.000 768.000  768.000      768.000   \n",
       "mean                     -0.000   0.000    0.349        0.116   \n",
       "std                       1.001   1.001    0.477        0.320   \n",
       "min                      -1.190  -1.042    0.000        0.000   \n",
       "25%                      -0.689  -0.786    0.000        0.000   \n",
       "50%                      -0.300  -0.361    0.000        0.000   \n",
       "75%                       0.466   0.660    1.000        0.000   \n",
       "max                       5.884   4.064    1.000        1.000   \n",
       "\n",
       "       NEW_INSULIN_SCORE  NEW_GLUCOSE*INSULIN  NEW_GLUCOSE*PREGNANCIES  \n",
       "count            768.000              768.000                  768.000  \n",
       "mean               0.826               -0.000                    0.000  \n",
       "std                0.380                1.001                    1.001  \n",
       "min                0.000               -1.145                   -1.042  \n",
       "25%                1.000               -0.478                   -0.788  \n",
       "50%                1.000               -0.235                   -0.306  \n",
       "75%                1.000                0.116                    0.518  \n",
       "max                1.000                7.450                    4.961  "
      ]
     },
     "execution_count": 67,
     "metadata": {},
     "output_type": "execute_result"
    }
   ],
   "source": [
    "df.describe()"
   ]
  },
  {
   "cell_type": "markdown",
   "id": "f12ad401",
   "metadata": {
    "papermill": {
     "duration": 0.03763,
     "end_time": "2025-03-05T19:25:10.474827",
     "exception": false,
     "start_time": "2025-03-05T19:25:10.437197",
     "status": "completed"
    },
    "tags": []
   },
   "source": [
    "## 2.6) MODELLEME\n",
    "\n",
    " Feature Engineering ardından model basarısını degerlendirelim."
   ]
  },
  {
   "cell_type": "code",
   "execution_count": 68,
   "id": "31c5cf5b",
   "metadata": {
    "execution": {
     "iopub.execute_input": "2025-03-05T19:25:10.551595Z",
     "iopub.status.busy": "2025-03-05T19:25:10.551144Z",
     "iopub.status.idle": "2025-03-05T19:25:10.557896Z",
     "shell.execute_reply": "2025-03-05T19:25:10.556655Z"
    },
    "papermill": {
     "duration": 0.046191,
     "end_time": "2025-03-05T19:25:10.559683",
     "exception": false,
     "start_time": "2025-03-05T19:25:10.513492",
     "status": "completed"
    },
    "tags": []
   },
   "outputs": [],
   "source": [
    "y = df[\"OUTCOME\"]\n",
    "X = df.drop(\"OUTCOME\", axis=1)"
   ]
  },
  {
   "cell_type": "code",
   "execution_count": 69,
   "id": "9d645c2c",
   "metadata": {
    "execution": {
     "iopub.execute_input": "2025-03-05T19:25:10.635160Z",
     "iopub.status.busy": "2025-03-05T19:25:10.634845Z",
     "iopub.status.idle": "2025-03-05T19:25:10.642843Z",
     "shell.execute_reply": "2025-03-05T19:25:10.641636Z"
    },
    "papermill": {
     "duration": 0.047165,
     "end_time": "2025-03-05T19:25:10.644833",
     "exception": false,
     "start_time": "2025-03-05T19:25:10.597668",
     "status": "completed"
    },
    "tags": []
   },
   "outputs": [],
   "source": [
    "X_train, X_test, y_train, y_test = train_test_split(X, y, test_size=0.30, random_state=17)"
   ]
  },
  {
   "cell_type": "code",
   "execution_count": 70,
   "id": "d9a62dc8",
   "metadata": {
    "execution": {
     "iopub.execute_input": "2025-03-05T19:25:10.718580Z",
     "iopub.status.busy": "2025-03-05T19:25:10.718177Z",
     "iopub.status.idle": "2025-03-05T19:25:10.936807Z",
     "shell.execute_reply": "2025-03-05T19:25:10.935812Z"
    },
    "papermill": {
     "duration": 0.256673,
     "end_time": "2025-03-05T19:25:10.938620",
     "exception": false,
     "start_time": "2025-03-05T19:25:10.681947",
     "status": "completed"
    },
    "tags": []
   },
   "outputs": [],
   "source": [
    "rf_model = RandomForestClassifier(random_state=46).fit(X_train, y_train)\n",
    "y_pred = rf_model.predict(X_test)"
   ]
  },
  {
   "cell_type": "code",
   "execution_count": 71,
   "id": "1f65b5c8",
   "metadata": {
    "execution": {
     "iopub.execute_input": "2025-03-05T19:25:11.011433Z",
     "iopub.status.busy": "2025-03-05T19:25:11.011044Z",
     "iopub.status.idle": "2025-03-05T19:25:11.029381Z",
     "shell.execute_reply": "2025-03-05T19:25:11.028074Z"
    },
    "papermill": {
     "duration": 0.057218,
     "end_time": "2025-03-05T19:25:11.031142",
     "exception": false,
     "start_time": "2025-03-05T19:25:10.973924",
     "status": "completed"
    },
    "tags": []
   },
   "outputs": [
    {
     "name": "stdout",
     "output_type": "stream",
     "text": [
      "Accuracy: 0.79\n",
      "Recall: 0.711\n",
      "Precision: 0.67\n",
      "F1: 0.69\n",
      "Auc: 0.77\n"
     ]
    }
   ],
   "source": [
    "print(f\"Accuracy: {round(accuracy_score(y_pred, y_test), 2)}\")\n",
    "print(f\"Recall: {round(recall_score(y_pred,y_test),3)}\")\n",
    "print(f\"Precision: {round(precision_score(y_pred,y_test), 2)}\")\n",
    "print(f\"F1: {round(f1_score(y_pred,y_test), 2)}\")\n",
    "print(f\"Auc: {round(roc_auc_score(y_pred,y_test), 2)}\")\n",
    "\n",
    "# Base Model\n",
    "# Accuracy: 0.77\n",
    "# Recall: 0.706\n",
    "# Precision: 0.59\n",
    "# F1: 0.64\n",
    "# Auc: 0.75"
   ]
  },
  {
   "cell_type": "markdown",
   "id": "2f212de4",
   "metadata": {
    "papermill": {
     "duration": 0.034266,
     "end_time": "2025-03-05T19:25:11.101146",
     "exception": false,
     "start_time": "2025-03-05T19:25:11.066880",
     "status": "completed"
    },
    "tags": []
   },
   "source": [
    "## 2.7) FEATURE IMPORTANCE\n",
    "\n",
    "Feature Importance, bir modelin hangi değişkenlere daha fazla önem verdiğini belirlemek için kullanılır.\n",
    "Makine öğrenmesi modelleri, bazı değişkenlerin tahminleme için daha önemli olduğunu otomatik olarak belirleyebilir.\n",
    "Özellikle ağaç tabanlı algoritmalarda bu bilgiyi Feature Importance metriği ile görebiliriz."
   ]
  },
  {
   "cell_type": "code",
   "execution_count": 72,
   "id": "65dd8ea2",
   "metadata": {
    "execution": {
     "iopub.execute_input": "2025-03-05T19:25:11.173562Z",
     "iopub.status.busy": "2025-03-05T19:25:11.173152Z",
     "iopub.status.idle": "2025-03-05T19:25:11.751547Z",
     "shell.execute_reply": "2025-03-05T19:25:11.750418Z"
    },
    "papermill": {
     "duration": 0.618551,
     "end_time": "2025-03-05T19:25:11.755184",
     "exception": false,
     "start_time": "2025-03-05T19:25:11.136633",
     "status": "completed"
    },
    "tags": []
   },
   "outputs": [
    {
     "name": "stdout",
     "output_type": "stream",
     "text": [
      "    Value                            Feature\n",
      "1   0.138                            GLUCOSE\n",
      "10  0.131                NEW_GLUCOSE*INSULIN\n",
      "5   0.099                                BMI\n",
      "11  0.098            NEW_GLUCOSE*PREGNANCIES\n",
      "7   0.097                                AGE\n",
      "..    ...                                ...\n",
      "20  0.001   NEW_AGE_GLUCOSE_NOM_normalsenior\n",
      "17  0.000      NEW_AGE_GLUCOSE_NOM_lowmature\n",
      "13  0.000  NEW_AGE_BMI_NOM_underweightmature\n",
      "18  0.000      NEW_AGE_GLUCOSE_NOM_lowsenior\n",
      "25  0.000               NEW_GLUCOSE_Diabetes\n",
      "\n",
      "[26 rows x 2 columns]\n"
     ]
    },
    {
     "data": {
      "image/png": "[encoded data removed]",
      "text/plain": [
       "<Figure size 1000x1000 with 1 Axes>"
      ]
     },
     "metadata": {},
     "output_type": "display_data"
    }
   ],
   "source": [
    "def plot_importance(model, features, num=len(X), save=False):\n",
    "    feature_imp = pd.DataFrame({'Value': model.feature_importances_, 'Feature': features.columns})\n",
    "    print(feature_imp.sort_values(\"Value\",ascending=False))\n",
    "    plt.figure(figsize=(10, 10))\n",
    "    sns.set(font_scale=1)\n",
    "    sns.barplot(x=\"Value\", y=\"Feature\", data=feature_imp.sort_values(by=\"Value\",\n",
    "                                                                     ascending=False)[0:num])\n",
    "    plt.title('Features')\n",
    "    plt.tight_layout()\n",
    "    plt.show()\n",
    "    if save:\n",
    "        plt.savefig('importances.png')\n",
    "\n",
    "plot_importance(rf_model, X)"
   ]
  }
 ],
 "metadata": {
  "kaggle": {
   "accelerator": "none",
   "dataSources": [
    {
     "datasetId": 6773207,
     "sourceId": 10898633,
     "sourceType": "datasetVersion"
    }
   ],
   "dockerImageVersionId": 30918,
   "isGpuEnabled": false,
   "isInternetEnabled": true,
   "language": "python",
   "sourceType": "notebook"
  },
  "kernelspec": {
   "display_name": "Python 3",
   "language": "python",
   "name": "python3"
  },
  "language_info": {
   "codemirror_mode": {
    "name": "ipython",
    "version": 3
   },
   "file_extension": ".py",
   "mimetype": "text/x-python",
   "name": "python",
   "nbconvert_exporter": "python",
   "pygments_lexer": "ipython3",
   "version": "3.10.12"
  },
  "papermill": {
   "default_parameters": {},
   "duration": 18.410536,
   "end_time": "2025-03-05T19:25:12.620644",
   "environment_variables": {},
   "exception": null,
   "input_path": "__notebook__.ipynb",
   "output_path": "__notebook__.ipynb",
   "parameters": {},
   "start_time": "2025-03-05T19:24:54.210108",
   "version": "2.6.0"
  }
 },
 "nbformat": 4,
 "nbformat_minor": 5
}
